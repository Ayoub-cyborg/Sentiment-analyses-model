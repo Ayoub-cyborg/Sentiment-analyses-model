{
  "cells": [
    {
      "cell_type": "code",
      "execution_count": 1,
      "metadata": {
        "id": "1Le23vpVIozU"
      },
      "outputs": [],
      "source": [
        "import pandas as pd\n",
        "import numpy as np\n",
        "import re\n",
        "import nltk\n",
        "from nltk.corpus import stopwords\n",
        "from nltk.tokenize import word_tokenize\n",
        "from nltk.stem import WordNetLemmatizer\n",
        "from sklearn.model_selection import train_test_split\n",
        "from sklearn.feature_extraction.text import CountVectorizer,TfidfVectorizer\n",
        "from sklearn.svm import SVC\n",
        "from sklearn.metrics import accuracy_score\n",
        "from gensim.models import Word2Vec"
      ]
    },
    {
      "cell_type": "markdown",
      "metadata": {
        "id": "3lhGo9PzIozW"
      },
      "source": [
        "Data Importation"
      ]
    },
    {
      "cell_type": "code",
      "source": [
        "from google.colab import drive\n",
        "drive.mount('/content/drive')"
      ],
      "metadata": {
        "id": "EidMNe8yJT-t",
        "outputId": "91c32b3c-2df7-4228-a24a-def9ef99d99a",
        "colab": {
          "base_uri": "https://localhost:8080/"
        }
      },
      "execution_count": 3,
      "outputs": [
        {
          "output_type": "stream",
          "name": "stdout",
          "text": [
            "Mounted at /content/drive\n"
          ]
        }
      ]
    },
    {
      "cell_type": "code",
      "source": [
        "dataset_path = '/content/drive/MyDrive/Cell_Phones_and_Accessories_5.json'"
      ],
      "metadata": {
        "id": "HRhrEDyORdK_"
      },
      "execution_count": 4,
      "outputs": []
    },
    {
      "cell_type": "code",
      "execution_count": 5,
      "metadata": {
        "id": "I6BXXYmAIozY",
        "outputId": "0d32601c-1c54-42b7-fe16-21c193434558",
        "colab": {
          "base_uri": "https://localhost:8080/",
          "height": 563
        }
      },
      "outputs": [
        {
          "output_type": "execute_result",
          "data": {
            "text/plain": [
              "       reviewerID        asin      reviewerName helpful  \\\n",
              "0  A30TL5EWN6DFXT  120401325X         christina  [0, 0]   \n",
              "1   ASY55RVNIL0UD  120401325X          emily l.  [0, 0]   \n",
              "2  A2TMXE2AFO7ONB  120401325X             Erica  [0, 0]   \n",
              "3   AWJ0WZQYMYFQ4  120401325X                JM  [4, 4]   \n",
              "4   ATX7CZYFXI1KW  120401325X  patrice m rogoza  [2, 3]   \n",
              "5   APX47D16JOP7H  120401325X               RLH  [1, 2]   \n",
              "6  A1JVVYYO7G56DS  120401325X       Tyler Evans  [0, 0]   \n",
              "7   A6FGO4TBZ3QFZ  3998899561  Abdullah Albyati  [1, 2]   \n",
              "8  A2JWEDW5FSVB0F  3998899561              Adam  [2, 3]   \n",
              "9   A8AJS1DW7L3JJ  3998899561   Agata Majchrzak  [1, 1]   \n",
              "\n",
              "                                          reviewText  overall  \\\n",
              "0  They look good and stick good! I just don't li...        4   \n",
              "1  These stickers work like the review says they ...        5   \n",
              "2  These are awesome and make my phone look so st...        5   \n",
              "3  Item arrived in great time and was in perfect ...        4   \n",
              "4  awesome! stays on, and looks great. can be use...        5   \n",
              "5  These make using the home button easy. My daug...        3   \n",
              "6  Came just as described.. It doesn't come unstu...        5   \n",
              "7  it worked for the first week then it only char...        1   \n",
              "8  Good case, solid build. Protects phone all aro...        5   \n",
              "9  This is a fantastic case. Very stylish and pro...        5   \n",
              "\n",
              "                                     summary  unixReviewTime   reviewTime  \n",
              "0                                 Looks Good      1400630400  05 21, 2014  \n",
              "1                      Really great product.      1389657600  01 14, 2014  \n",
              "2                             LOVE LOVE LOVE      1403740800  06 26, 2014  \n",
              "3                                      Cute!      1382313600  10 21, 2013  \n",
              "4  leopard home button sticker for iphone 4s      1359849600   02 3, 2013  \n",
              "5                                       Cute      1381536000  10 12, 2013  \n",
              "6                          best thing ever..      1377129600  08 22, 2013  \n",
              "7                            not a good Idea      1384992000  11 21, 2013  \n",
              "8                                 Solid Case      1380067200  09 25, 2013  \n",
              "9                               Perfect Case      1396483200   04 3, 2014  "
            ],
            "text/html": [
              "\n",
              "  <div id=\"df-5c13d011-afe2-42d4-8c38-58a22b9d4bb7\">\n",
              "    <div class=\"colab-df-container\">\n",
              "      <div>\n",
              "<style scoped>\n",
              "    .dataframe tbody tr th:only-of-type {\n",
              "        vertical-align: middle;\n",
              "    }\n",
              "\n",
              "    .dataframe tbody tr th {\n",
              "        vertical-align: top;\n",
              "    }\n",
              "\n",
              "    .dataframe thead th {\n",
              "        text-align: right;\n",
              "    }\n",
              "</style>\n",
              "<table border=\"1\" class=\"dataframe\">\n",
              "  <thead>\n",
              "    <tr style=\"text-align: right;\">\n",
              "      <th></th>\n",
              "      <th>reviewerID</th>\n",
              "      <th>asin</th>\n",
              "      <th>reviewerName</th>\n",
              "      <th>helpful</th>\n",
              "      <th>reviewText</th>\n",
              "      <th>overall</th>\n",
              "      <th>summary</th>\n",
              "      <th>unixReviewTime</th>\n",
              "      <th>reviewTime</th>\n",
              "    </tr>\n",
              "  </thead>\n",
              "  <tbody>\n",
              "    <tr>\n",
              "      <th>0</th>\n",
              "      <td>A30TL5EWN6DFXT</td>\n",
              "      <td>120401325X</td>\n",
              "      <td>christina</td>\n",
              "      <td>[0, 0]</td>\n",
              "      <td>They look good and stick good! I just don't li...</td>\n",
              "      <td>4</td>\n",
              "      <td>Looks Good</td>\n",
              "      <td>1400630400</td>\n",
              "      <td>05 21, 2014</td>\n",
              "    </tr>\n",
              "    <tr>\n",
              "      <th>1</th>\n",
              "      <td>ASY55RVNIL0UD</td>\n",
              "      <td>120401325X</td>\n",
              "      <td>emily l.</td>\n",
              "      <td>[0, 0]</td>\n",
              "      <td>These stickers work like the review says they ...</td>\n",
              "      <td>5</td>\n",
              "      <td>Really great product.</td>\n",
              "      <td>1389657600</td>\n",
              "      <td>01 14, 2014</td>\n",
              "    </tr>\n",
              "    <tr>\n",
              "      <th>2</th>\n",
              "      <td>A2TMXE2AFO7ONB</td>\n",
              "      <td>120401325X</td>\n",
              "      <td>Erica</td>\n",
              "      <td>[0, 0]</td>\n",
              "      <td>These are awesome and make my phone look so st...</td>\n",
              "      <td>5</td>\n",
              "      <td>LOVE LOVE LOVE</td>\n",
              "      <td>1403740800</td>\n",
              "      <td>06 26, 2014</td>\n",
              "    </tr>\n",
              "    <tr>\n",
              "      <th>3</th>\n",
              "      <td>AWJ0WZQYMYFQ4</td>\n",
              "      <td>120401325X</td>\n",
              "      <td>JM</td>\n",
              "      <td>[4, 4]</td>\n",
              "      <td>Item arrived in great time and was in perfect ...</td>\n",
              "      <td>4</td>\n",
              "      <td>Cute!</td>\n",
              "      <td>1382313600</td>\n",
              "      <td>10 21, 2013</td>\n",
              "    </tr>\n",
              "    <tr>\n",
              "      <th>4</th>\n",
              "      <td>ATX7CZYFXI1KW</td>\n",
              "      <td>120401325X</td>\n",
              "      <td>patrice m rogoza</td>\n",
              "      <td>[2, 3]</td>\n",
              "      <td>awesome! stays on, and looks great. can be use...</td>\n",
              "      <td>5</td>\n",
              "      <td>leopard home button sticker for iphone 4s</td>\n",
              "      <td>1359849600</td>\n",
              "      <td>02 3, 2013</td>\n",
              "    </tr>\n",
              "    <tr>\n",
              "      <th>5</th>\n",
              "      <td>APX47D16JOP7H</td>\n",
              "      <td>120401325X</td>\n",
              "      <td>RLH</td>\n",
              "      <td>[1, 2]</td>\n",
              "      <td>These make using the home button easy. My daug...</td>\n",
              "      <td>3</td>\n",
              "      <td>Cute</td>\n",
              "      <td>1381536000</td>\n",
              "      <td>10 12, 2013</td>\n",
              "    </tr>\n",
              "    <tr>\n",
              "      <th>6</th>\n",
              "      <td>A1JVVYYO7G56DS</td>\n",
              "      <td>120401325X</td>\n",
              "      <td>Tyler Evans</td>\n",
              "      <td>[0, 0]</td>\n",
              "      <td>Came just as described.. It doesn't come unstu...</td>\n",
              "      <td>5</td>\n",
              "      <td>best thing ever..</td>\n",
              "      <td>1377129600</td>\n",
              "      <td>08 22, 2013</td>\n",
              "    </tr>\n",
              "    <tr>\n",
              "      <th>7</th>\n",
              "      <td>A6FGO4TBZ3QFZ</td>\n",
              "      <td>3998899561</td>\n",
              "      <td>Abdullah Albyati</td>\n",
              "      <td>[1, 2]</td>\n",
              "      <td>it worked for the first week then it only char...</td>\n",
              "      <td>1</td>\n",
              "      <td>not a good Idea</td>\n",
              "      <td>1384992000</td>\n",
              "      <td>11 21, 2013</td>\n",
              "    </tr>\n",
              "    <tr>\n",
              "      <th>8</th>\n",
              "      <td>A2JWEDW5FSVB0F</td>\n",
              "      <td>3998899561</td>\n",
              "      <td>Adam</td>\n",
              "      <td>[2, 3]</td>\n",
              "      <td>Good case, solid build. Protects phone all aro...</td>\n",
              "      <td>5</td>\n",
              "      <td>Solid Case</td>\n",
              "      <td>1380067200</td>\n",
              "      <td>09 25, 2013</td>\n",
              "    </tr>\n",
              "    <tr>\n",
              "      <th>9</th>\n",
              "      <td>A8AJS1DW7L3JJ</td>\n",
              "      <td>3998899561</td>\n",
              "      <td>Agata Majchrzak</td>\n",
              "      <td>[1, 1]</td>\n",
              "      <td>This is a fantastic case. Very stylish and pro...</td>\n",
              "      <td>5</td>\n",
              "      <td>Perfect Case</td>\n",
              "      <td>1396483200</td>\n",
              "      <td>04 3, 2014</td>\n",
              "    </tr>\n",
              "  </tbody>\n",
              "</table>\n",
              "</div>\n",
              "      <button class=\"colab-df-convert\" onclick=\"convertToInteractive('df-5c13d011-afe2-42d4-8c38-58a22b9d4bb7')\"\n",
              "              title=\"Convert this dataframe to an interactive table.\"\n",
              "              style=\"display:none;\">\n",
              "        \n",
              "  <svg xmlns=\"http://www.w3.org/2000/svg\" height=\"24px\"viewBox=\"0 0 24 24\"\n",
              "       width=\"24px\">\n",
              "    <path d=\"M0 0h24v24H0V0z\" fill=\"none\"/>\n",
              "    <path d=\"M18.56 5.44l.94 2.06.94-2.06 2.06-.94-2.06-.94-.94-2.06-.94 2.06-2.06.94zm-11 1L8.5 8.5l.94-2.06 2.06-.94-2.06-.94L8.5 2.5l-.94 2.06-2.06.94zm10 10l.94 2.06.94-2.06 2.06-.94-2.06-.94-.94-2.06-.94 2.06-2.06.94z\"/><path d=\"M17.41 7.96l-1.37-1.37c-.4-.4-.92-.59-1.43-.59-.52 0-1.04.2-1.43.59L10.3 9.45l-7.72 7.72c-.78.78-.78 2.05 0 2.83L4 21.41c.39.39.9.59 1.41.59.51 0 1.02-.2 1.41-.59l7.78-7.78 2.81-2.81c.8-.78.8-2.07 0-2.86zM5.41 20L4 18.59l7.72-7.72 1.47 1.35L5.41 20z\"/>\n",
              "  </svg>\n",
              "      </button>\n",
              "      \n",
              "  <style>\n",
              "    .colab-df-container {\n",
              "      display:flex;\n",
              "      flex-wrap:wrap;\n",
              "      gap: 12px;\n",
              "    }\n",
              "\n",
              "    .colab-df-convert {\n",
              "      background-color: #E8F0FE;\n",
              "      border: none;\n",
              "      border-radius: 50%;\n",
              "      cursor: pointer;\n",
              "      display: none;\n",
              "      fill: #1967D2;\n",
              "      height: 32px;\n",
              "      padding: 0 0 0 0;\n",
              "      width: 32px;\n",
              "    }\n",
              "\n",
              "    .colab-df-convert:hover {\n",
              "      background-color: #E2EBFA;\n",
              "      box-shadow: 0px 1px 2px rgba(60, 64, 67, 0.3), 0px 1px 3px 1px rgba(60, 64, 67, 0.15);\n",
              "      fill: #174EA6;\n",
              "    }\n",
              "\n",
              "    [theme=dark] .colab-df-convert {\n",
              "      background-color: #3B4455;\n",
              "      fill: #D2E3FC;\n",
              "    }\n",
              "\n",
              "    [theme=dark] .colab-df-convert:hover {\n",
              "      background-color: #434B5C;\n",
              "      box-shadow: 0px 1px 3px 1px rgba(0, 0, 0, 0.15);\n",
              "      filter: drop-shadow(0px 1px 2px rgba(0, 0, 0, 0.3));\n",
              "      fill: #FFFFFF;\n",
              "    }\n",
              "  </style>\n",
              "\n",
              "      <script>\n",
              "        const buttonEl =\n",
              "          document.querySelector('#df-5c13d011-afe2-42d4-8c38-58a22b9d4bb7 button.colab-df-convert');\n",
              "        buttonEl.style.display =\n",
              "          google.colab.kernel.accessAllowed ? 'block' : 'none';\n",
              "\n",
              "        async function convertToInteractive(key) {\n",
              "          const element = document.querySelector('#df-5c13d011-afe2-42d4-8c38-58a22b9d4bb7');\n",
              "          const dataTable =\n",
              "            await google.colab.kernel.invokeFunction('convertToInteractive',\n",
              "                                                     [key], {});\n",
              "          if (!dataTable) return;\n",
              "\n",
              "          const docLinkHtml = 'Like what you see? Visit the ' +\n",
              "            '<a target=\"_blank\" href=https://colab.research.google.com/notebooks/data_table.ipynb>data table notebook</a>'\n",
              "            + ' to learn more about interactive tables.';\n",
              "          element.innerHTML = '';\n",
              "          dataTable['output_type'] = 'display_data';\n",
              "          await google.colab.output.renderOutput(dataTable, element);\n",
              "          const docLink = document.createElement('div');\n",
              "          docLink.innerHTML = docLinkHtml;\n",
              "          element.appendChild(docLink);\n",
              "        }\n",
              "      </script>\n",
              "    </div>\n",
              "  </div>\n",
              "  "
            ]
          },
          "metadata": {},
          "execution_count": 5
        }
      ],
      "source": [
        "df = pd.read_json(dataset_path, lines=True)\n",
        "df.head(10)"
      ]
    },
    {
      "cell_type": "code",
      "execution_count": 5,
      "metadata": {
        "id": "P08yxJgUIoza",
        "outputId": "3f8688fc-d56c-4708-deb4-d6c24e401897",
        "colab": {
          "base_uri": "https://localhost:8080/",
          "height": 581
        }
      },
      "outputs": [
        {
          "output_type": "execute_result",
          "data": {
            "text/plain": [
              "            reviewerID        asin                      reviewerName helpful  \\\n",
              "194429   AF30DHAVSYNZ0  B00LH1R6SK                         Sasha DLH  [0, 0]   \n",
              "194430  A34KTJ4VWNBOHI  B00LH1R6SK                             Stina  [0, 0]   \n",
              "194431  A1Q1Z7IR79G52A  B00LORXVUE  Ann Ingersoll Madison Rain \"Ann\"  [0, 0]   \n",
              "194432  A388OX0ZF7OT8R  B00LORXVUE                           Chuck.C  [0, 0]   \n",
              "194433  A2BLFCOPSMBOZ9  B00LORXVUE                     Dave Edmiston  [0, 0]   \n",
              "194434  A1YMNTFLNDYQ1F  B00LORXVUE                   eyeused2loveher  [0, 0]   \n",
              "194435  A15TX8B2L8B20S  B00LORXVUE                      Jon Davidson  [0, 0]   \n",
              "194436  A3JI7QRZO1QG8X  B00LORXVUE                 Joyce M. Davidson  [0, 0]   \n",
              "194437  A1NHB2VC68YQNM  B00LORXVUE                    Nurse Farrugia  [0, 0]   \n",
              "194438  A1AG6U022WHXBF  B00LORXVUE                    Trisha Crocker  [0, 0]   \n",
              "\n",
              "                                               reviewText  overall  \\\n",
              "194429  Ahah, I love it. The case looks better than th...        5   \n",
              "194430  As someone who owns an iPhone, I absolutely lo...        5   \n",
              "194431  What a high quality cable. Right out of the pa...        5   \n",
              "194432  This one actually works unlike some others I b...        4   \n",
              "194433  I don't like the word \"hate\", so let's just sa...        5   \n",
              "194434  Works great just like my original one. I reall...        5   \n",
              "194435  Great product. Great packaging. High quality a...        5   \n",
              "194436  This is a great cable, just as good as the mor...        5   \n",
              "194437  I really like it becasue it works well with my...        5   \n",
              "194438  product as described, I have wasted a lot of m...        5   \n",
              "\n",
              "                                                  summary  unixReviewTime  \\\n",
              "194429                                         Yesssssss!      1405641600   \n",
              "194430                        Beautiful Color and Texture      1405641600   \n",
              "194431  Must have, high quality charging cable for ipa...      1405987200   \n",
              "194432                                          Long Wire      1405728000   \n",
              "194433                                     Awesome cable!      1405641600   \n",
              "194434                           This works just perfect!      1405900800   \n",
              "194435           Great replacement cable. Apple certified      1405900800   \n",
              "194436                                       Real quality      1405900800   \n",
              "194437  I really like it becasue it works well with my...      1405814400   \n",
              "194438              I have wasted a lot of money on cords      1405900800   \n",
              "\n",
              "         reviewTime  \n",
              "194429  07 18, 2014  \n",
              "194430  07 18, 2014  \n",
              "194431  07 22, 2014  \n",
              "194432  07 19, 2014  \n",
              "194433  07 18, 2014  \n",
              "194434  07 21, 2014  \n",
              "194435  07 21, 2014  \n",
              "194436  07 21, 2014  \n",
              "194437  07 20, 2014  \n",
              "194438  07 21, 2014  "
            ],
            "text/html": [
              "\n",
              "  <div id=\"df-a62b4127-10fd-48b6-b379-b2195ca15674\">\n",
              "    <div class=\"colab-df-container\">\n",
              "      <div>\n",
              "<style scoped>\n",
              "    .dataframe tbody tr th:only-of-type {\n",
              "        vertical-align: middle;\n",
              "    }\n",
              "\n",
              "    .dataframe tbody tr th {\n",
              "        vertical-align: top;\n",
              "    }\n",
              "\n",
              "    .dataframe thead th {\n",
              "        text-align: right;\n",
              "    }\n",
              "</style>\n",
              "<table border=\"1\" class=\"dataframe\">\n",
              "  <thead>\n",
              "    <tr style=\"text-align: right;\">\n",
              "      <th></th>\n",
              "      <th>reviewerID</th>\n",
              "      <th>asin</th>\n",
              "      <th>reviewerName</th>\n",
              "      <th>helpful</th>\n",
              "      <th>reviewText</th>\n",
              "      <th>overall</th>\n",
              "      <th>summary</th>\n",
              "      <th>unixReviewTime</th>\n",
              "      <th>reviewTime</th>\n",
              "    </tr>\n",
              "  </thead>\n",
              "  <tbody>\n",
              "    <tr>\n",
              "      <th>194429</th>\n",
              "      <td>AF30DHAVSYNZ0</td>\n",
              "      <td>B00LH1R6SK</td>\n",
              "      <td>Sasha DLH</td>\n",
              "      <td>[0, 0]</td>\n",
              "      <td>Ahah, I love it. The case looks better than th...</td>\n",
              "      <td>5</td>\n",
              "      <td>Yesssssss!</td>\n",
              "      <td>1405641600</td>\n",
              "      <td>07 18, 2014</td>\n",
              "    </tr>\n",
              "    <tr>\n",
              "      <th>194430</th>\n",
              "      <td>A34KTJ4VWNBOHI</td>\n",
              "      <td>B00LH1R6SK</td>\n",
              "      <td>Stina</td>\n",
              "      <td>[0, 0]</td>\n",
              "      <td>As someone who owns an iPhone, I absolutely lo...</td>\n",
              "      <td>5</td>\n",
              "      <td>Beautiful Color and Texture</td>\n",
              "      <td>1405641600</td>\n",
              "      <td>07 18, 2014</td>\n",
              "    </tr>\n",
              "    <tr>\n",
              "      <th>194431</th>\n",
              "      <td>A1Q1Z7IR79G52A</td>\n",
              "      <td>B00LORXVUE</td>\n",
              "      <td>Ann Ingersoll Madison Rain \"Ann\"</td>\n",
              "      <td>[0, 0]</td>\n",
              "      <td>What a high quality cable. Right out of the pa...</td>\n",
              "      <td>5</td>\n",
              "      <td>Must have, high quality charging cable for ipa...</td>\n",
              "      <td>1405987200</td>\n",
              "      <td>07 22, 2014</td>\n",
              "    </tr>\n",
              "    <tr>\n",
              "      <th>194432</th>\n",
              "      <td>A388OX0ZF7OT8R</td>\n",
              "      <td>B00LORXVUE</td>\n",
              "      <td>Chuck.C</td>\n",
              "      <td>[0, 0]</td>\n",
              "      <td>This one actually works unlike some others I b...</td>\n",
              "      <td>4</td>\n",
              "      <td>Long Wire</td>\n",
              "      <td>1405728000</td>\n",
              "      <td>07 19, 2014</td>\n",
              "    </tr>\n",
              "    <tr>\n",
              "      <th>194433</th>\n",
              "      <td>A2BLFCOPSMBOZ9</td>\n",
              "      <td>B00LORXVUE</td>\n",
              "      <td>Dave Edmiston</td>\n",
              "      <td>[0, 0]</td>\n",
              "      <td>I don't like the word \"hate\", so let's just sa...</td>\n",
              "      <td>5</td>\n",
              "      <td>Awesome cable!</td>\n",
              "      <td>1405641600</td>\n",
              "      <td>07 18, 2014</td>\n",
              "    </tr>\n",
              "    <tr>\n",
              "      <th>194434</th>\n",
              "      <td>A1YMNTFLNDYQ1F</td>\n",
              "      <td>B00LORXVUE</td>\n",
              "      <td>eyeused2loveher</td>\n",
              "      <td>[0, 0]</td>\n",
              "      <td>Works great just like my original one. I reall...</td>\n",
              "      <td>5</td>\n",
              "      <td>This works just perfect!</td>\n",
              "      <td>1405900800</td>\n",
              "      <td>07 21, 2014</td>\n",
              "    </tr>\n",
              "    <tr>\n",
              "      <th>194435</th>\n",
              "      <td>A15TX8B2L8B20S</td>\n",
              "      <td>B00LORXVUE</td>\n",
              "      <td>Jon Davidson</td>\n",
              "      <td>[0, 0]</td>\n",
              "      <td>Great product. Great packaging. High quality a...</td>\n",
              "      <td>5</td>\n",
              "      <td>Great replacement cable. Apple certified</td>\n",
              "      <td>1405900800</td>\n",
              "      <td>07 21, 2014</td>\n",
              "    </tr>\n",
              "    <tr>\n",
              "      <th>194436</th>\n",
              "      <td>A3JI7QRZO1QG8X</td>\n",
              "      <td>B00LORXVUE</td>\n",
              "      <td>Joyce M. Davidson</td>\n",
              "      <td>[0, 0]</td>\n",
              "      <td>This is a great cable, just as good as the mor...</td>\n",
              "      <td>5</td>\n",
              "      <td>Real quality</td>\n",
              "      <td>1405900800</td>\n",
              "      <td>07 21, 2014</td>\n",
              "    </tr>\n",
              "    <tr>\n",
              "      <th>194437</th>\n",
              "      <td>A1NHB2VC68YQNM</td>\n",
              "      <td>B00LORXVUE</td>\n",
              "      <td>Nurse Farrugia</td>\n",
              "      <td>[0, 0]</td>\n",
              "      <td>I really like it becasue it works well with my...</td>\n",
              "      <td>5</td>\n",
              "      <td>I really like it becasue it works well with my...</td>\n",
              "      <td>1405814400</td>\n",
              "      <td>07 20, 2014</td>\n",
              "    </tr>\n",
              "    <tr>\n",
              "      <th>194438</th>\n",
              "      <td>A1AG6U022WHXBF</td>\n",
              "      <td>B00LORXVUE</td>\n",
              "      <td>Trisha Crocker</td>\n",
              "      <td>[0, 0]</td>\n",
              "      <td>product as described, I have wasted a lot of m...</td>\n",
              "      <td>5</td>\n",
              "      <td>I have wasted a lot of money on cords</td>\n",
              "      <td>1405900800</td>\n",
              "      <td>07 21, 2014</td>\n",
              "    </tr>\n",
              "  </tbody>\n",
              "</table>\n",
              "</div>\n",
              "      <button class=\"colab-df-convert\" onclick=\"convertToInteractive('df-a62b4127-10fd-48b6-b379-b2195ca15674')\"\n",
              "              title=\"Convert this dataframe to an interactive table.\"\n",
              "              style=\"display:none;\">\n",
              "        \n",
              "  <svg xmlns=\"http://www.w3.org/2000/svg\" height=\"24px\"viewBox=\"0 0 24 24\"\n",
              "       width=\"24px\">\n",
              "    <path d=\"M0 0h24v24H0V0z\" fill=\"none\"/>\n",
              "    <path d=\"M18.56 5.44l.94 2.06.94-2.06 2.06-.94-2.06-.94-.94-2.06-.94 2.06-2.06.94zm-11 1L8.5 8.5l.94-2.06 2.06-.94-2.06-.94L8.5 2.5l-.94 2.06-2.06.94zm10 10l.94 2.06.94-2.06 2.06-.94-2.06-.94-.94-2.06-.94 2.06-2.06.94z\"/><path d=\"M17.41 7.96l-1.37-1.37c-.4-.4-.92-.59-1.43-.59-.52 0-1.04.2-1.43.59L10.3 9.45l-7.72 7.72c-.78.78-.78 2.05 0 2.83L4 21.41c.39.39.9.59 1.41.59.51 0 1.02-.2 1.41-.59l7.78-7.78 2.81-2.81c.8-.78.8-2.07 0-2.86zM5.41 20L4 18.59l7.72-7.72 1.47 1.35L5.41 20z\"/>\n",
              "  </svg>\n",
              "      </button>\n",
              "      \n",
              "  <style>\n",
              "    .colab-df-container {\n",
              "      display:flex;\n",
              "      flex-wrap:wrap;\n",
              "      gap: 12px;\n",
              "    }\n",
              "\n",
              "    .colab-df-convert {\n",
              "      background-color: #E8F0FE;\n",
              "      border: none;\n",
              "      border-radius: 50%;\n",
              "      cursor: pointer;\n",
              "      display: none;\n",
              "      fill: #1967D2;\n",
              "      height: 32px;\n",
              "      padding: 0 0 0 0;\n",
              "      width: 32px;\n",
              "    }\n",
              "\n",
              "    .colab-df-convert:hover {\n",
              "      background-color: #E2EBFA;\n",
              "      box-shadow: 0px 1px 2px rgba(60, 64, 67, 0.3), 0px 1px 3px 1px rgba(60, 64, 67, 0.15);\n",
              "      fill: #174EA6;\n",
              "    }\n",
              "\n",
              "    [theme=dark] .colab-df-convert {\n",
              "      background-color: #3B4455;\n",
              "      fill: #D2E3FC;\n",
              "    }\n",
              "\n",
              "    [theme=dark] .colab-df-convert:hover {\n",
              "      background-color: #434B5C;\n",
              "      box-shadow: 0px 1px 3px 1px rgba(0, 0, 0, 0.15);\n",
              "      filter: drop-shadow(0px 1px 2px rgba(0, 0, 0, 0.3));\n",
              "      fill: #FFFFFF;\n",
              "    }\n",
              "  </style>\n",
              "\n",
              "      <script>\n",
              "        const buttonEl =\n",
              "          document.querySelector('#df-a62b4127-10fd-48b6-b379-b2195ca15674 button.colab-df-convert');\n",
              "        buttonEl.style.display =\n",
              "          google.colab.kernel.accessAllowed ? 'block' : 'none';\n",
              "\n",
              "        async function convertToInteractive(key) {\n",
              "          const element = document.querySelector('#df-a62b4127-10fd-48b6-b379-b2195ca15674');\n",
              "          const dataTable =\n",
              "            await google.colab.kernel.invokeFunction('convertToInteractive',\n",
              "                                                     [key], {});\n",
              "          if (!dataTable) return;\n",
              "\n",
              "          const docLinkHtml = 'Like what you see? Visit the ' +\n",
              "            '<a target=\"_blank\" href=https://colab.research.google.com/notebooks/data_table.ipynb>data table notebook</a>'\n",
              "            + ' to learn more about interactive tables.';\n",
              "          element.innerHTML = '';\n",
              "          dataTable['output_type'] = 'display_data';\n",
              "          await google.colab.output.renderOutput(dataTable, element);\n",
              "          const docLink = document.createElement('div');\n",
              "          docLink.innerHTML = docLinkHtml;\n",
              "          element.appendChild(docLink);\n",
              "        }\n",
              "      </script>\n",
              "    </div>\n",
              "  </div>\n",
              "  "
            ]
          },
          "metadata": {},
          "execution_count": 5
        }
      ],
      "source": [
        "df.tail(10)"
      ]
    },
    {
      "cell_type": "markdown",
      "metadata": {
        "id": "SOGAVzzMIozb"
      },
      "source": [
        "To build an sentiments analyses model, w'are intersting just in the reviewText and overall columns, so we extract just the two columns and drop others columns"
      ]
    },
    {
      "cell_type": "code",
      "execution_count": 6,
      "metadata": {
        "id": "jIlTPUaqIozb"
      },
      "outputs": [],
      "source": [
        "# Drop unnecessary columns\n",
        "columns_to_drop = ['reviewerID', 'asin', 'reviewerName', 'helpful', 'summary', 'unixReviewTime', 'reviewTime']\n",
        "df = df.drop(columns_to_drop, axis=1)"
      ]
    },
    {
      "cell_type": "code",
      "execution_count": 7,
      "metadata": {
        "id": "K-2sW7oGIozb",
        "outputId": "0a9a5c68-4a85-408e-f0b1-82da4df6cf98",
        "colab": {
          "base_uri": "https://localhost:8080/"
        }
      },
      "outputs": [
        {
          "output_type": "execute_result",
          "data": {
            "text/plain": [
              "<bound method NDFrame.head of                                                reviewText  overall\n",
              "0       They look good and stick good! I just don't li...        4\n",
              "1       These stickers work like the review says they ...        5\n",
              "2       These are awesome and make my phone look so st...        5\n",
              "3       Item arrived in great time and was in perfect ...        4\n",
              "4       awesome! stays on, and looks great. can be use...        5\n",
              "...                                                   ...      ...\n",
              "194434  Works great just like my original one. I reall...        5\n",
              "194435  Great product. Great packaging. High quality a...        5\n",
              "194436  This is a great cable, just as good as the mor...        5\n",
              "194437  I really like it becasue it works well with my...        5\n",
              "194438  product as described, I have wasted a lot of m...        5\n",
              "\n",
              "[194439 rows x 2 columns]>"
            ]
          },
          "metadata": {},
          "execution_count": 7
        }
      ],
      "source": [
        "# Verify the updated DataFrame\n",
        "df.head"
      ]
    },
    {
      "cell_type": "code",
      "execution_count": 8,
      "metadata": {
        "id": "rGQU3OdaIozc",
        "outputId": "92580ba5-d473-4dfa-eacd-89a0a400710f",
        "colab": {
          "base_uri": "https://localhost:8080/"
        }
      },
      "outputs": [
        {
          "output_type": "stream",
          "name": "stdout",
          "text": [
            "reviewText    0\n",
            "overall       0\n",
            "dtype: int64\n"
          ]
        }
      ],
      "source": [
        "#Verify messing value\n",
        "missing_values_count = df.isnull().sum()\n",
        "print(missing_values_count)"
      ]
    },
    {
      "cell_type": "markdown",
      "metadata": {
        "id": "XaNozTz1Iozc"
      },
      "source": [
        "NB: wa observe that, when the over all is less or equal 2 the review is negative, and when it heigher then 2 the review is positive, so after this step we encode the overall column to 1-->positve , 0 ---> negative"
      ]
    },
    {
      "cell_type": "code",
      "execution_count": 9,
      "metadata": {
        "id": "fAznIUpcIozc",
        "outputId": "ea760817-39f7-4c26-d3c9-0b6ad55f2ac2",
        "colab": {
          "base_uri": "https://localhost:8080/"
        }
      },
      "outputs": [
        {
          "output_type": "stream",
          "name": "stdout",
          "text": [
            "7         it worked for the first week then it only char...\n",
            "19        It worked great for the first couple of weeks ...\n",
            "26        I am disappointed that the 1A didn't work with...\n",
            "28                         After a week only one side works\n",
            "32        Only works one side at a time. When you connec...\n",
            "                                ...                        \n",
            "194299    I would not recommend this to anyone. The mate...\n",
            "194302    I used to have this case for my ipods and they...\n",
            "194304    I tried to like this product, I got a Warrenty...\n",
            "194309    This is okay if you don't ever need to access ...\n",
            "194346                              Not OEM, cheap knockoff\n",
            "Name: reviewText, Length: 24343, dtype: object\n"
          ]
        }
      ],
      "source": [
        "filtered_df = df.loc[df['overall'] <=2, 'reviewText']\n",
        "print(filtered_df)"
      ]
    },
    {
      "cell_type": "code",
      "execution_count": 10,
      "metadata": {
        "id": "05EZCRphIozd",
        "outputId": "da11864c-1002-4db4-ad62-0f30029dda85",
        "colab": {
          "base_uri": "https://localhost:8080/"
        }
      },
      "outputs": [
        {
          "output_type": "stream",
          "name": "stdout",
          "text": [
            "0         They look good and stick good! I just don't li...\n",
            "1         These stickers work like the review says they ...\n",
            "2         These are awesome and make my phone look so st...\n",
            "3         Item arrived in great time and was in perfect ...\n",
            "4         awesome! stays on, and looks great. can be use...\n",
            "                                ...                        \n",
            "194434    Works great just like my original one. I reall...\n",
            "194435    Great product. Great packaging. High quality a...\n",
            "194436    This is a great cable, just as good as the mor...\n",
            "194437    I really like it becasue it works well with my...\n",
            "194438    product as described, I have wasted a lot of m...\n",
            "Name: reviewText, Length: 170096, dtype: object\n"
          ]
        }
      ],
      "source": [
        "filtered_df = df.loc[df['overall'] >2, 'reviewText']\n",
        "print(filtered_df)"
      ]
    },
    {
      "cell_type": "code",
      "execution_count": 11,
      "metadata": {
        "id": "Ukb5RtJkIozd"
      },
      "outputs": [],
      "source": [
        "#Transformation de la variables cibles en une variable numérique binaire\n",
        "# 0: negative ; 1: positive\n",
        "df['overall'] = df['overall'].apply(lambda val: 0 if val <=2 else 1)"
      ]
    },
    {
      "cell_type": "code",
      "execution_count": 12,
      "metadata": {
        "id": "qZ90svVzIoze",
        "outputId": "512d9fa5-d367-4cca-a917-19538e20ace1",
        "colab": {
          "base_uri": "https://localhost:8080/"
        }
      },
      "outputs": [
        {
          "output_type": "execute_result",
          "data": {
            "text/plain": [
              "1    0.874804\n",
              "0    0.125196\n",
              "Name: overall, dtype: float64"
            ]
          },
          "metadata": {},
          "execution_count": 12
        }
      ],
      "source": [
        "df['overall'].value_counts(normalize=True)"
      ]
    },
    {
      "cell_type": "markdown",
      "metadata": {
        "id": "x3riBehBIoze"
      },
      "source": [
        "Split the data to tarin and test and validate"
      ]
    },
    {
      "cell_type": "code",
      "execution_count": 13,
      "metadata": {
        "id": "cVMOTJExIoze",
        "outputId": "b968d2b8-327c-426b-deb8-39344fbf6d2d",
        "colab": {
          "base_uri": "https://localhost:8080/"
        }
      },
      "outputs": [
        {
          "output_type": "stream",
          "name": "stdout",
          "text": [
            "train data:  (136107, 2)\n",
            "Validation data:  (29166, 2)\n",
            "test data:  (29166, 2)\n"
          ]
        }
      ],
      "source": [
        "seed = 123\n",
        "\n",
        "train, test = train_test_split(df, test_size=0.3, random_state=seed, stratify=df['overall'])\n",
        "test, validate = train_test_split(test, test_size=0.5, random_state=seed, stratify=test['overall'])\n",
        "\n",
        "print(\"train data: \", train.shape)\n",
        "print(\"Validation data: \", validate.shape)\n",
        "print(\"test data: \", test.shape)"
      ]
    },
    {
      "cell_type": "code",
      "execution_count": 14,
      "metadata": {
        "id": "I_rJh6WQIozf"
      },
      "outputs": [],
      "source": [
        "#Save data\n",
        "train.to_csv('/content/drive/MyDrive/Sentiments analyses project/train.csv', index=False)\n",
        "validate.to_csv('/content/drive/MyDrive/Sentiments analyses project/validate.csv', index=False)\n",
        "test.to_csv('/content/drive/MyDrive/Sentiments analyses project/test.csv', index=False)"
      ]
    },
    {
      "cell_type": "markdown",
      "metadata": {
        "id": "tv9s4ixuIozh"
      },
      "source": [
        "Data Processing"
      ]
    },
    {
      "cell_type": "code",
      "execution_count": 14,
      "metadata": {
        "id": "uXRjnFigIozh"
      },
      "outputs": [],
      "source": [
        "def preprocess_text(text):\n",
        "\n",
        "    # Remove HTML tags\n",
        "    text = re.sub('<[^>]*>', '', text)\n",
        "\n",
        "    # Remove non-alphabetic characters and convert to lowercase\n",
        "    text = re.sub('[^a-zA-Z]', ' ', text).lower()\n",
        "\n",
        "    # Tokenize the text\n",
        "    words = word_tokenize(text)\n",
        "\n",
        "    # Remove stopwords\n",
        "    stop_words = set(stopwords.words('english'))\n",
        "    words = [word for word in words if word not in stop_words]\n",
        "\n",
        "    # Lemmatize the words\n",
        "    lemmatizer = WordNetLemmatizer()\n",
        "    words = [lemmatizer.lemmatize(word) for word in words]\n",
        "\n",
        "    # Combine words back into a single string\n",
        "    preprocessed_text = ' '.join(words)\n",
        "\n",
        "    return preprocessed_text"
      ]
    },
    {
      "cell_type": "code",
      "source": [
        "nltk.download('punkt')"
      ],
      "metadata": {
        "id": "SV2pJQQfTHCZ",
        "outputId": "58531f52-c175-4ddc-a9b0-0458ffe7f6a7",
        "colab": {
          "base_uri": "https://localhost:8080/"
        }
      },
      "execution_count": 15,
      "outputs": [
        {
          "output_type": "stream",
          "name": "stderr",
          "text": [
            "[nltk_data] Downloading package punkt to /root/nltk_data...\n",
            "[nltk_data]   Unzipping tokenizers/punkt.zip.\n"
          ]
        },
        {
          "output_type": "execute_result",
          "data": {
            "text/plain": [
              "True"
            ]
          },
          "metadata": {},
          "execution_count": 15
        }
      ]
    },
    {
      "cell_type": "code",
      "source": [
        "nltk.download('stopwords')"
      ],
      "metadata": {
        "id": "HeM9pFFdTPld",
        "outputId": "d11e0e24-c3b2-42b0-cda5-0d67448ad10d",
        "colab": {
          "base_uri": "https://localhost:8080/"
        }
      },
      "execution_count": 16,
      "outputs": [
        {
          "output_type": "stream",
          "name": "stderr",
          "text": [
            "[nltk_data] Downloading package stopwords to /root/nltk_data...\n",
            "[nltk_data]   Unzipping corpora/stopwords.zip.\n"
          ]
        },
        {
          "output_type": "execute_result",
          "data": {
            "text/plain": [
              "True"
            ]
          },
          "metadata": {},
          "execution_count": 16
        }
      ]
    },
    {
      "cell_type": "code",
      "source": [
        "nltk.download('wordnet')"
      ],
      "metadata": {
        "id": "G7q68KXHTWr1",
        "outputId": "a9b4b2f5-9dd6-4e1a-83a8-fb3bb54a1c7f",
        "colab": {
          "base_uri": "https://localhost:8080/"
        }
      },
      "execution_count": 17,
      "outputs": [
        {
          "output_type": "stream",
          "name": "stderr",
          "text": [
            "[nltk_data] Downloading package wordnet to /root/nltk_data...\n"
          ]
        },
        {
          "output_type": "execute_result",
          "data": {
            "text/plain": [
              "True"
            ]
          },
          "metadata": {},
          "execution_count": 17
        }
      ]
    },
    {
      "cell_type": "code",
      "execution_count": 18,
      "metadata": {
        "id": "bDb7HjkuIozi"
      },
      "outputs": [],
      "source": [
        "train['preprocessed_text']= train['reviewText'].apply(preprocess_text)\n",
        "test['preprocessed_text']= test['reviewText'].apply(preprocess_text)\n",
        "validate['preprocessed_text']= validate['reviewText'].apply(preprocess_text)"
      ]
    },
    {
      "cell_type": "code",
      "execution_count": 19,
      "metadata": {
        "id": "XB-7jbwIIozj",
        "outputId": "f1bda143-6ea8-4d35-d434-65e184ccd922",
        "colab": {
          "base_uri": "https://localhost:8080/",
          "height": 206
        }
      },
      "outputs": [
        {
          "output_type": "execute_result",
          "data": {
            "text/plain": [
              "                                               reviewText  overall  \\\n",
              "42227   Looks just like the original HTC cable and wor...        1   \n",
              "124534  It didn't work for me, my outlets wouldn't kee...        0   \n",
              "72556   This was one of my 1st cases for my phone. I l...        1   \n",
              "40622                          really cool, very efficent        1   \n",
              "183403  If you really want to protect your iPhone this...        1   \n",
              "\n",
              "                                        preprocessed_text  \n",
              "42227   look like original htc cable work perfect boug...  \n",
              "124534  work outlet keep charger straight connect well...  \n",
              "72556   one st case phone love others recommend anyone...  \n",
              "40622                                really cool efficent  \n",
              "183403  really want protect iphone case completely enc...  "
            ],
            "text/html": [
              "\n",
              "  <div id=\"df-cf03f20e-9d05-4492-9b95-004d7038ffbf\">\n",
              "    <div class=\"colab-df-container\">\n",
              "      <div>\n",
              "<style scoped>\n",
              "    .dataframe tbody tr th:only-of-type {\n",
              "        vertical-align: middle;\n",
              "    }\n",
              "\n",
              "    .dataframe tbody tr th {\n",
              "        vertical-align: top;\n",
              "    }\n",
              "\n",
              "    .dataframe thead th {\n",
              "        text-align: right;\n",
              "    }\n",
              "</style>\n",
              "<table border=\"1\" class=\"dataframe\">\n",
              "  <thead>\n",
              "    <tr style=\"text-align: right;\">\n",
              "      <th></th>\n",
              "      <th>reviewText</th>\n",
              "      <th>overall</th>\n",
              "      <th>preprocessed_text</th>\n",
              "    </tr>\n",
              "  </thead>\n",
              "  <tbody>\n",
              "    <tr>\n",
              "      <th>42227</th>\n",
              "      <td>Looks just like the original HTC cable and wor...</td>\n",
              "      <td>1</td>\n",
              "      <td>look like original htc cable work perfect boug...</td>\n",
              "    </tr>\n",
              "    <tr>\n",
              "      <th>124534</th>\n",
              "      <td>It didn't work for me, my outlets wouldn't kee...</td>\n",
              "      <td>0</td>\n",
              "      <td>work outlet keep charger straight connect well...</td>\n",
              "    </tr>\n",
              "    <tr>\n",
              "      <th>72556</th>\n",
              "      <td>This was one of my 1st cases for my phone. I l...</td>\n",
              "      <td>1</td>\n",
              "      <td>one st case phone love others recommend anyone...</td>\n",
              "    </tr>\n",
              "    <tr>\n",
              "      <th>40622</th>\n",
              "      <td>really cool, very efficent</td>\n",
              "      <td>1</td>\n",
              "      <td>really cool efficent</td>\n",
              "    </tr>\n",
              "    <tr>\n",
              "      <th>183403</th>\n",
              "      <td>If you really want to protect your iPhone this...</td>\n",
              "      <td>1</td>\n",
              "      <td>really want protect iphone case completely enc...</td>\n",
              "    </tr>\n",
              "  </tbody>\n",
              "</table>\n",
              "</div>\n",
              "      <button class=\"colab-df-convert\" onclick=\"convertToInteractive('df-cf03f20e-9d05-4492-9b95-004d7038ffbf')\"\n",
              "              title=\"Convert this dataframe to an interactive table.\"\n",
              "              style=\"display:none;\">\n",
              "        \n",
              "  <svg xmlns=\"http://www.w3.org/2000/svg\" height=\"24px\"viewBox=\"0 0 24 24\"\n",
              "       width=\"24px\">\n",
              "    <path d=\"M0 0h24v24H0V0z\" fill=\"none\"/>\n",
              "    <path d=\"M18.56 5.44l.94 2.06.94-2.06 2.06-.94-2.06-.94-.94-2.06-.94 2.06-2.06.94zm-11 1L8.5 8.5l.94-2.06 2.06-.94-2.06-.94L8.5 2.5l-.94 2.06-2.06.94zm10 10l.94 2.06.94-2.06 2.06-.94-2.06-.94-.94-2.06-.94 2.06-2.06.94z\"/><path d=\"M17.41 7.96l-1.37-1.37c-.4-.4-.92-.59-1.43-.59-.52 0-1.04.2-1.43.59L10.3 9.45l-7.72 7.72c-.78.78-.78 2.05 0 2.83L4 21.41c.39.39.9.59 1.41.59.51 0 1.02-.2 1.41-.59l7.78-7.78 2.81-2.81c.8-.78.8-2.07 0-2.86zM5.41 20L4 18.59l7.72-7.72 1.47 1.35L5.41 20z\"/>\n",
              "  </svg>\n",
              "      </button>\n",
              "      \n",
              "  <style>\n",
              "    .colab-df-container {\n",
              "      display:flex;\n",
              "      flex-wrap:wrap;\n",
              "      gap: 12px;\n",
              "    }\n",
              "\n",
              "    .colab-df-convert {\n",
              "      background-color: #E8F0FE;\n",
              "      border: none;\n",
              "      border-radius: 50%;\n",
              "      cursor: pointer;\n",
              "      display: none;\n",
              "      fill: #1967D2;\n",
              "      height: 32px;\n",
              "      padding: 0 0 0 0;\n",
              "      width: 32px;\n",
              "    }\n",
              "\n",
              "    .colab-df-convert:hover {\n",
              "      background-color: #E2EBFA;\n",
              "      box-shadow: 0px 1px 2px rgba(60, 64, 67, 0.3), 0px 1px 3px 1px rgba(60, 64, 67, 0.15);\n",
              "      fill: #174EA6;\n",
              "    }\n",
              "\n",
              "    [theme=dark] .colab-df-convert {\n",
              "      background-color: #3B4455;\n",
              "      fill: #D2E3FC;\n",
              "    }\n",
              "\n",
              "    [theme=dark] .colab-df-convert:hover {\n",
              "      background-color: #434B5C;\n",
              "      box-shadow: 0px 1px 3px 1px rgba(0, 0, 0, 0.15);\n",
              "      filter: drop-shadow(0px 1px 2px rgba(0, 0, 0, 0.3));\n",
              "      fill: #FFFFFF;\n",
              "    }\n",
              "  </style>\n",
              "\n",
              "      <script>\n",
              "        const buttonEl =\n",
              "          document.querySelector('#df-cf03f20e-9d05-4492-9b95-004d7038ffbf button.colab-df-convert');\n",
              "        buttonEl.style.display =\n",
              "          google.colab.kernel.accessAllowed ? 'block' : 'none';\n",
              "\n",
              "        async function convertToInteractive(key) {\n",
              "          const element = document.querySelector('#df-cf03f20e-9d05-4492-9b95-004d7038ffbf');\n",
              "          const dataTable =\n",
              "            await google.colab.kernel.invokeFunction('convertToInteractive',\n",
              "                                                     [key], {});\n",
              "          if (!dataTable) return;\n",
              "\n",
              "          const docLinkHtml = 'Like what you see? Visit the ' +\n",
              "            '<a target=\"_blank\" href=https://colab.research.google.com/notebooks/data_table.ipynb>data table notebook</a>'\n",
              "            + ' to learn more about interactive tables.';\n",
              "          element.innerHTML = '';\n",
              "          dataTable['output_type'] = 'display_data';\n",
              "          await google.colab.output.renderOutput(dataTable, element);\n",
              "          const docLink = document.createElement('div');\n",
              "          docLink.innerHTML = docLinkHtml;\n",
              "          element.appendChild(docLink);\n",
              "        }\n",
              "      </script>\n",
              "    </div>\n",
              "  </div>\n",
              "  "
            ]
          },
          "metadata": {},
          "execution_count": 19
        }
      ],
      "source": [
        "train.head()"
      ]
    },
    {
      "cell_type": "markdown",
      "metadata": {
        "id": "69Q7RBDnIozj"
      },
      "source": [
        "Vectorieation using BOW, TF-IDF, Word2vec"
      ]
    },
    {
      "cell_type": "code",
      "execution_count": 20,
      "metadata": {
        "id": "K5fXE8CaIozk"
      },
      "outputs": [],
      "source": [
        "def train_svm_with_representations(data_train, data_test, representation):\n",
        "    if representation == 'bow':\n",
        "        vectorizer = CountVectorizer()\n",
        "    elif representation == 'tfidf':\n",
        "        vectorizer = TfidfVectorizer()\n",
        "    else:\n",
        "        raise ValueError(\"Invalid representation. Choose 'bow' or 'tfidf'.\")\n",
        "\n",
        "    X_train = vectorizer.fit_transform(data_train)\n",
        "    X_test = vectorizer.transform(data_test)\n",
        "\n",
        "    clf = SVC()\n",
        "    clf.fit(X_train, y_train)\n",
        "    y_pred = clf.predict(X_test)\n",
        "\n",
        "    return y_pred"
      ]
    },
    {
      "cell_type": "code",
      "execution_count": 22,
      "metadata": {
        "id": "tSuG-q2zIozk"
      },
      "outputs": [],
      "source": [
        "def get_word2vec_embeddings(data):\n",
        "    tokenized_sentences = [sentence.split() for sentence in data]\n",
        "    model = Word2Vec(tokenized_sentences, vector_size=100, window=5, min_count=1, workers=4)\n",
        "    \n",
        "    # Initialize an empty array to store the embeddings\n",
        "    embeddings = np.zeros((len(tokenized_sentences), model.vector_size))\n",
        "    \n",
        "    # Populate the embeddings array with word vectors\n",
        "    for i, sentence in enumerate(tokenized_sentences):\n",
        "        word_vectors = [model.wv[word] for word in sentence if word in model.wv]\n",
        "        if word_vectors:\n",
        "            embeddings[i] = np.mean(word_vectors, axis=0)\n",
        "    \n",
        "    return embeddings\n",
        "\n",
        "def train_svm_with_word2vec(data_train, data_test, y_train):\n",
        "    X_train = get_word2vec_embeddings(data_train)\n",
        "    X_test = get_word2vec_embeddings(data_test)\n",
        "    \n",
        "    clf = SVC()\n",
        "    clf.fit(X_train, y_train)\n",
        "    y_pred = clf.predict(X_test)\n",
        "\n",
        "    return y_pred\n"
      ]
    },
    {
      "cell_type": "code",
      "execution_count": 21,
      "metadata": {
        "id": "mAgxEnJ5Iozk"
      },
      "outputs": [],
      "source": [
        "X_train = train['preprocessed_text']\n",
        "y_train = train['overall']\n",
        "X_test = test['preprocessed_text']\n",
        "y_test = test['overall']"
      ]
    },
    {
      "cell_type": "code",
      "source": [
        "# Bag of Words\n",
        "y_pred_bow = train_svm_with_representations(X_train, X_test, 'bow')\n",
        "accuracy_bow = accuracy_score(y_test, y_pred_bow)\n",
        "print(accuracy_bow)"
      ],
      "metadata": {
        "id": "yCm379JTglLt"
      },
      "execution_count": null,
      "outputs": []
    },
    {
      "cell_type": "code",
      "execution_count": null,
      "metadata": {
        "id": "gc_oPTb9Iozk",
        "outputId": "562c6c08-0294-4be0-f138-5fa1a7bb79d2",
        "colab": {
          "base_uri": "https://localhost:8080/"
        }
      },
      "outputs": [
        {
          "output_type": "stream",
          "name": "stdout",
          "text": [
            "0.9137351710896249\n"
          ]
        }
      ],
      "source": [
        "# TF-IDF\n",
        "y_pred_tfidf = train_svm_with_representations(X_train, X_test, 'tfidf')\n",
        "accuracy_tfidf = accuracy_score(y_test, y_pred_tfidf)\n",
        "print(accuracy_tfidf)"
      ]
    },
    {
      "cell_type": "code",
      "execution_count": null,
      "metadata": {
        "id": "vVnx_MgoIozl",
        "outputId": "95ff5e23-0d49-4151-c2fe-0c5e1df34ee8",
        "colab": {
          "base_uri": "https://localhost:8080/"
        }
      },
      "outputs": [
        {
          "output_type": "stream",
          "name": "stdout",
          "text": [
            "0.8727285195090173\n"
          ]
        }
      ],
      "source": [
        "# Word2Vec with preprocessed data\n",
        "y_pred_word2vec = train_svm_with_word2vec(X_train, X_test, y_train)\n",
        "accuracy_word2vec = accuracy_score(y_test, y_pred_word2vec)\n",
        "print(accuracy_word2vec)"
      ]
    },
    {
      "cell_type": "code",
      "source": [
        "X_train = train['reviewText']\n",
        "y_train = train['overall']\n",
        "X_test = test['reviewText']\n",
        "y_test = test['overall']"
      ],
      "metadata": {
        "id": "t_a9y_sonA0C"
      },
      "execution_count": 24,
      "outputs": []
    },
    {
      "cell_type": "code",
      "source": [
        "# Word2Vec with row data\n",
        "y_pred_word2vec = train_svm_with_word2vec(X_train, X_test, y_train)\n",
        "accuracy_word2vec = accuracy_score(y_test, y_pred_word2vec)\n",
        "print(accuracy_word2vec)"
      ],
      "metadata": {
        "id": "97g3UgDSmiFf",
        "outputId": "0f3e7d52-78a0-4c7d-f509-ff910fd7a8c1",
        "colab": {
          "base_uri": "https://localhost:8080/"
        }
      },
      "execution_count": null,
      "outputs": [
        {
          "output_type": "stream",
          "name": "stdout",
          "text": [
            "0.8747857093876431\n"
          ]
        }
      ]
    },
    {
      "cell_type": "markdown",
      "source": [
        "**Vanilla RNN Model**"
      ],
      "metadata": {
        "id": "vAPaONgG29Ok"
      }
    },
    {
      "cell_type": "code",
      "source": [
        "import numpy as np\n",
        "import tensorflow as tf\n",
        "from tensorflow.keras.models import Sequential\n",
        "from tensorflow.keras.layers import SimpleRNN, Dense, Embedding\n",
        "from tensorflow.keras.preprocessing.text import Tokenizer\n",
        "from tensorflow.keras.preprocessing.sequence import pad_sequences\n",
        "from tensorflow.keras.utils import to_categorical\n",
        "\n",
        "# Preparing the data\n",
        "max_words = 10000\n",
        "max_len = 100\n",
        "tokenizer = Tokenizer(num_words=max_words)\n",
        "tokenizer.fit_on_texts(train['preprocessed_text'])\n",
        "\n",
        "X_train = tokenizer.texts_to_sequences(train['preprocessed_text'])\n",
        "X_test = tokenizer.texts_to_sequences(test['preprocessed_text'])\n",
        "X_valid = tokenizer.texts_to_sequences(validate['preprocessed_text'])\n",
        "\n",
        "X_train = pad_sequences(X_train, maxlen=max_len)\n",
        "X_test = pad_sequences(X_test, maxlen=max_len)\n",
        "X_valid = pad_sequences(X_valid, maxlen=max_len)\n",
        "\n",
        "y_train = to_categorical(train['overall'])\n",
        "y_test = to_categorical(test['overall'])\n",
        "y_valid = to_categorical(validate['overall'])\n",
        "\n",
        "# Build the model\n",
        "model = Sequential()\n",
        "model.add(Embedding(max_words, 128, input_length=max_len))\n",
        "model.add(SimpleRNN(64))\n",
        "model.add(Dense(2, activation='softmax'))\n",
        "\n",
        "# Compile the model validation_data\n",
        "model.compile(optimizer='adam', loss='categorical_crossentropy', metrics=['accuracy'])\n",
        "\n",
        "# Train the model\n",
        "history = model.fit(X_train, y_train, validation_data=(X_valid, y_valid), epochs=25, batch_size=128)\n",
        "\n",
        "# Evaluate the model\n",
        "loss, accuracy = model.evaluate(X_test, y_test)\n",
        "\n",
        "print(\"Test accuracy of vanilla RNN with preprocessed_text:\", accuracy)\n"
      ],
      "metadata": {
        "id": "ZuAjwpm52932",
        "outputId": "3b6bb89e-a1df-4981-bec7-1ee64b4ae02c",
        "colab": {
          "base_uri": "https://localhost:8080/"
        }
      },
      "execution_count": null,
      "outputs": [
        {
          "output_type": "stream",
          "name": "stdout",
          "text": [
            "Epoch 1/25\n",
            "1064/1064 [==============================] - 103s 96ms/step - loss: 0.2660 - accuracy: 0.8986 - val_loss: 0.2292 - val_accuracy: 0.9124\n",
            "Epoch 2/25\n",
            "1064/1064 [==============================] - 91s 86ms/step - loss: 0.2027 - accuracy: 0.9205 - val_loss: 0.2371 - val_accuracy: 0.9085\n",
            "Epoch 3/25\n",
            "1064/1064 [==============================] - 96s 90ms/step - loss: 0.1535 - accuracy: 0.9424 - val_loss: 0.2759 - val_accuracy: 0.8993\n",
            "Epoch 4/25\n",
            "1064/1064 [==============================] - 94s 88ms/step - loss: 0.1092 - accuracy: 0.9599 - val_loss: 0.3176 - val_accuracy: 0.8966\n",
            "Epoch 5/25\n",
            "1064/1064 [==============================] - 107s 100ms/step - loss: 0.0808 - accuracy: 0.9709 - val_loss: 0.3768 - val_accuracy: 0.8876\n",
            "Epoch 6/25\n",
            "1064/1064 [==============================] - 105s 99ms/step - loss: 0.0592 - accuracy: 0.9790 - val_loss: 0.4502 - val_accuracy: 0.8812\n",
            "Epoch 7/25\n",
            "1064/1064 [==============================] - 94s 88ms/step - loss: 0.0476 - accuracy: 0.9836 - val_loss: 0.5017 - val_accuracy: 0.8706\n",
            "Epoch 8/25\n",
            "1064/1064 [==============================] - 95s 90ms/step - loss: 0.0388 - accuracy: 0.9863 - val_loss: 0.5251 - val_accuracy: 0.8854\n",
            "Epoch 9/25\n",
            "1064/1064 [==============================] - 94s 88ms/step - loss: 0.0330 - accuracy: 0.9885 - val_loss: 0.5825 - val_accuracy: 0.8856\n",
            "Epoch 10/25\n",
            "1064/1064 [==============================] - 95s 89ms/step - loss: 0.0334 - accuracy: 0.9883 - val_loss: 0.6125 - val_accuracy: 0.8814\n",
            "Epoch 11/25\n",
            "1064/1064 [==============================] - 93s 87ms/step - loss: 0.0265 - accuracy: 0.9912 - val_loss: 0.6863 - val_accuracy: 0.8889\n",
            "Epoch 12/25\n",
            "1064/1064 [==============================] - 99s 93ms/step - loss: 0.0297 - accuracy: 0.9894 - val_loss: 0.7193 - val_accuracy: 0.8522\n",
            "Epoch 13/25\n",
            "1064/1064 [==============================] - 94s 89ms/step - loss: 0.0232 - accuracy: 0.9921 - val_loss: 0.7110 - val_accuracy: 0.8789\n",
            "Epoch 14/25\n",
            "1064/1064 [==============================] - 94s 89ms/step - loss: 0.0215 - accuracy: 0.9927 - val_loss: 0.7425 - val_accuracy: 0.8846\n",
            "Epoch 15/25\n",
            "1064/1064 [==============================] - 93s 88ms/step - loss: 0.0217 - accuracy: 0.9925 - val_loss: 0.6702 - val_accuracy: 0.8834\n",
            "Epoch 16/25\n",
            "1064/1064 [==============================] - 95s 89ms/step - loss: 0.0212 - accuracy: 0.9928 - val_loss: 0.7360 - val_accuracy: 0.8788\n",
            "Epoch 17/25\n",
            "1064/1064 [==============================] - 93s 87ms/step - loss: 0.0144 - accuracy: 0.9951 - val_loss: 0.8034 - val_accuracy: 0.8828\n",
            "Epoch 18/25\n",
            "1064/1064 [==============================] - 99s 93ms/step - loss: 0.0187 - accuracy: 0.9938 - val_loss: 0.7844 - val_accuracy: 0.8757\n",
            "Epoch 19/25\n",
            "1064/1064 [==============================] - 94s 89ms/step - loss: 0.0196 - accuracy: 0.9933 - val_loss: 0.8133 - val_accuracy: 0.8736\n",
            "Epoch 20/25\n",
            "1064/1064 [==============================] - 96s 90ms/step - loss: 0.0184 - accuracy: 0.9938 - val_loss: 0.8211 - val_accuracy: 0.8817\n",
            "Epoch 21/25\n",
            "1064/1064 [==============================] - 95s 89ms/step - loss: 0.0219 - accuracy: 0.9927 - val_loss: 0.7658 - val_accuracy: 0.8815\n",
            "Epoch 22/25\n",
            "1064/1064 [==============================] - 95s 89ms/step - loss: 0.0153 - accuracy: 0.9949 - val_loss: 0.8337 - val_accuracy: 0.8825\n",
            "Epoch 23/25\n",
            "1064/1064 [==============================] - 94s 88ms/step - loss: 0.0146 - accuracy: 0.9953 - val_loss: 0.7883 - val_accuracy: 0.8820\n",
            "Epoch 24/25\n",
            "1064/1064 [==============================] - 96s 90ms/step - loss: 0.0117 - accuracy: 0.9961 - val_loss: 0.8838 - val_accuracy: 0.8817\n",
            "Epoch 25/25\n",
            "1064/1064 [==============================] - 95s 89ms/step - loss: 0.0167 - accuracy: 0.9943 - val_loss: 0.8617 - val_accuracy: 0.8652\n",
            "912/912 [==============================] - 10s 10ms/step - loss: 0.8629 - accuracy: 0.8659\n",
            "Test accuracy of vanilla RNN with preprocessed_text: 0.8659397959709167\n"
          ]
        }
      ]
    },
    {
      "cell_type": "code",
      "source": [
        "import numpy as np\n",
        "import tensorflow as tf\n",
        "from tensorflow.keras.models import Sequential\n",
        "from tensorflow.keras.layers import SimpleRNN, Dense, Embedding\n",
        "from tensorflow.keras.preprocessing.text import Tokenizer\n",
        "from tensorflow.keras.preprocessing.sequence import pad_sequences\n",
        "from tensorflow.keras.utils import to_categorical\n",
        "\n",
        "# Preparing the data\n",
        "max_words = 10000\n",
        "max_len = 100\n",
        "tokenizer = Tokenizer(num_words=max_words)\n",
        "tokenizer.fit_on_texts(train['reviewText'])\n",
        "\n",
        "X_train = tokenizer.texts_to_sequences(train['reviewText'])\n",
        "X_test = tokenizer.texts_to_sequences(test['reviewText'])\n",
        "X_valid = tokenizer.texts_to_sequences(validate['reviewText'])\n",
        "\n",
        "X_train = pad_sequences(X_train, maxlen=max_len)\n",
        "X_test = pad_sequences(X_test, maxlen=max_len)\n",
        "X_valid = pad_sequences(X_valid, maxlen=max_len)\n",
        "\n",
        "y_train = to_categorical(train['overall'])\n",
        "y_test = to_categorical(test['overall'])\n",
        "y_valid = to_categorical(validate['overall'])\n",
        "\n",
        "# Build the model\n",
        "model = Sequential()\n",
        "model.add(Embedding(max_words, 128, input_length=max_len))\n",
        "model.add(SimpleRNN(64))\n",
        "model.add(Dense(2, activation='softmax'))\n",
        "\n",
        "# Compile the model validation_data\n",
        "model.compile(optimizer='adam', loss='categorical_crossentropy', metrics=['accuracy'])\n",
        "\n",
        "# Train the model\n",
        "history = model.fit(X_train, y_train, validation_data=(X_valid, y_valid), epochs=25, batch_size=128)\n",
        "\n",
        "# Evaluate the model\n",
        "loss, accuracy = model.evaluate(X_test, y_test)\n",
        "\n",
        "print(\"Test accuracy of vanilla RNN with row data:\", accuracy)"
      ],
      "metadata": {
        "id": "ynMOVwkSHDVL",
        "outputId": "16f46038-c559-4767-d859-8eab1955b477",
        "colab": {
          "base_uri": "https://localhost:8080/"
        }
      },
      "execution_count": null,
      "outputs": [
        {
          "output_type": "stream",
          "name": "stdout",
          "text": [
            "Epoch 1/25\n",
            "1064/1064 [==============================] - 100s 92ms/step - loss: 0.2848 - accuracy: 0.8915 - val_loss: 0.2598 - val_accuracy: 0.8992\n",
            "Epoch 2/25\n",
            "1064/1064 [==============================] - 103s 97ms/step - loss: 0.2190 - accuracy: 0.9145 - val_loss: 0.2295 - val_accuracy: 0.9093\n",
            "Epoch 3/25\n",
            "1064/1064 [==============================] - 118s 111ms/step - loss: 0.1921 - accuracy: 0.9249 - val_loss: 0.2237 - val_accuracy: 0.9107\n",
            "Epoch 4/25\n",
            "1064/1064 [==============================] - 105s 99ms/step - loss: 0.2210 - accuracy: 0.9142 - val_loss: 0.3428 - val_accuracy: 0.8755\n",
            "Epoch 5/25\n",
            "1064/1064 [==============================] - 119s 112ms/step - loss: 0.2755 - accuracy: 0.8929 - val_loss: 0.3180 - val_accuracy: 0.8822\n",
            "Epoch 6/25\n",
            "1064/1064 [==============================] - 96s 90ms/step - loss: 0.2386 - accuracy: 0.9060 - val_loss: 0.2852 - val_accuracy: 0.8939\n",
            "Epoch 7/25\n",
            "1064/1064 [==============================] - 95s 90ms/step - loss: 0.2513 - accuracy: 0.9045 - val_loss: 0.2759 - val_accuracy: 0.8937\n",
            "Epoch 8/25\n",
            "1064/1064 [==============================] - 94s 88ms/step - loss: 0.2354 - accuracy: 0.9077 - val_loss: 0.3007 - val_accuracy: 0.8845\n",
            "Epoch 9/25\n",
            "1064/1064 [==============================] - 99s 93ms/step - loss: 0.2296 - accuracy: 0.9081 - val_loss: 0.2792 - val_accuracy: 0.8941\n",
            "Epoch 10/25\n",
            "1064/1064 [==============================] - 98s 92ms/step - loss: 0.2545 - accuracy: 0.9045 - val_loss: 0.2843 - val_accuracy: 0.8821\n",
            "Epoch 11/25\n",
            "1064/1064 [==============================] - 94s 89ms/step - loss: 0.2784 - accuracy: 0.8923 - val_loss: 0.3086 - val_accuracy: 0.8834\n",
            "Epoch 12/25\n",
            "1064/1064 [==============================] - 95s 89ms/step - loss: 0.2463 - accuracy: 0.9037 - val_loss: 0.3055 - val_accuracy: 0.8871\n",
            "Epoch 13/25\n",
            "1064/1064 [==============================] - 95s 89ms/step - loss: 0.2345 - accuracy: 0.9083 - val_loss: 0.3037 - val_accuracy: 0.8814\n",
            "Epoch 14/25\n",
            "1064/1064 [==============================] - 95s 89ms/step - loss: 0.2280 - accuracy: 0.9081 - val_loss: 0.3142 - val_accuracy: 0.8599\n",
            "Epoch 15/25\n",
            "1064/1064 [==============================] - 93s 88ms/step - loss: 0.2110 - accuracy: 0.9169 - val_loss: 0.3110 - val_accuracy: 0.8770\n",
            "Epoch 16/25\n",
            "1064/1064 [==============================] - 95s 90ms/step - loss: 0.2465 - accuracy: 0.9044 - val_loss: 0.3482 - val_accuracy: 0.8792\n",
            "Epoch 17/25\n",
            "1064/1064 [==============================] - 93s 88ms/step - loss: 0.2557 - accuracy: 0.9013 - val_loss: 0.3157 - val_accuracy: 0.8817\n",
            "Epoch 18/25\n",
            "1064/1064 [==============================] - 99s 93ms/step - loss: 0.2447 - accuracy: 0.9030 - val_loss: 0.3148 - val_accuracy: 0.8813\n",
            "Epoch 19/25\n",
            "1064/1064 [==============================] - 96s 90ms/step - loss: 0.2241 - accuracy: 0.9086 - val_loss: 0.3077 - val_accuracy: 0.8859\n",
            "Epoch 20/25\n",
            "1064/1064 [==============================] - 95s 89ms/step - loss: 0.2357 - accuracy: 0.9083 - val_loss: 0.3492 - val_accuracy: 0.8787\n",
            "Epoch 21/25\n",
            "1064/1064 [==============================] - 101s 95ms/step - loss: 0.2449 - accuracy: 0.9051 - val_loss: 0.3098 - val_accuracy: 0.8820\n",
            "Epoch 22/25\n",
            "1064/1064 [==============================] - 96s 90ms/step - loss: 0.2327 - accuracy: 0.9107 - val_loss: 0.3302 - val_accuracy: 0.8643\n",
            "Epoch 23/25\n",
            "1064/1064 [==============================] - 95s 89ms/step - loss: 0.2251 - accuracy: 0.9121 - val_loss: 0.3224 - val_accuracy: 0.8810\n",
            "Epoch 24/25\n",
            "1064/1064 [==============================] - 95s 89ms/step - loss: 0.2484 - accuracy: 0.9036 - val_loss: 0.3648 - val_accuracy: 0.8702\n",
            "Epoch 25/25\n",
            "1064/1064 [==============================] - 96s 90ms/step - loss: 0.2380 - accuracy: 0.9039 - val_loss: 0.3427 - val_accuracy: 0.8738\n",
            "912/912 [==============================] - 11s 12ms/step - loss: 0.3413 - accuracy: 0.8753\n",
            "Test accuracy of vanilla RNN with row data: 0.8752657175064087\n"
          ]
        }
      ]
    },
    {
      "cell_type": "markdown",
      "source": [
        "**LSTM Model**"
      ],
      "metadata": {
        "id": "7ILtbzlc-dT6"
      }
    },
    {
      "cell_type": "code",
      "source": [
        "import numpy as np\n",
        "import tensorflow as tf\n",
        "from tensorflow.keras.models import Sequential\n",
        "from tensorflow.keras.layers import LSTM, Dense, Embedding\n",
        "from tensorflow.keras.preprocessing.text import Tokenizer\n",
        "from tensorflow.keras.preprocessing.sequence import pad_sequences\n",
        "from tensorflow.keras.utils import to_categorical\n",
        "\n",
        "# Preparing the data\n",
        "max_words = 10000\n",
        "max_len = 100\n",
        "tokenizer = Tokenizer(num_words=max_words)\n",
        "tokenizer.fit_on_texts(train['preprocessed_text'])\n",
        "\n",
        "X_train = tokenizer.texts_to_sequences(train['preprocessed_text'])\n",
        "X_test = tokenizer.texts_to_sequences(test['preprocessed_text'])\n",
        "X_valid = tokenizer.texts_to_sequences(validate['preprocessed_text'])\n",
        "\n",
        "X_train = pad_sequences(X_train, maxlen=max_len)\n",
        "X_test = pad_sequences(X_test, maxlen=max_len)\n",
        "X_valid = pad_sequences(X_valid, maxlen=max_len)\n",
        "\n",
        "y_train = to_categorical(train['overall'])\n",
        "y_test = to_categorical(test['overall'])\n",
        "y_valid = to_categorical(validate['overall'])\n",
        "\n",
        "# Build the model\n",
        "model = Sequential()\n",
        "model.add(Embedding(max_words, 128, input_length=max_len))\n",
        "model.add(LSTM(64))\n",
        "model.add(Dense(2, activation='softmax'))\n",
        "\n",
        "# Compile the model\n",
        "model.compile(optimizer='adam', loss='categorical_crossentropy', metrics=['accuracy'])\n",
        "\n",
        "# Train the model\n",
        "history = model.fit(X_train, y_train, validation_data=(X_valid, y_valid), epochs=10, batch_size=128)\n",
        "\n",
        "# Evaluate the model\n",
        "loss, accuracy = model.evaluate(X_test, y_test)\n",
        "\n",
        "print(\"Test accuracy of LSTM model with preprocessed_text :\", accuracy)"
      ],
      "metadata": {
        "id": "SjepF1_j9CVE",
        "outputId": "0c33e80c-5133-4f52-d083-f121960ad77e",
        "colab": {
          "base_uri": "https://localhost:8080/"
        }
      },
      "execution_count": null,
      "outputs": [
        {
          "output_type": "stream",
          "name": "stdout",
          "text": [
            "Epoch 1/10\n",
            "1064/1064 [==============================] - 305s 285ms/step - loss: 0.2461 - accuracy: 0.9044 - val_loss: 0.2192 - val_accuracy: 0.9131\n",
            "Epoch 2/10\n",
            "1064/1064 [==============================] - 286s 269ms/step - loss: 0.1949 - accuracy: 0.9214 - val_loss: 0.2183 - val_accuracy: 0.9139\n",
            "Epoch 3/10\n",
            "1064/1064 [==============================] - 292s 274ms/step - loss: 0.1719 - accuracy: 0.9306 - val_loss: 0.2239 - val_accuracy: 0.9142\n",
            "Epoch 4/10\n",
            "1064/1064 [==============================] - 288s 270ms/step - loss: 0.1514 - accuracy: 0.9397 - val_loss: 0.2361 - val_accuracy: 0.9080\n",
            "Epoch 5/10\n",
            "1064/1064 [==============================] - 288s 270ms/step - loss: 0.1348 - accuracy: 0.9465 - val_loss: 0.2544 - val_accuracy: 0.9102\n",
            "Epoch 6/10\n",
            "1064/1064 [==============================] - 292s 274ms/step - loss: 0.1163 - accuracy: 0.9546 - val_loss: 0.2783 - val_accuracy: 0.9093\n",
            "Epoch 7/10\n",
            "1064/1064 [==============================] - 288s 271ms/step - loss: 0.1003 - accuracy: 0.9615 - val_loss: 0.3180 - val_accuracy: 0.9034\n",
            "Epoch 8/10\n",
            "1064/1064 [==============================] - 288s 271ms/step - loss: 0.0859 - accuracy: 0.9676 - val_loss: 0.3899 - val_accuracy: 0.8882\n",
            "Epoch 9/10\n",
            "1064/1064 [==============================] - 290s 273ms/step - loss: 0.0718 - accuracy: 0.9730 - val_loss: 0.3903 - val_accuracy: 0.9007\n",
            "Epoch 10/10\n",
            "1064/1064 [==============================] - 286s 269ms/step - loss: 0.0614 - accuracy: 0.9777 - val_loss: 0.4423 - val_accuracy: 0.8974\n",
            "912/912 [==============================] - 23s 25ms/step - loss: 0.4559 - accuracy: 0.8981\n",
            "Test accuracy: 0.8981348276138306\n"
          ]
        }
      ]
    },
    {
      "cell_type": "code",
      "source": [
        "import numpy as np\n",
        "import tensorflow as tf\n",
        "from tensorflow.keras.models import Sequential\n",
        "from tensorflow.keras.layers import LSTM, Dense, Embedding\n",
        "from tensorflow.keras.preprocessing.text import Tokenizer\n",
        "from tensorflow.keras.preprocessing.sequence import pad_sequences\n",
        "from tensorflow.keras.utils import to_categorical\n",
        "\n",
        "# Preparing the data\n",
        "max_words = 10000\n",
        "max_len = 100\n",
        "tokenizer = Tokenizer(num_words=max_words)\n",
        "tokenizer.fit_on_texts(train['reviewText'])\n",
        "\n",
        "X_train = tokenizer.texts_to_sequences(train['reviewText'])\n",
        "X_test = tokenizer.texts_to_sequences(test['reviewText'])\n",
        "X_valid = tokenizer.texts_to_sequences(validate['reviewText'])\n",
        "\n",
        "X_train = pad_sequences(X_train, maxlen=max_len)\n",
        "X_test = pad_sequences(X_test, maxlen=max_len)\n",
        "X_valid = pad_sequences(X_valid, maxlen=max_len)\n",
        "\n",
        "y_train = to_categorical(train['overall'])\n",
        "y_test = to_categorical(test['overall'])\n",
        "y_valid = to_categorical(validate['overall'])\n",
        "\n",
        "# Build the model\n",
        "model = Sequential()\n",
        "model.add(Embedding(max_words, 128, input_length=max_len))\n",
        "model.add(LSTM(64))\n",
        "model.add(Dense(2, activation='softmax'))\n",
        "\n",
        "# Compile the model\n",
        "model.compile(optimizer='adam', loss='categorical_crossentropy', metrics=['accuracy'])\n",
        "\n",
        "# Train the model\n",
        "history = model.fit(X_train, y_train, validation_data=(X_valid, y_valid), epochs=10, batch_size=128)\n",
        "\n",
        "# Evaluate the model\n",
        "loss, accuracy = model.evaluate(X_test, y_test)\n",
        "\n",
        "print(\"Test accuracy of LSTM model with row data :\", accuracy)"
      ],
      "metadata": {
        "id": "bHjU_1vHeO_M",
        "colab": {
          "base_uri": "https://localhost:8080/"
        },
        "outputId": "4457fea9-aa6b-42bf-fa88-e1f6b3fd9b7c"
      },
      "execution_count": 25,
      "outputs": [
        {
          "output_type": "stream",
          "name": "stdout",
          "text": [
            "Epoch 1/10\n",
            "1064/1064 [==============================] - 280s 260ms/step - loss: 0.2376 - accuracy: 0.9073 - val_loss: 0.2063 - val_accuracy: 0.9188\n",
            "Epoch 2/10\n",
            "1064/1064 [==============================] - 286s 269ms/step - loss: 0.1821 - accuracy: 0.9263 - val_loss: 0.2073 - val_accuracy: 0.9233\n",
            "Epoch 3/10\n",
            "1064/1064 [==============================] - 281s 264ms/step - loss: 0.1576 - accuracy: 0.9369 - val_loss: 0.2091 - val_accuracy: 0.9217\n",
            "Epoch 4/10\n",
            "1064/1064 [==============================] - 285s 268ms/step - loss: 0.1351 - accuracy: 0.9462 - val_loss: 0.2066 - val_accuracy: 0.9205\n",
            "Epoch 5/10\n",
            "1064/1064 [==============================] - 283s 266ms/step - loss: 0.1166 - accuracy: 0.9536 - val_loss: 0.2347 - val_accuracy: 0.9231\n",
            "Epoch 6/10\n",
            "1064/1064 [==============================] - 284s 267ms/step - loss: 0.0980 - accuracy: 0.9620 - val_loss: 0.2377 - val_accuracy: 0.9203\n",
            "Epoch 7/10\n",
            "1064/1064 [==============================] - 283s 266ms/step - loss: 0.0838 - accuracy: 0.9678 - val_loss: 0.2687 - val_accuracy: 0.9155\n",
            "Epoch 8/10\n",
            "1064/1064 [==============================] - 285s 268ms/step - loss: 0.0692 - accuracy: 0.9742 - val_loss: 0.3073 - val_accuracy: 0.9069\n",
            "Epoch 9/10\n",
            "1064/1064 [==============================] - 282s 265ms/step - loss: 0.0602 - accuracy: 0.9776 - val_loss: 0.3205 - val_accuracy: 0.9141\n",
            "Epoch 10/10\n",
            "1064/1064 [==============================] - 281s 264ms/step - loss: 0.0510 - accuracy: 0.9811 - val_loss: 0.3728 - val_accuracy: 0.9099\n",
            "912/912 [==============================] - 21s 23ms/step - loss: 0.3778 - accuracy: 0.9060\n",
            "Test accuracy of LSTM model with row data : 0.9060207009315491\n"
          ]
        }
      ]
    }
  ],
  "metadata": {
    "kernelspec": {
      "display_name": "Python 3",
      "language": "python",
      "name": "python3"
    },
    "language_info": {
      "codemirror_mode": {
        "name": "ipython",
        "version": 3
      },
      "file_extension": ".py",
      "mimetype": "text/x-python",
      "name": "python",
      "nbconvert_exporter": "python",
      "pygments_lexer": "ipython3",
      "version": "3.10.0"
    },
    "orig_nbformat": 4,
    "colab": {
      "provenance": []
    }
  },
  "nbformat": 4,
  "nbformat_minor": 0
}