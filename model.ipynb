{
  "cells": [
    {
      "cell_type": "markdown",
      "metadata": {
        "id": "view-in-github",
        "colab_type": "text"
      },
      "source": [
        "<a href=\"https://colab.research.google.com/github/Ayoub-cyborg/Sentiment-analyses-model/blob/main/model.ipynb\" target=\"_parent\"><img src=\"https://colab.research.google.com/assets/colab-badge.svg\" alt=\"Open In Colab\"/></a>"
      ]
    },
    {
      "cell_type": "code",
      "execution_count": null,
      "metadata": {
        "id": "1Le23vpVIozU"
      },
      "outputs": [],
      "source": [
        "import pandas as pd\n",
        "import numpy as np\n",
        "import re\n",
        "import nltk\n",
        "from nltk.corpus import stopwords\n",
        "from nltk.tokenize import word_tokenize\n",
        "from nltk.stem import WordNetLemmatizer\n",
        "from sklearn.model_selection import train_test_split\n",
        "from sklearn.feature_extraction.text import CountVectorizer,TfidfVectorizer\n",
        "from sklearn.svm import SVC\n",
        "from sklearn.metrics import accuracy_score\n",
        "from gensim.models import Word2Vec"
      ]
    },
    {
      "cell_type": "markdown",
      "metadata": {
        "id": "3lhGo9PzIozW"
      },
      "source": [
        "Data Importation"
      ]
    },
    {
      "cell_type": "code",
      "source": [
        "from google.colab import drive\n",
        "drive.mount('/content/drive')"
      ],
      "metadata": {
        "id": "EidMNe8yJT-t",
        "colab": {
          "base_uri": "https://localhost:8080/"
        },
        "outputId": "7dce6468-d4b0-4fa5-d47e-e3888ec6f12b"
      },
      "execution_count": 10,
      "outputs": [
        {
          "output_type": "stream",
          "name": "stdout",
          "text": [
            "Mounted at /content/drive\n"
          ]
        }
      ]
    },
    {
      "cell_type": "code",
      "source": [
        "dataset_path = '/content/drive/MyDrive/Cell_Phones_and_Accessories_5.json'"
      ],
      "metadata": {
        "id": "HRhrEDyORdK_"
      },
      "execution_count": null,
      "outputs": []
    },
    {
      "cell_type": "code",
      "execution_count": null,
      "metadata": {
        "id": "I6BXXYmAIozY",
        "colab": {
          "base_uri": "https://localhost:8080/",
          "height": 563
        },
        "outputId": "ee0c8005-f988-4195-dcfa-e250556f5034"
      },
      "outputs": [
        {
          "output_type": "execute_result",
          "data": {
            "text/plain": [
              "       reviewerID        asin      reviewerName helpful  \\\n",
              "0  A30TL5EWN6DFXT  120401325X         christina  [0, 0]   \n",
              "1   ASY55RVNIL0UD  120401325X          emily l.  [0, 0]   \n",
              "2  A2TMXE2AFO7ONB  120401325X             Erica  [0, 0]   \n",
              "3   AWJ0WZQYMYFQ4  120401325X                JM  [4, 4]   \n",
              "4   ATX7CZYFXI1KW  120401325X  patrice m rogoza  [2, 3]   \n",
              "5   APX47D16JOP7H  120401325X               RLH  [1, 2]   \n",
              "6  A1JVVYYO7G56DS  120401325X       Tyler Evans  [0, 0]   \n",
              "7   A6FGO4TBZ3QFZ  3998899561  Abdullah Albyati  [1, 2]   \n",
              "8  A2JWEDW5FSVB0F  3998899561              Adam  [2, 3]   \n",
              "9   A8AJS1DW7L3JJ  3998899561   Agata Majchrzak  [1, 1]   \n",
              "\n",
              "                                          reviewText  overall  \\\n",
              "0  They look good and stick good! I just don't li...        4   \n",
              "1  These stickers work like the review says they ...        5   \n",
              "2  These are awesome and make my phone look so st...        5   \n",
              "3  Item arrived in great time and was in perfect ...        4   \n",
              "4  awesome! stays on, and looks great. can be use...        5   \n",
              "5  These make using the home button easy. My daug...        3   \n",
              "6  Came just as described.. It doesn't come unstu...        5   \n",
              "7  it worked for the first week then it only char...        1   \n",
              "8  Good case, solid build. Protects phone all aro...        5   \n",
              "9  This is a fantastic case. Very stylish and pro...        5   \n",
              "\n",
              "                                     summary  unixReviewTime   reviewTime  \n",
              "0                                 Looks Good      1400630400  05 21, 2014  \n",
              "1                      Really great product.      1389657600  01 14, 2014  \n",
              "2                             LOVE LOVE LOVE      1403740800  06 26, 2014  \n",
              "3                                      Cute!      1382313600  10 21, 2013  \n",
              "4  leopard home button sticker for iphone 4s      1359849600   02 3, 2013  \n",
              "5                                       Cute      1381536000  10 12, 2013  \n",
              "6                          best thing ever..      1377129600  08 22, 2013  \n",
              "7                            not a good Idea      1384992000  11 21, 2013  \n",
              "8                                 Solid Case      1380067200  09 25, 2013  \n",
              "9                               Perfect Case      1396483200   04 3, 2014  "
            ],
            "text/html": [
              "\n",
              "  <div id=\"df-7db9db8c-9994-45f8-8a1e-3521198a5ddb\">\n",
              "    <div class=\"colab-df-container\">\n",
              "      <div>\n",
              "<style scoped>\n",
              "    .dataframe tbody tr th:only-of-type {\n",
              "        vertical-align: middle;\n",
              "    }\n",
              "\n",
              "    .dataframe tbody tr th {\n",
              "        vertical-align: top;\n",
              "    }\n",
              "\n",
              "    .dataframe thead th {\n",
              "        text-align: right;\n",
              "    }\n",
              "</style>\n",
              "<table border=\"1\" class=\"dataframe\">\n",
              "  <thead>\n",
              "    <tr style=\"text-align: right;\">\n",
              "      <th></th>\n",
              "      <th>reviewerID</th>\n",
              "      <th>asin</th>\n",
              "      <th>reviewerName</th>\n",
              "      <th>helpful</th>\n",
              "      <th>reviewText</th>\n",
              "      <th>overall</th>\n",
              "      <th>summary</th>\n",
              "      <th>unixReviewTime</th>\n",
              "      <th>reviewTime</th>\n",
              "    </tr>\n",
              "  </thead>\n",
              "  <tbody>\n",
              "    <tr>\n",
              "      <th>0</th>\n",
              "      <td>A30TL5EWN6DFXT</td>\n",
              "      <td>120401325X</td>\n",
              "      <td>christina</td>\n",
              "      <td>[0, 0]</td>\n",
              "      <td>They look good and stick good! I just don't li...</td>\n",
              "      <td>4</td>\n",
              "      <td>Looks Good</td>\n",
              "      <td>1400630400</td>\n",
              "      <td>05 21, 2014</td>\n",
              "    </tr>\n",
              "    <tr>\n",
              "      <th>1</th>\n",
              "      <td>ASY55RVNIL0UD</td>\n",
              "      <td>120401325X</td>\n",
              "      <td>emily l.</td>\n",
              "      <td>[0, 0]</td>\n",
              "      <td>These stickers work like the review says they ...</td>\n",
              "      <td>5</td>\n",
              "      <td>Really great product.</td>\n",
              "      <td>1389657600</td>\n",
              "      <td>01 14, 2014</td>\n",
              "    </tr>\n",
              "    <tr>\n",
              "      <th>2</th>\n",
              "      <td>A2TMXE2AFO7ONB</td>\n",
              "      <td>120401325X</td>\n",
              "      <td>Erica</td>\n",
              "      <td>[0, 0]</td>\n",
              "      <td>These are awesome and make my phone look so st...</td>\n",
              "      <td>5</td>\n",
              "      <td>LOVE LOVE LOVE</td>\n",
              "      <td>1403740800</td>\n",
              "      <td>06 26, 2014</td>\n",
              "    </tr>\n",
              "    <tr>\n",
              "      <th>3</th>\n",
              "      <td>AWJ0WZQYMYFQ4</td>\n",
              "      <td>120401325X</td>\n",
              "      <td>JM</td>\n",
              "      <td>[4, 4]</td>\n",
              "      <td>Item arrived in great time and was in perfect ...</td>\n",
              "      <td>4</td>\n",
              "      <td>Cute!</td>\n",
              "      <td>1382313600</td>\n",
              "      <td>10 21, 2013</td>\n",
              "    </tr>\n",
              "    <tr>\n",
              "      <th>4</th>\n",
              "      <td>ATX7CZYFXI1KW</td>\n",
              "      <td>120401325X</td>\n",
              "      <td>patrice m rogoza</td>\n",
              "      <td>[2, 3]</td>\n",
              "      <td>awesome! stays on, and looks great. can be use...</td>\n",
              "      <td>5</td>\n",
              "      <td>leopard home button sticker for iphone 4s</td>\n",
              "      <td>1359849600</td>\n",
              "      <td>02 3, 2013</td>\n",
              "    </tr>\n",
              "    <tr>\n",
              "      <th>5</th>\n",
              "      <td>APX47D16JOP7H</td>\n",
              "      <td>120401325X</td>\n",
              "      <td>RLH</td>\n",
              "      <td>[1, 2]</td>\n",
              "      <td>These make using the home button easy. My daug...</td>\n",
              "      <td>3</td>\n",
              "      <td>Cute</td>\n",
              "      <td>1381536000</td>\n",
              "      <td>10 12, 2013</td>\n",
              "    </tr>\n",
              "    <tr>\n",
              "      <th>6</th>\n",
              "      <td>A1JVVYYO7G56DS</td>\n",
              "      <td>120401325X</td>\n",
              "      <td>Tyler Evans</td>\n",
              "      <td>[0, 0]</td>\n",
              "      <td>Came just as described.. It doesn't come unstu...</td>\n",
              "      <td>5</td>\n",
              "      <td>best thing ever..</td>\n",
              "      <td>1377129600</td>\n",
              "      <td>08 22, 2013</td>\n",
              "    </tr>\n",
              "    <tr>\n",
              "      <th>7</th>\n",
              "      <td>A6FGO4TBZ3QFZ</td>\n",
              "      <td>3998899561</td>\n",
              "      <td>Abdullah Albyati</td>\n",
              "      <td>[1, 2]</td>\n",
              "      <td>it worked for the first week then it only char...</td>\n",
              "      <td>1</td>\n",
              "      <td>not a good Idea</td>\n",
              "      <td>1384992000</td>\n",
              "      <td>11 21, 2013</td>\n",
              "    </tr>\n",
              "    <tr>\n",
              "      <th>8</th>\n",
              "      <td>A2JWEDW5FSVB0F</td>\n",
              "      <td>3998899561</td>\n",
              "      <td>Adam</td>\n",
              "      <td>[2, 3]</td>\n",
              "      <td>Good case, solid build. Protects phone all aro...</td>\n",
              "      <td>5</td>\n",
              "      <td>Solid Case</td>\n",
              "      <td>1380067200</td>\n",
              "      <td>09 25, 2013</td>\n",
              "    </tr>\n",
              "    <tr>\n",
              "      <th>9</th>\n",
              "      <td>A8AJS1DW7L3JJ</td>\n",
              "      <td>3998899561</td>\n",
              "      <td>Agata Majchrzak</td>\n",
              "      <td>[1, 1]</td>\n",
              "      <td>This is a fantastic case. Very stylish and pro...</td>\n",
              "      <td>5</td>\n",
              "      <td>Perfect Case</td>\n",
              "      <td>1396483200</td>\n",
              "      <td>04 3, 2014</td>\n",
              "    </tr>\n",
              "  </tbody>\n",
              "</table>\n",
              "</div>\n",
              "      <button class=\"colab-df-convert\" onclick=\"convertToInteractive('df-7db9db8c-9994-45f8-8a1e-3521198a5ddb')\"\n",
              "              title=\"Convert this dataframe to an interactive table.\"\n",
              "              style=\"display:none;\">\n",
              "        \n",
              "  <svg xmlns=\"http://www.w3.org/2000/svg\" height=\"24px\"viewBox=\"0 0 24 24\"\n",
              "       width=\"24px\">\n",
              "    <path d=\"M0 0h24v24H0V0z\" fill=\"none\"/>\n",
              "    <path d=\"M18.56 5.44l.94 2.06.94-2.06 2.06-.94-2.06-.94-.94-2.06-.94 2.06-2.06.94zm-11 1L8.5 8.5l.94-2.06 2.06-.94-2.06-.94L8.5 2.5l-.94 2.06-2.06.94zm10 10l.94 2.06.94-2.06 2.06-.94-2.06-.94-.94-2.06-.94 2.06-2.06.94z\"/><path d=\"M17.41 7.96l-1.37-1.37c-.4-.4-.92-.59-1.43-.59-.52 0-1.04.2-1.43.59L10.3 9.45l-7.72 7.72c-.78.78-.78 2.05 0 2.83L4 21.41c.39.39.9.59 1.41.59.51 0 1.02-.2 1.41-.59l7.78-7.78 2.81-2.81c.8-.78.8-2.07 0-2.86zM5.41 20L4 18.59l7.72-7.72 1.47 1.35L5.41 20z\"/>\n",
              "  </svg>\n",
              "      </button>\n",
              "      \n",
              "  <style>\n",
              "    .colab-df-container {\n",
              "      display:flex;\n",
              "      flex-wrap:wrap;\n",
              "      gap: 12px;\n",
              "    }\n",
              "\n",
              "    .colab-df-convert {\n",
              "      background-color: #E8F0FE;\n",
              "      border: none;\n",
              "      border-radius: 50%;\n",
              "      cursor: pointer;\n",
              "      display: none;\n",
              "      fill: #1967D2;\n",
              "      height: 32px;\n",
              "      padding: 0 0 0 0;\n",
              "      width: 32px;\n",
              "    }\n",
              "\n",
              "    .colab-df-convert:hover {\n",
              "      background-color: #E2EBFA;\n",
              "      box-shadow: 0px 1px 2px rgba(60, 64, 67, 0.3), 0px 1px 3px 1px rgba(60, 64, 67, 0.15);\n",
              "      fill: #174EA6;\n",
              "    }\n",
              "\n",
              "    [theme=dark] .colab-df-convert {\n",
              "      background-color: #3B4455;\n",
              "      fill: #D2E3FC;\n",
              "    }\n",
              "\n",
              "    [theme=dark] .colab-df-convert:hover {\n",
              "      background-color: #434B5C;\n",
              "      box-shadow: 0px 1px 3px 1px rgba(0, 0, 0, 0.15);\n",
              "      filter: drop-shadow(0px 1px 2px rgba(0, 0, 0, 0.3));\n",
              "      fill: #FFFFFF;\n",
              "    }\n",
              "  </style>\n",
              "\n",
              "      <script>\n",
              "        const buttonEl =\n",
              "          document.querySelector('#df-7db9db8c-9994-45f8-8a1e-3521198a5ddb button.colab-df-convert');\n",
              "        buttonEl.style.display =\n",
              "          google.colab.kernel.accessAllowed ? 'block' : 'none';\n",
              "\n",
              "        async function convertToInteractive(key) {\n",
              "          const element = document.querySelector('#df-7db9db8c-9994-45f8-8a1e-3521198a5ddb');\n",
              "          const dataTable =\n",
              "            await google.colab.kernel.invokeFunction('convertToInteractive',\n",
              "                                                     [key], {});\n",
              "          if (!dataTable) return;\n",
              "\n",
              "          const docLinkHtml = 'Like what you see? Visit the ' +\n",
              "            '<a target=\"_blank\" href=https://colab.research.google.com/notebooks/data_table.ipynb>data table notebook</a>'\n",
              "            + ' to learn more about interactive tables.';\n",
              "          element.innerHTML = '';\n",
              "          dataTable['output_type'] = 'display_data';\n",
              "          await google.colab.output.renderOutput(dataTable, element);\n",
              "          const docLink = document.createElement('div');\n",
              "          docLink.innerHTML = docLinkHtml;\n",
              "          element.appendChild(docLink);\n",
              "        }\n",
              "      </script>\n",
              "    </div>\n",
              "  </div>\n",
              "  "
            ]
          },
          "metadata": {},
          "execution_count": 5
        }
      ],
      "source": [
        "df = pd.read_json(dataset_path, lines=True)\n",
        "df.head(10)"
      ]
    },
    {
      "cell_type": "code",
      "execution_count": null,
      "metadata": {
        "id": "P08yxJgUIoza",
        "colab": {
          "base_uri": "https://localhost:8080/",
          "height": 581
        },
        "outputId": "68ac1ec2-3663-4052-b118-dd1dd35d1f6a"
      },
      "outputs": [
        {
          "output_type": "execute_result",
          "data": {
            "text/plain": [
              "            reviewerID        asin                      reviewerName helpful  \\\n",
              "194429   AF30DHAVSYNZ0  B00LH1R6SK                         Sasha DLH  [0, 0]   \n",
              "194430  A34KTJ4VWNBOHI  B00LH1R6SK                             Stina  [0, 0]   \n",
              "194431  A1Q1Z7IR79G52A  B00LORXVUE  Ann Ingersoll Madison Rain \"Ann\"  [0, 0]   \n",
              "194432  A388OX0ZF7OT8R  B00LORXVUE                           Chuck.C  [0, 0]   \n",
              "194433  A2BLFCOPSMBOZ9  B00LORXVUE                     Dave Edmiston  [0, 0]   \n",
              "194434  A1YMNTFLNDYQ1F  B00LORXVUE                   eyeused2loveher  [0, 0]   \n",
              "194435  A15TX8B2L8B20S  B00LORXVUE                      Jon Davidson  [0, 0]   \n",
              "194436  A3JI7QRZO1QG8X  B00LORXVUE                 Joyce M. Davidson  [0, 0]   \n",
              "194437  A1NHB2VC68YQNM  B00LORXVUE                    Nurse Farrugia  [0, 0]   \n",
              "194438  A1AG6U022WHXBF  B00LORXVUE                    Trisha Crocker  [0, 0]   \n",
              "\n",
              "                                               reviewText  overall  \\\n",
              "194429  Ahah, I love it. The case looks better than th...        5   \n",
              "194430  As someone who owns an iPhone, I absolutely lo...        5   \n",
              "194431  What a high quality cable. Right out of the pa...        5   \n",
              "194432  This one actually works unlike some others I b...        4   \n",
              "194433  I don't like the word \"hate\", so let's just sa...        5   \n",
              "194434  Works great just like my original one. I reall...        5   \n",
              "194435  Great product. Great packaging. High quality a...        5   \n",
              "194436  This is a great cable, just as good as the mor...        5   \n",
              "194437  I really like it becasue it works well with my...        5   \n",
              "194438  product as described, I have wasted a lot of m...        5   \n",
              "\n",
              "                                                  summary  unixReviewTime  \\\n",
              "194429                                         Yesssssss!      1405641600   \n",
              "194430                        Beautiful Color and Texture      1405641600   \n",
              "194431  Must have, high quality charging cable for ipa...      1405987200   \n",
              "194432                                          Long Wire      1405728000   \n",
              "194433                                     Awesome cable!      1405641600   \n",
              "194434                           This works just perfect!      1405900800   \n",
              "194435           Great replacement cable. Apple certified      1405900800   \n",
              "194436                                       Real quality      1405900800   \n",
              "194437  I really like it becasue it works well with my...      1405814400   \n",
              "194438              I have wasted a lot of money on cords      1405900800   \n",
              "\n",
              "         reviewTime  \n",
              "194429  07 18, 2014  \n",
              "194430  07 18, 2014  \n",
              "194431  07 22, 2014  \n",
              "194432  07 19, 2014  \n",
              "194433  07 18, 2014  \n",
              "194434  07 21, 2014  \n",
              "194435  07 21, 2014  \n",
              "194436  07 21, 2014  \n",
              "194437  07 20, 2014  \n",
              "194438  07 21, 2014  "
            ],
            "text/html": [
              "\n",
              "  <div id=\"df-20439d3d-169f-426f-ac6b-7d79a4eaa865\">\n",
              "    <div class=\"colab-df-container\">\n",
              "      <div>\n",
              "<style scoped>\n",
              "    .dataframe tbody tr th:only-of-type {\n",
              "        vertical-align: middle;\n",
              "    }\n",
              "\n",
              "    .dataframe tbody tr th {\n",
              "        vertical-align: top;\n",
              "    }\n",
              "\n",
              "    .dataframe thead th {\n",
              "        text-align: right;\n",
              "    }\n",
              "</style>\n",
              "<table border=\"1\" class=\"dataframe\">\n",
              "  <thead>\n",
              "    <tr style=\"text-align: right;\">\n",
              "      <th></th>\n",
              "      <th>reviewerID</th>\n",
              "      <th>asin</th>\n",
              "      <th>reviewerName</th>\n",
              "      <th>helpful</th>\n",
              "      <th>reviewText</th>\n",
              "      <th>overall</th>\n",
              "      <th>summary</th>\n",
              "      <th>unixReviewTime</th>\n",
              "      <th>reviewTime</th>\n",
              "    </tr>\n",
              "  </thead>\n",
              "  <tbody>\n",
              "    <tr>\n",
              "      <th>194429</th>\n",
              "      <td>AF30DHAVSYNZ0</td>\n",
              "      <td>B00LH1R6SK</td>\n",
              "      <td>Sasha DLH</td>\n",
              "      <td>[0, 0]</td>\n",
              "      <td>Ahah, I love it. The case looks better than th...</td>\n",
              "      <td>5</td>\n",
              "      <td>Yesssssss!</td>\n",
              "      <td>1405641600</td>\n",
              "      <td>07 18, 2014</td>\n",
              "    </tr>\n",
              "    <tr>\n",
              "      <th>194430</th>\n",
              "      <td>A34KTJ4VWNBOHI</td>\n",
              "      <td>B00LH1R6SK</td>\n",
              "      <td>Stina</td>\n",
              "      <td>[0, 0]</td>\n",
              "      <td>As someone who owns an iPhone, I absolutely lo...</td>\n",
              "      <td>5</td>\n",
              "      <td>Beautiful Color and Texture</td>\n",
              "      <td>1405641600</td>\n",
              "      <td>07 18, 2014</td>\n",
              "    </tr>\n",
              "    <tr>\n",
              "      <th>194431</th>\n",
              "      <td>A1Q1Z7IR79G52A</td>\n",
              "      <td>B00LORXVUE</td>\n",
              "      <td>Ann Ingersoll Madison Rain \"Ann\"</td>\n",
              "      <td>[0, 0]</td>\n",
              "      <td>What a high quality cable. Right out of the pa...</td>\n",
              "      <td>5</td>\n",
              "      <td>Must have, high quality charging cable for ipa...</td>\n",
              "      <td>1405987200</td>\n",
              "      <td>07 22, 2014</td>\n",
              "    </tr>\n",
              "    <tr>\n",
              "      <th>194432</th>\n",
              "      <td>A388OX0ZF7OT8R</td>\n",
              "      <td>B00LORXVUE</td>\n",
              "      <td>Chuck.C</td>\n",
              "      <td>[0, 0]</td>\n",
              "      <td>This one actually works unlike some others I b...</td>\n",
              "      <td>4</td>\n",
              "      <td>Long Wire</td>\n",
              "      <td>1405728000</td>\n",
              "      <td>07 19, 2014</td>\n",
              "    </tr>\n",
              "    <tr>\n",
              "      <th>194433</th>\n",
              "      <td>A2BLFCOPSMBOZ9</td>\n",
              "      <td>B00LORXVUE</td>\n",
              "      <td>Dave Edmiston</td>\n",
              "      <td>[0, 0]</td>\n",
              "      <td>I don't like the word \"hate\", so let's just sa...</td>\n",
              "      <td>5</td>\n",
              "      <td>Awesome cable!</td>\n",
              "      <td>1405641600</td>\n",
              "      <td>07 18, 2014</td>\n",
              "    </tr>\n",
              "    <tr>\n",
              "      <th>194434</th>\n",
              "      <td>A1YMNTFLNDYQ1F</td>\n",
              "      <td>B00LORXVUE</td>\n",
              "      <td>eyeused2loveher</td>\n",
              "      <td>[0, 0]</td>\n",
              "      <td>Works great just like my original one. I reall...</td>\n",
              "      <td>5</td>\n",
              "      <td>This works just perfect!</td>\n",
              "      <td>1405900800</td>\n",
              "      <td>07 21, 2014</td>\n",
              "    </tr>\n",
              "    <tr>\n",
              "      <th>194435</th>\n",
              "      <td>A15TX8B2L8B20S</td>\n",
              "      <td>B00LORXVUE</td>\n",
              "      <td>Jon Davidson</td>\n",
              "      <td>[0, 0]</td>\n",
              "      <td>Great product. Great packaging. High quality a...</td>\n",
              "      <td>5</td>\n",
              "      <td>Great replacement cable. Apple certified</td>\n",
              "      <td>1405900800</td>\n",
              "      <td>07 21, 2014</td>\n",
              "    </tr>\n",
              "    <tr>\n",
              "      <th>194436</th>\n",
              "      <td>A3JI7QRZO1QG8X</td>\n",
              "      <td>B00LORXVUE</td>\n",
              "      <td>Joyce M. Davidson</td>\n",
              "      <td>[0, 0]</td>\n",
              "      <td>This is a great cable, just as good as the mor...</td>\n",
              "      <td>5</td>\n",
              "      <td>Real quality</td>\n",
              "      <td>1405900800</td>\n",
              "      <td>07 21, 2014</td>\n",
              "    </tr>\n",
              "    <tr>\n",
              "      <th>194437</th>\n",
              "      <td>A1NHB2VC68YQNM</td>\n",
              "      <td>B00LORXVUE</td>\n",
              "      <td>Nurse Farrugia</td>\n",
              "      <td>[0, 0]</td>\n",
              "      <td>I really like it becasue it works well with my...</td>\n",
              "      <td>5</td>\n",
              "      <td>I really like it becasue it works well with my...</td>\n",
              "      <td>1405814400</td>\n",
              "      <td>07 20, 2014</td>\n",
              "    </tr>\n",
              "    <tr>\n",
              "      <th>194438</th>\n",
              "      <td>A1AG6U022WHXBF</td>\n",
              "      <td>B00LORXVUE</td>\n",
              "      <td>Trisha Crocker</td>\n",
              "      <td>[0, 0]</td>\n",
              "      <td>product as described, I have wasted a lot of m...</td>\n",
              "      <td>5</td>\n",
              "      <td>I have wasted a lot of money on cords</td>\n",
              "      <td>1405900800</td>\n",
              "      <td>07 21, 2014</td>\n",
              "    </tr>\n",
              "  </tbody>\n",
              "</table>\n",
              "</div>\n",
              "      <button class=\"colab-df-convert\" onclick=\"convertToInteractive('df-20439d3d-169f-426f-ac6b-7d79a4eaa865')\"\n",
              "              title=\"Convert this dataframe to an interactive table.\"\n",
              "              style=\"display:none;\">\n",
              "        \n",
              "  <svg xmlns=\"http://www.w3.org/2000/svg\" height=\"24px\"viewBox=\"0 0 24 24\"\n",
              "       width=\"24px\">\n",
              "    <path d=\"M0 0h24v24H0V0z\" fill=\"none\"/>\n",
              "    <path d=\"M18.56 5.44l.94 2.06.94-2.06 2.06-.94-2.06-.94-.94-2.06-.94 2.06-2.06.94zm-11 1L8.5 8.5l.94-2.06 2.06-.94-2.06-.94L8.5 2.5l-.94 2.06-2.06.94zm10 10l.94 2.06.94-2.06 2.06-.94-2.06-.94-.94-2.06-.94 2.06-2.06.94z\"/><path d=\"M17.41 7.96l-1.37-1.37c-.4-.4-.92-.59-1.43-.59-.52 0-1.04.2-1.43.59L10.3 9.45l-7.72 7.72c-.78.78-.78 2.05 0 2.83L4 21.41c.39.39.9.59 1.41.59.51 0 1.02-.2 1.41-.59l7.78-7.78 2.81-2.81c.8-.78.8-2.07 0-2.86zM5.41 20L4 18.59l7.72-7.72 1.47 1.35L5.41 20z\"/>\n",
              "  </svg>\n",
              "      </button>\n",
              "      \n",
              "  <style>\n",
              "    .colab-df-container {\n",
              "      display:flex;\n",
              "      flex-wrap:wrap;\n",
              "      gap: 12px;\n",
              "    }\n",
              "\n",
              "    .colab-df-convert {\n",
              "      background-color: #E8F0FE;\n",
              "      border: none;\n",
              "      border-radius: 50%;\n",
              "      cursor: pointer;\n",
              "      display: none;\n",
              "      fill: #1967D2;\n",
              "      height: 32px;\n",
              "      padding: 0 0 0 0;\n",
              "      width: 32px;\n",
              "    }\n",
              "\n",
              "    .colab-df-convert:hover {\n",
              "      background-color: #E2EBFA;\n",
              "      box-shadow: 0px 1px 2px rgba(60, 64, 67, 0.3), 0px 1px 3px 1px rgba(60, 64, 67, 0.15);\n",
              "      fill: #174EA6;\n",
              "    }\n",
              "\n",
              "    [theme=dark] .colab-df-convert {\n",
              "      background-color: #3B4455;\n",
              "      fill: #D2E3FC;\n",
              "    }\n",
              "\n",
              "    [theme=dark] .colab-df-convert:hover {\n",
              "      background-color: #434B5C;\n",
              "      box-shadow: 0px 1px 3px 1px rgba(0, 0, 0, 0.15);\n",
              "      filter: drop-shadow(0px 1px 2px rgba(0, 0, 0, 0.3));\n",
              "      fill: #FFFFFF;\n",
              "    }\n",
              "  </style>\n",
              "\n",
              "      <script>\n",
              "        const buttonEl =\n",
              "          document.querySelector('#df-20439d3d-169f-426f-ac6b-7d79a4eaa865 button.colab-df-convert');\n",
              "        buttonEl.style.display =\n",
              "          google.colab.kernel.accessAllowed ? 'block' : 'none';\n",
              "\n",
              "        async function convertToInteractive(key) {\n",
              "          const element = document.querySelector('#df-20439d3d-169f-426f-ac6b-7d79a4eaa865');\n",
              "          const dataTable =\n",
              "            await google.colab.kernel.invokeFunction('convertToInteractive',\n",
              "                                                     [key], {});\n",
              "          if (!dataTable) return;\n",
              "\n",
              "          const docLinkHtml = 'Like what you see? Visit the ' +\n",
              "            '<a target=\"_blank\" href=https://colab.research.google.com/notebooks/data_table.ipynb>data table notebook</a>'\n",
              "            + ' to learn more about interactive tables.';\n",
              "          element.innerHTML = '';\n",
              "          dataTable['output_type'] = 'display_data';\n",
              "          await google.colab.output.renderOutput(dataTable, element);\n",
              "          const docLink = document.createElement('div');\n",
              "          docLink.innerHTML = docLinkHtml;\n",
              "          element.appendChild(docLink);\n",
              "        }\n",
              "      </script>\n",
              "    </div>\n",
              "  </div>\n",
              "  "
            ]
          },
          "metadata": {},
          "execution_count": 6
        }
      ],
      "source": [
        "df.tail(10)"
      ]
    },
    {
      "cell_type": "markdown",
      "metadata": {
        "id": "SOGAVzzMIozb"
      },
      "source": [
        "To build an sentiments analyses model, w'are intersting just in the reviewText and overall columns, so we extract just the two columns and drop others columns"
      ]
    },
    {
      "cell_type": "code",
      "execution_count": null,
      "metadata": {
        "id": "jIlTPUaqIozb"
      },
      "outputs": [],
      "source": [
        "# Drop unnecessary columns\n",
        "columns_to_drop = ['reviewerID', 'asin', 'reviewerName', 'helpful', 'summary', 'unixReviewTime', 'reviewTime']\n",
        "df = df.drop(columns_to_drop, axis=1)"
      ]
    },
    {
      "cell_type": "code",
      "execution_count": null,
      "metadata": {
        "id": "K-2sW7oGIozb",
        "colab": {
          "base_uri": "https://localhost:8080/"
        },
        "outputId": "96ab45cb-10cf-4279-e2c1-5cb642e15c61"
      },
      "outputs": [
        {
          "output_type": "execute_result",
          "data": {
            "text/plain": [
              "<bound method NDFrame.head of                                                reviewText  overall\n",
              "0       They look good and stick good! I just don't li...        4\n",
              "1       These stickers work like the review says they ...        5\n",
              "2       These are awesome and make my phone look so st...        5\n",
              "3       Item arrived in great time and was in perfect ...        4\n",
              "4       awesome! stays on, and looks great. can be use...        5\n",
              "...                                                   ...      ...\n",
              "194434  Works great just like my original one. I reall...        5\n",
              "194435  Great product. Great packaging. High quality a...        5\n",
              "194436  This is a great cable, just as good as the mor...        5\n",
              "194437  I really like it becasue it works well with my...        5\n",
              "194438  product as described, I have wasted a lot of m...        5\n",
              "\n",
              "[194439 rows x 2 columns]>"
            ]
          },
          "metadata": {},
          "execution_count": 8
        }
      ],
      "source": [
        "# Verify the updated DataFrame\n",
        "df.head"
      ]
    },
    {
      "cell_type": "code",
      "execution_count": null,
      "metadata": {
        "id": "rGQU3OdaIozc",
        "colab": {
          "base_uri": "https://localhost:8080/"
        },
        "outputId": "bf91fa42-9b88-4db9-845e-d3cd89d1b14b"
      },
      "outputs": [
        {
          "output_type": "stream",
          "name": "stdout",
          "text": [
            "reviewText    0\n",
            "overall       0\n",
            "dtype: int64\n"
          ]
        }
      ],
      "source": [
        "#Verify messing value\n",
        "missing_values_count = df.isnull().sum()\n",
        "print(missing_values_count)"
      ]
    },
    {
      "cell_type": "markdown",
      "metadata": {
        "id": "XaNozTz1Iozc"
      },
      "source": [
        "NB: wa observe that, when the over all is less or equal 2 the review is negative, and when it heigher then 2 the review is positive, so after this step we encode the overall column to 1-->positve , 0 ---> negative"
      ]
    },
    {
      "cell_type": "code",
      "execution_count": null,
      "metadata": {
        "id": "fAznIUpcIozc",
        "colab": {
          "base_uri": "https://localhost:8080/"
        },
        "outputId": "41611aee-33fc-4ef1-b5ae-688b5f77f8a7"
      },
      "outputs": [
        {
          "output_type": "stream",
          "name": "stdout",
          "text": [
            "7         it worked for the first week then it only char...\n",
            "19        It worked great for the first couple of weeks ...\n",
            "26        I am disappointed that the 1A didn't work with...\n",
            "28                         After a week only one side works\n",
            "32        Only works one side at a time. When you connec...\n",
            "                                ...                        \n",
            "194299    I would not recommend this to anyone. The mate...\n",
            "194302    I used to have this case for my ipods and they...\n",
            "194304    I tried to like this product, I got a Warrenty...\n",
            "194309    This is okay if you don't ever need to access ...\n",
            "194346                              Not OEM, cheap knockoff\n",
            "Name: reviewText, Length: 24343, dtype: object\n"
          ]
        }
      ],
      "source": [
        "filtered_df = df.loc[df['overall'] <=2, 'reviewText']\n",
        "print(filtered_df)"
      ]
    },
    {
      "cell_type": "code",
      "execution_count": null,
      "metadata": {
        "id": "05EZCRphIozd",
        "colab": {
          "base_uri": "https://localhost:8080/"
        },
        "outputId": "f2a095bb-6c40-43fc-a0de-6b68022f59ad"
      },
      "outputs": [
        {
          "output_type": "stream",
          "name": "stdout",
          "text": [
            "0         They look good and stick good! I just don't li...\n",
            "1         These stickers work like the review says they ...\n",
            "2         These are awesome and make my phone look so st...\n",
            "3         Item arrived in great time and was in perfect ...\n",
            "4         awesome! stays on, and looks great. can be use...\n",
            "                                ...                        \n",
            "194434    Works great just like my original one. I reall...\n",
            "194435    Great product. Great packaging. High quality a...\n",
            "194436    This is a great cable, just as good as the mor...\n",
            "194437    I really like it becasue it works well with my...\n",
            "194438    product as described, I have wasted a lot of m...\n",
            "Name: reviewText, Length: 170096, dtype: object\n"
          ]
        }
      ],
      "source": [
        "filtered_df = df.loc[df['overall'] >2, 'reviewText']\n",
        "print(filtered_df)"
      ]
    },
    {
      "cell_type": "code",
      "execution_count": null,
      "metadata": {
        "id": "Ukb5RtJkIozd"
      },
      "outputs": [],
      "source": [
        "#Transformation de la variables cibles en une variable numérique binaire\n",
        "# 0: negative ; 1: positive\n",
        "df['overall'] = df['overall'].apply(lambda val: 0 if val <=2 else 1)"
      ]
    },
    {
      "cell_type": "code",
      "execution_count": null,
      "metadata": {
        "id": "qZ90svVzIoze",
        "colab": {
          "base_uri": "https://localhost:8080/"
        },
        "outputId": "37a23150-0aa9-4fdd-9d57-6841c9748c9a"
      },
      "outputs": [
        {
          "output_type": "execute_result",
          "data": {
            "text/plain": [
              "1    0.874804\n",
              "0    0.125196\n",
              "Name: overall, dtype: float64"
            ]
          },
          "metadata": {},
          "execution_count": 13
        }
      ],
      "source": [
        "df['overall'].value_counts(normalize=True)"
      ]
    },
    {
      "cell_type": "code",
      "source": [
        "df['overall'].value_counts().plot.pie(autopct='%.2f')"
      ],
      "metadata": {
        "colab": {
          "base_uri": "https://localhost:8080/",
          "height": 423
        },
        "id": "2AMv_i4zfmO7",
        "outputId": "1f4bcb35-7b9d-475d-8c12-8a232b6e160c"
      },
      "execution_count": null,
      "outputs": [
        {
          "output_type": "execute_result",
          "data": {
            "text/plain": [
              "<Axes: ylabel='overall'>"
            ]
          },
          "metadata": {},
          "execution_count": 14
        },
        {
          "output_type": "display_data",
          "data": {
            "text/plain": [
              "<Figure size 640x480 with 1 Axes>"
            ],
            "image/png": "[encoded data removed]"
          },
          "metadata": {}
        }
      ]
    },
    {
      "cell_type": "markdown",
      "source": [
        "**We observe that we have imbalanced data**\n",
        "\n",
        "\n"
      ],
      "metadata": {
        "id": "NhfCOqVdeuQF"
      }
    },
    {
      "cell_type": "code",
      "source": [
        "! pip install -U imbalanced-learn"
      ],
      "metadata": {
        "colab": {
          "base_uri": "https://localhost:8080/"
        },
        "id": "9UfXXlcAfRIG",
        "outputId": "62fd9d7d-42a8-4f6a-96eb-8a8dae49fa57"
      },
      "execution_count": null,
      "outputs": [
        {
          "output_type": "stream",
          "name": "stdout",
          "text": [
            "Looking in indexes: https://pypi.org/simple, https://us-python.pkg.dev/colab-wheels/public/simple/\n",
            "Requirement already satisfied: imbalanced-learn in /usr/local/lib/python3.10/dist-packages (0.10.1)\n",
            "Requirement already satisfied: numpy>=1.17.3 in /usr/local/lib/python3.10/dist-packages (from imbalanced-learn) (1.22.4)\n",
            "Requirement already satisfied: scipy>=1.3.2 in /usr/local/lib/python3.10/dist-packages (from imbalanced-learn) (1.10.1)\n",
            "Requirement already satisfied: scikit-learn>=1.0.2 in /usr/local/lib/python3.10/dist-packages (from imbalanced-learn) (1.2.2)\n",
            "Requirement already satisfied: joblib>=1.1.1 in /usr/local/lib/python3.10/dist-packages (from imbalanced-learn) (1.2.0)\n",
            "Requirement already satisfied: threadpoolctl>=2.0.0 in /usr/local/lib/python3.10/dist-packages (from imbalanced-learn) (3.1.0)\n"
          ]
        }
      ]
    },
    {
      "cell_type": "markdown",
      "source": [
        "**Over-Sampling  Methode**"
      ],
      "metadata": {
        "id": "LYZVuKhkyK5j"
      }
    },
    {
      "cell_type": "code",
      "source": [
        "from imblearn.over_sampling import RandomOverSampler\n",
        "\n",
        "X = df.drop('overall', axis=1)\n",
        "y = df['overall']\n",
        "\n",
        "# Create an instance of RandomOverSampler\n",
        "random_oversampler = RandomOverSampler()\n",
        "\n",
        "# Perform over-sampling\n",
        "X_resampled, y_resampled = random_oversampler.fit_resample(X, y)\n"
      ],
      "metadata": {
        "id": "7PRXSdxH4oxl"
      },
      "execution_count": null,
      "outputs": []
    },
    {
      "cell_type": "code",
      "source": [
        "y_resampled.value_counts().plot.pie(autopct='%.2f')"
      ],
      "metadata": {
        "colab": {
          "base_uri": "https://localhost:8080/",
          "height": 423
        },
        "id": "-98ZH4gD5t1F",
        "outputId": "18519fe0-e373-4c13-8744-59384797a4f0"
      },
      "execution_count": null,
      "outputs": [
        {
          "output_type": "execute_result",
          "data": {
            "text/plain": [
              "<Axes: ylabel='overall'>"
            ]
          },
          "metadata": {},
          "execution_count": 16
        },
        {
          "output_type": "display_data",
          "data": {
            "text/plain": [
              "<Figure size 640x480 with 1 Axes>"
            ],
            "image/png": "[encoded data removed]"
          },
          "metadata": {}
        }
      ]
    },
    {
      "cell_type": "markdown",
      "metadata": {
        "id": "x3riBehBIoze"
      },
      "source": [
        "Split the data to tarin and test and validate"
      ]
    },
    {
      "cell_type": "code",
      "source": [
        "from sklearn.model_selection import train_test_split\n",
        "\n",
        "seed = 123\n",
        "\n",
        "# Split the resampled data into train and test sets, preserving class distribution\n",
        "X_train, X_test, y_train, y_test = train_test_split(X_resampled, y_resampled, test_size=0.3, random_state=seed, stratify=y_resampled)\n",
        "\n",
        "# Split the test set into test and validation sets, preserving class distribution\n",
        "X_test, X_val, y_test, y_val = train_test_split(X_test, y_test, test_size=0.5, random_state=seed, stratify=y_test)\n",
        "\n",
        "# Combine the training data into one DataFrame\n",
        "train = pd.concat([X_train, y_train], axis=1)\n",
        "\n",
        "# Combine the testing data into one DataFrame\n",
        "test = pd.concat([X_test, y_test], axis=1)\n",
        "\n",
        "# Combine the validation data into one DataFrame\n",
        "valid = pd.concat([X_val, y_val], axis=1)\n",
        "\n",
        "print(\"train data: \", train.shape)\n",
        "print(\"Validation data: \", valid.shape)\n",
        "print(\"test data: \", test.shape)"
      ],
      "metadata": {
        "colab": {
          "base_uri": "https://localhost:8080/"
        },
        "id": "om4crUyX7S2V",
        "outputId": "620e2aeb-d73f-411c-a466-64e45a7cd6a7"
      },
      "execution_count": null,
      "outputs": [
        {
          "output_type": "stream",
          "name": "stdout",
          "text": [
            "train data:  (238134, 2)\n",
            "Validation data:  (51029, 2)\n",
            "test data:  (51029, 2)\n"
          ]
        }
      ]
    },
    {
      "cell_type": "code",
      "source": [
        "train.tail"
      ],
      "metadata": {
        "colab": {
          "base_uri": "https://localhost:8080/"
        },
        "id": "A09CSkSq9kXj",
        "outputId": "62895b68-cbd0-4b4c-e78a-70f2c56b7d5b"
      },
      "execution_count": null,
      "outputs": [
        {
          "output_type": "execute_result",
          "data": {
            "text/plain": [
              "<bound method NDFrame.tail of                                                reviewText  overall\n",
              "89510   Great product, works awesome and as described....        1\n",
              "98052   I purchase quite a few things from Amazon.com ...        1\n",
              "308616  I got this and loved it at first but then I wa...        0\n",
              "316085  Installed the screen, turned on the phone and....        0\n",
              "225555  No instructions. Came in a little plastic bagg...        0\n",
              "...                                                   ...      ...\n",
              "223283  For an iPad to be charged efficiently without ...        0\n",
              "86179   Frustration is the keyword to describe this Bl...        0\n",
              "110210  The battery is bigger than the original and ad...        1\n",
              "289531  Stopped working after a week, but I guess the ...        0\n",
              "320372  i would not recommend  this case to any body i...        0\n",
              "\n",
              "[238134 rows x 2 columns]>"
            ]
          },
          "metadata": {},
          "execution_count": 18
        }
      ]
    },
    {
      "cell_type": "code",
      "execution_count": null,
      "metadata": {
        "id": "I_rJh6WQIozf"
      },
      "outputs": [],
      "source": [
        "#Save data\n",
        "train.to_csv('/content/drive/MyDrive/Sentiments analyses project/train.csv', index=False)\n",
        "valid.to_csv('/content/drive/MyDrive/Sentiments analyses project/validate.csv', index=False)\n",
        "test.to_csv('/content/drive/MyDrive/Sentiments analyses project/test.csv', index=False)"
      ]
    },
    {
      "cell_type": "markdown",
      "metadata": {
        "id": "tv9s4ixuIozh"
      },
      "source": [
        "Data Processing"
      ]
    },
    {
      "cell_type": "code",
      "execution_count": null,
      "metadata": {
        "id": "uXRjnFigIozh"
      },
      "outputs": [],
      "source": [
        "def preprocess_text(text):\n",
        "\n",
        "    # Remove HTML tags\n",
        "    text = re.sub('<[^>]*>', '', text)\n",
        "\n",
        "    # Remove non-alphabetic characters and convert to lowercase\n",
        "    text = re.sub('[^a-zA-Z]', ' ', text).lower()\n",
        "\n",
        "    # Tokenize the text\n",
        "    words = word_tokenize(text)\n",
        "\n",
        "    # Remove stopwords\n",
        "    stop_words = set(stopwords.words('english'))\n",
        "    words = [word for word in words if word not in stop_words]\n",
        "\n",
        "    # Lemmatize the words\n",
        "    lemmatizer = WordNetLemmatizer()\n",
        "    words = [lemmatizer.lemmatize(word) for word in words]\n",
        "\n",
        "    # Combine words back into a single string\n",
        "    preprocessed_text = ' '.join(words)\n",
        "\n",
        "    return preprocessed_text"
      ]
    },
    {
      "cell_type": "code",
      "source": [
        "nltk.download('punkt')"
      ],
      "metadata": {
        "id": "SV2pJQQfTHCZ",
        "colab": {
          "base_uri": "https://localhost:8080/"
        },
        "outputId": "fb13be52-4c52-4821-e57d-486f43365529"
      },
      "execution_count": null,
      "outputs": [
        {
          "output_type": "stream",
          "name": "stderr",
          "text": [
            "[nltk_data] Downloading package punkt to /root/nltk_data...\n",
            "[nltk_data]   Unzipping tokenizers/punkt.zip.\n"
          ]
        },
        {
          "output_type": "execute_result",
          "data": {
            "text/plain": [
              "True"
            ]
          },
          "metadata": {},
          "execution_count": 19
        }
      ]
    },
    {
      "cell_type": "code",
      "source": [
        "nltk.download('stopwords')"
      ],
      "metadata": {
        "id": "HeM9pFFdTPld",
        "colab": {
          "base_uri": "https://localhost:8080/"
        },
        "outputId": "4a95884f-2bd4-4603-ce8d-ae25f16d8129"
      },
      "execution_count": null,
      "outputs": [
        {
          "output_type": "stream",
          "name": "stderr",
          "text": [
            "[nltk_data] Downloading package stopwords to /root/nltk_data...\n",
            "[nltk_data]   Unzipping corpora/stopwords.zip.\n"
          ]
        },
        {
          "output_type": "execute_result",
          "data": {
            "text/plain": [
              "True"
            ]
          },
          "metadata": {},
          "execution_count": 20
        }
      ]
    },
    {
      "cell_type": "code",
      "source": [
        "nltk.download('wordnet')"
      ],
      "metadata": {
        "id": "G7q68KXHTWr1",
        "colab": {
          "base_uri": "https://localhost:8080/"
        },
        "outputId": "4703ca88-220a-4c2e-9066-0e5eb0ed1300"
      },
      "execution_count": null,
      "outputs": [
        {
          "output_type": "stream",
          "name": "stderr",
          "text": [
            "[nltk_data] Downloading package wordnet to /root/nltk_data...\n"
          ]
        },
        {
          "output_type": "execute_result",
          "data": {
            "text/plain": [
              "True"
            ]
          },
          "metadata": {},
          "execution_count": 21
        }
      ]
    },
    {
      "cell_type": "code",
      "execution_count": null,
      "metadata": {
        "id": "bDb7HjkuIozi"
      },
      "outputs": [],
      "source": [
        "train['preprocessed_text']= train['reviewText'].apply(preprocess_text)\n",
        "test['preprocessed_text']= test['reviewText'].apply(preprocess_text)\n",
        "valid['preprocessed_text']= valid['reviewText'].apply(preprocess_text)"
      ]
    },
    {
      "cell_type": "code",
      "execution_count": null,
      "metadata": {
        "id": "XB-7jbwIIozj",
        "colab": {
          "base_uri": "https://localhost:8080/",
          "height": 206
        },
        "outputId": "615ad5aa-ce1b-4d40-ccdd-5da97d57b309"
      },
      "outputs": [
        {
          "output_type": "execute_result",
          "data": {
            "text/plain": [
              "                                               reviewText  overall\n",
              "89510   Great product, works awesome and as described....        1\n",
              "98052   I purchase quite a few things from Amazon.com ...        1\n",
              "308616  I got this and loved it at first but then I wa...        0\n",
              "316085  Installed the screen, turned on the phone and....        0\n",
              "225555  No instructions. Came in a little plastic bagg...        0"
            ],
            "text/html": [
              "\n",
              "  <div id=\"df-23a06d41-3506-460f-bbe7-17ecee2a3adc\">\n",
              "    <div class=\"colab-df-container\">\n",
              "      <div>\n",
              "<style scoped>\n",
              "    .dataframe tbody tr th:only-of-type {\n",
              "        vertical-align: middle;\n",
              "    }\n",
              "\n",
              "    .dataframe tbody tr th {\n",
              "        vertical-align: top;\n",
              "    }\n",
              "\n",
              "    .dataframe thead th {\n",
              "        text-align: right;\n",
              "    }\n",
              "</style>\n",
              "<table border=\"1\" class=\"dataframe\">\n",
              "  <thead>\n",
              "    <tr style=\"text-align: right;\">\n",
              "      <th></th>\n",
              "      <th>reviewText</th>\n",
              "      <th>overall</th>\n",
              "    </tr>\n",
              "  </thead>\n",
              "  <tbody>\n",
              "    <tr>\n",
              "      <th>89510</th>\n",
              "      <td>Great product, works awesome and as described....</td>\n",
              "      <td>1</td>\n",
              "    </tr>\n",
              "    <tr>\n",
              "      <th>98052</th>\n",
              "      <td>I purchase quite a few things from Amazon.com ...</td>\n",
              "      <td>1</td>\n",
              "    </tr>\n",
              "    <tr>\n",
              "      <th>308616</th>\n",
              "      <td>I got this and loved it at first but then I wa...</td>\n",
              "      <td>0</td>\n",
              "    </tr>\n",
              "    <tr>\n",
              "      <th>316085</th>\n",
              "      <td>Installed the screen, turned on the phone and....</td>\n",
              "      <td>0</td>\n",
              "    </tr>\n",
              "    <tr>\n",
              "      <th>225555</th>\n",
              "      <td>No instructions. Came in a little plastic bagg...</td>\n",
              "      <td>0</td>\n",
              "    </tr>\n",
              "  </tbody>\n",
              "</table>\n",
              "</div>\n",
              "      <button class=\"colab-df-convert\" onclick=\"convertToInteractive('df-23a06d41-3506-460f-bbe7-17ecee2a3adc')\"\n",
              "              title=\"Convert this dataframe to an interactive table.\"\n",
              "              style=\"display:none;\">\n",
              "        \n",
              "  <svg xmlns=\"http://www.w3.org/2000/svg\" height=\"24px\"viewBox=\"0 0 24 24\"\n",
              "       width=\"24px\">\n",
              "    <path d=\"M0 0h24v24H0V0z\" fill=\"none\"/>\n",
              "    <path d=\"M18.56 5.44l.94 2.06.94-2.06 2.06-.94-2.06-.94-.94-2.06-.94 2.06-2.06.94zm-11 1L8.5 8.5l.94-2.06 2.06-.94-2.06-.94L8.5 2.5l-.94 2.06-2.06.94zm10 10l.94 2.06.94-2.06 2.06-.94-2.06-.94-.94-2.06-.94 2.06-2.06.94z\"/><path d=\"M17.41 7.96l-1.37-1.37c-.4-.4-.92-.59-1.43-.59-.52 0-1.04.2-1.43.59L10.3 9.45l-7.72 7.72c-.78.78-.78 2.05 0 2.83L4 21.41c.39.39.9.59 1.41.59.51 0 1.02-.2 1.41-.59l7.78-7.78 2.81-2.81c.8-.78.8-2.07 0-2.86zM5.41 20L4 18.59l7.72-7.72 1.47 1.35L5.41 20z\"/>\n",
              "  </svg>\n",
              "      </button>\n",
              "      \n",
              "  <style>\n",
              "    .colab-df-container {\n",
              "      display:flex;\n",
              "      flex-wrap:wrap;\n",
              "      gap: 12px;\n",
              "    }\n",
              "\n",
              "    .colab-df-convert {\n",
              "      background-color: #E8F0FE;\n",
              "      border: none;\n",
              "      border-radius: 50%;\n",
              "      cursor: pointer;\n",
              "      display: none;\n",
              "      fill: #1967D2;\n",
              "      height: 32px;\n",
              "      padding: 0 0 0 0;\n",
              "      width: 32px;\n",
              "    }\n",
              "\n",
              "    .colab-df-convert:hover {\n",
              "      background-color: #E2EBFA;\n",
              "      box-shadow: 0px 1px 2px rgba(60, 64, 67, 0.3), 0px 1px 3px 1px rgba(60, 64, 67, 0.15);\n",
              "      fill: #174EA6;\n",
              "    }\n",
              "\n",
              "    [theme=dark] .colab-df-convert {\n",
              "      background-color: #3B4455;\n",
              "      fill: #D2E3FC;\n",
              "    }\n",
              "\n",
              "    [theme=dark] .colab-df-convert:hover {\n",
              "      background-color: #434B5C;\n",
              "      box-shadow: 0px 1px 3px 1px rgba(0, 0, 0, 0.15);\n",
              "      filter: drop-shadow(0px 1px 2px rgba(0, 0, 0, 0.3));\n",
              "      fill: #FFFFFF;\n",
              "    }\n",
              "  </style>\n",
              "\n",
              "      <script>\n",
              "        const buttonEl =\n",
              "          document.querySelector('#df-23a06d41-3506-460f-bbe7-17ecee2a3adc button.colab-df-convert');\n",
              "        buttonEl.style.display =\n",
              "          google.colab.kernel.accessAllowed ? 'block' : 'none';\n",
              "\n",
              "        async function convertToInteractive(key) {\n",
              "          const element = document.querySelector('#df-23a06d41-3506-460f-bbe7-17ecee2a3adc');\n",
              "          const dataTable =\n",
              "            await google.colab.kernel.invokeFunction('convertToInteractive',\n",
              "                                                     [key], {});\n",
              "          if (!dataTable) return;\n",
              "\n",
              "          const docLinkHtml = 'Like what you see? Visit the ' +\n",
              "            '<a target=\"_blank\" href=https://colab.research.google.com/notebooks/data_table.ipynb>data table notebook</a>'\n",
              "            + ' to learn more about interactive tables.';\n",
              "          element.innerHTML = '';\n",
              "          dataTable['output_type'] = 'display_data';\n",
              "          await google.colab.output.renderOutput(dataTable, element);\n",
              "          const docLink = document.createElement('div');\n",
              "          docLink.innerHTML = docLinkHtml;\n",
              "          element.appendChild(docLink);\n",
              "        }\n",
              "      </script>\n",
              "    </div>\n",
              "  </div>\n",
              "  "
            ]
          },
          "metadata": {},
          "execution_count": 22
        }
      ],
      "source": [
        "train.head()"
      ]
    },
    {
      "cell_type": "markdown",
      "metadata": {
        "id": "69Q7RBDnIozj"
      },
      "source": [
        "Vectorieation using BOW, TF-IDF, Word2vec"
      ]
    },
    {
      "cell_type": "code",
      "execution_count": null,
      "metadata": {
        "id": "K5fXE8CaIozk"
      },
      "outputs": [],
      "source": [
        "def train_svm_with_representations(data_train, data_test, representation):\n",
        "    if representation == 'bow':\n",
        "        vectorizer = CountVectorizer()\n",
        "    elif representation == 'tfidf':\n",
        "        vectorizer = TfidfVectorizer()\n",
        "    else:\n",
        "        raise ValueError(\"Invalid representation. Choose 'bow' or 'tfidf'.\")\n",
        "\n",
        "    X_train = vectorizer.fit_transform(data_train)\n",
        "    X_test = vectorizer.transform(data_test)\n",
        "\n",
        "    clf = SVC()\n",
        "    clf.fit(X_train, y_train)\n",
        "    y_pred = clf.predict(X_test)\n",
        "\n",
        "    return y_pred"
      ]
    },
    {
      "cell_type": "code",
      "execution_count": null,
      "metadata": {
        "id": "tSuG-q2zIozk"
      },
      "outputs": [],
      "source": [
        "def get_word2vec_embeddings(data):\n",
        "    tokenized_sentences = [sentence.split() for sentence in data]\n",
        "    model = Word2Vec(tokenized_sentences, vector_size=100, window=5, min_count=1, workers=4)\n",
        "    \n",
        "    # Initialize an empty array to store the embeddings\n",
        "    embeddings = np.zeros((len(tokenized_sentences), model.vector_size))\n",
        "    \n",
        "    # Populate the embeddings array with word vectors\n",
        "    for i, sentence in enumerate(tokenized_sentences):\n",
        "        word_vectors = [model.wv[word] for word in sentence if word in model.wv]\n",
        "        if word_vectors:\n",
        "            embeddings[i] = np.mean(word_vectors, axis=0)\n",
        "    \n",
        "    return embeddings\n",
        "\n",
        "def train_svm_with_word2vec(data_train, data_test, y_train):\n",
        "    X_train = get_word2vec_embeddings(data_train)\n",
        "    X_test = get_word2vec_embeddings(data_test)\n",
        "    \n",
        "    clf = SVC()\n",
        "    clf.fit(X_train, y_train)\n",
        "    y_pred = clf.predict(X_test)\n",
        "\n",
        "    return y_pred\n"
      ]
    },
    {
      "cell_type": "code",
      "execution_count": null,
      "metadata": {
        "id": "mAgxEnJ5Iozk"
      },
      "outputs": [],
      "source": [
        "X_train = train['preprocessed_text']\n",
        "y_train = train['overall']\n",
        "X_test = test['preprocessed_text']\n",
        "y_test = test['overall']"
      ]
    },
    {
      "cell_type": "code",
      "source": [
        "# Bag of Words\n",
        "y_pred_bow = train_svm_with_representations(X_train, X_test, 'bow')\n",
        "accuracy_bow = accuracy_score(y_test, y_pred_bow)\n",
        "print(accuracy_bow)"
      ],
      "metadata": {
        "id": "yCm379JTglLt"
      },
      "execution_count": null,
      "outputs": []
    },
    {
      "cell_type": "code",
      "execution_count": null,
      "metadata": {
        "id": "gc_oPTb9Iozk"
      },
      "outputs": [],
      "source": [
        "# TF-IDF\n",
        "y_pred_tfidf = train_svm_with_representations(X_train, X_test, 'tfidf')\n",
        "accuracy_tfidf = accuracy_score(y_test, y_pred_tfidf)\n",
        "print(accuracy_tfidf)"
      ]
    },
    {
      "cell_type": "code",
      "execution_count": null,
      "metadata": {
        "id": "vVnx_MgoIozl"
      },
      "outputs": [],
      "source": [
        "# Word2Vec with preprocessed data\n",
        "y_pred_word2vec = train_svm_with_word2vec(X_train, X_test, y_train)\n",
        "accuracy_word2vec = accuracy_score(y_test, y_pred_word2vec)\n",
        "print(accuracy_word2vec)"
      ]
    },
    {
      "cell_type": "code",
      "source": [
        "X_train = train['reviewText']\n",
        "y_train = train['overall']\n",
        "X_test = test['reviewText']\n",
        "y_test = test['overall']"
      ],
      "metadata": {
        "id": "t_a9y_sonA0C"
      },
      "execution_count": null,
      "outputs": []
    },
    {
      "cell_type": "code",
      "source": [
        "# Word2Vec with row data\n",
        "y_pred_word2vec = train_svm_with_word2vec(X_train, X_test, y_train)\n",
        "accuracy_word2vec = accuracy_score(y_test, y_pred_word2vec)\n",
        "print(accuracy_word2vec)"
      ],
      "metadata": {
        "id": "97g3UgDSmiFf"
      },
      "execution_count": null,
      "outputs": []
    },
    {
      "cell_type": "markdown",
      "source": [
        "**Vanilla RNN Model**"
      ],
      "metadata": {
        "id": "vAPaONgG29Ok"
      }
    },
    {
      "cell_type": "code",
      "source": [
        "import numpy as np\n",
        "import tensorflow as tf\n",
        "from tensorflow.keras.models import Sequential\n",
        "from tensorflow.keras.layers import SimpleRNN, Dense, Embedding\n",
        "from tensorflow.keras.preprocessing.text import Tokenizer\n",
        "from tensorflow.keras.preprocessing.sequence import pad_sequences\n",
        "from tensorflow.keras.utils import to_categorical\n",
        "\n",
        "# Preparing the data\n",
        "max_words = 10000\n",
        "max_len = 100\n",
        "tokenizer = Tokenizer(num_words=max_words)\n",
        "tokenizer.fit_on_texts(train['preprocessed_text'])\n",
        "\n",
        "X_train = tokenizer.texts_to_sequences(train['preprocessed_text'])\n",
        "X_test = tokenizer.texts_to_sequences(test['preprocessed_text'])\n",
        "X_valid = tokenizer.texts_to_sequences(validate['preprocessed_text'])\n",
        "\n",
        "X_train = pad_sequences(X_train, maxlen=max_len)\n",
        "X_test = pad_sequences(X_test, maxlen=max_len)\n",
        "X_valid = pad_sequences(X_valid, maxlen=max_len)\n",
        "\n",
        "y_train = to_categorical(train['overall'])\n",
        "y_test = to_categorical(test['overall'])\n",
        "y_valid = to_categorical(validate['overall'])\n",
        "\n",
        "# Build the model\n",
        "model = Sequential()\n",
        "model.add(Embedding(max_words, 128, input_length=max_len))\n",
        "model.add(SimpleRNN(64))\n",
        "model.add(Dense(2, activation='softmax'))\n",
        "\n",
        "# Compile the model validation_data\n",
        "model.compile(optimizer='adam', loss='categorical_crossentropy', metrics=['accuracy'])\n",
        "\n",
        "# Train the model\n",
        "history = model.fit(X_train, y_train, validation_data=(X_valid, y_valid), epochs=25, batch_size=128)\n",
        "\n",
        "# Evaluate the model\n",
        "loss, accuracy = model.evaluate(X_test, y_test)\n",
        "\n",
        "print(\"Test accuracy of vanilla RNN with preprocessed_text:\", accuracy)\n"
      ],
      "metadata": {
        "id": "ZuAjwpm52932"
      },
      "execution_count": null,
      "outputs": []
    },
    {
      "cell_type": "code",
      "source": [
        "import numpy as np\n",
        "import tensorflow as tf\n",
        "from tensorflow.keras.models import Sequential\n",
        "from tensorflow.keras.layers import SimpleRNN, Dense, Embedding\n",
        "from tensorflow.keras.preprocessing.text import Tokenizer\n",
        "from tensorflow.keras.preprocessing.sequence import pad_sequences\n",
        "from tensorflow.keras.utils import to_categorical\n",
        "\n",
        "# Preparing the data\n",
        "max_words = 10000\n",
        "max_len = 100\n",
        "tokenizer = Tokenizer(num_words=max_words)\n",
        "tokenizer.fit_on_texts(train['reviewText'])\n",
        "\n",
        "X_train = tokenizer.texts_to_sequences(train['reviewText'])\n",
        "X_test = tokenizer.texts_to_sequences(test['reviewText'])\n",
        "X_valid = tokenizer.texts_to_sequences(validate['reviewText'])\n",
        "\n",
        "X_train = pad_sequences(X_train, maxlen=max_len)\n",
        "X_test = pad_sequences(X_test, maxlen=max_len)\n",
        "X_valid = pad_sequences(X_valid, maxlen=max_len)\n",
        "\n",
        "y_train = to_categorical(train['overall'])\n",
        "y_test = to_categorical(test['overall'])\n",
        "y_valid = to_categorical(validate['overall'])\n",
        "\n",
        "# Build the model\n",
        "model = Sequential()\n",
        "model.add(Embedding(max_words, 128, input_length=max_len))\n",
        "model.add(SimpleRNN(64))\n",
        "model.add(Dense(2, activation='softmax'))\n",
        "\n",
        "# Compile the model validation_data\n",
        "model.compile(optimizer='adam', loss='categorical_crossentropy', metrics=['accuracy'])\n",
        "\n",
        "# Train the model\n",
        "history = model.fit(X_train, y_train, validation_data=(X_valid, y_valid), epochs=25, batch_size=128)\n",
        "\n",
        "# Evaluate the model\n",
        "loss, accuracy = model.evaluate(X_test, y_test)\n",
        "\n",
        "print(\"Test accuracy of vanilla RNN with row data:\", accuracy)"
      ],
      "metadata": {
        "id": "ynMOVwkSHDVL"
      },
      "execution_count": null,
      "outputs": []
    },
    {
      "cell_type": "markdown",
      "source": [
        "**LSTM Model**"
      ],
      "metadata": {
        "id": "7ILtbzlc-dT6"
      }
    },
    {
      "cell_type": "code",
      "source": [
        "import numpy as np\n",
        "import tensorflow as tf\n",
        "from tensorflow.keras.models import Sequential\n",
        "from tensorflow.keras.layers import LSTM, Dense, Embedding\n",
        "from tensorflow.keras.preprocessing.text import Tokenizer\n",
        "from tensorflow.keras.preprocessing.sequence import pad_sequences\n",
        "from tensorflow.keras.utils import to_categorical\n",
        "from sklearn.metrics import classification_report\n",
        "\n",
        "\n",
        "# Preparing the data\n",
        "max_words = 10000\n",
        "max_len = 100\n",
        "tokenizer = Tokenizer(num_words=max_words)\n",
        "tokenizer.fit_on_texts(train['preprocessed_text'])\n",
        "\n",
        "X_train = tokenizer.texts_to_sequences(train['preprocessed_text'])\n",
        "X_test = tokenizer.texts_to_sequences(test['preprocessed_text'])\n",
        "X_valid = tokenizer.texts_to_sequences(valid['preprocessed_text'])\n",
        "\n",
        "X_train = pad_sequences(X_train, maxlen=max_len)\n",
        "X_test = pad_sequences(X_test, maxlen=max_len)\n",
        "X_valid = pad_sequences(X_valid, maxlen=max_len)\n",
        "\n",
        "y_train = to_categorical(train['overall'])\n",
        "y_test = to_categorical(test['overall'])\n",
        "y_valid = to_categorical(valid['overall'])\n",
        "\n",
        "# Build the model\n",
        "model = Sequential()\n",
        "model.add(Embedding(max_words, 128, input_length=max_len))\n",
        "model.add(LSTM(64))\n",
        "model.add(Dense(2, activation='softmax'))\n",
        "\n",
        "# Compile the model\n",
        "model.compile(optimizer='adam', loss='categorical_crossentropy', metrics=['accuracy'])\n",
        "\n",
        "# Train the model\n",
        "history = model.fit(X_train, y_train, validation_data=(X_valid, y_valid), epochs=10, batch_size=128)\n",
        "\n",
        "# Evaluate the model\n",
        "loss, accuracy = model.evaluate(X_test, y_test)\n",
        "\n",
        "print(\"Test accuracy of LSTM model with preprocessed_text :\", accuracy)"
      ],
      "metadata": {
        "id": "SjepF1_j9CVE"
      },
      "execution_count": null,
      "outputs": []
    },
    {
      "cell_type": "code",
      "source": [
        "#Create Pipeline\n",
        "from sklearn.pipeline import Pipeline\n",
        "from tensorflow.keras.preprocessing.text import Tokenizer\n",
        "from tensorflow.keras.models import Sequential\n",
        "\n",
        "myPipeline = Pipeline(steps=[('tokenizer', Tokenizer(num_words=10000)), ('model', Sequential())])\n",
        "myPipeline"
      ],
      "metadata": {
        "colab": {
          "base_uri": "https://localhost:8080/",
          "height": 126
        },
        "id": "NhSTolIpv6ug",
        "outputId": "e0396ca4-5c6d-4a97-ce10-5a00195f2362"
      },
      "execution_count": null,
      "outputs": [
        {
          "output_type": "execute_result",
          "data": {
            "text/plain": [
              "Pipeline(steps=[('tokenizer',\n",
              "                 <keras.preprocessing.text.Tokenizer object at 0x7f7ec678f670>),\n",
              "                ('model',\n",
              "                 <keras.engine.sequential.Sequential object at 0x7f7ec678e050>)])"
            ],
            "text/html": [
              "<style>#sk-container-id-1 {color: black;background-color: white;}#sk-container-id-1 pre{padding: 0;}#sk-container-id-1 div.sk-toggleable {background-color: white;}#sk-container-id-1 label.sk-toggleable__label {cursor: pointer;display: block;width: 100%;margin-bottom: 0;padding: 0.3em;box-sizing: border-box;text-align: center;}#sk-container-id-1 label.sk-toggleable__label-arrow:before {content: \"▸\";float: left;margin-right: 0.25em;color: #696969;}#sk-container-id-1 label.sk-toggleable__label-arrow:hover:before {color: black;}#sk-container-id-1 div.sk-estimator:hover label.sk-toggleable__label-arrow:before {color: black;}#sk-container-id-1 div.sk-toggleable__content {max-height: 0;max-width: 0;overflow: hidden;text-align: left;background-color: #f0f8ff;}#sk-container-id-1 div.sk-toggleable__content pre {margin: 0.2em;color: black;border-radius: 0.25em;background-color: #f0f8ff;}#sk-container-id-1 input.sk-toggleable__control:checked~div.sk-toggleable__content {max-height: 200px;max-width: 100%;overflow: auto;}#sk-container-id-1 input.sk-toggleable__control:checked~label.sk-toggleable__label-arrow:before {content: \"▾\";}#sk-container-id-1 div.sk-estimator input.sk-toggleable__control:checked~label.sk-toggleable__label {background-color: #d4ebff;}#sk-container-id-1 div.sk-label input.sk-toggleable__control:checked~label.sk-toggleable__label {background-color: #d4ebff;}#sk-container-id-1 input.sk-hidden--visually {border: 0;clip: rect(1px 1px 1px 1px);clip: rect(1px, 1px, 1px, 1px);height: 1px;margin: -1px;overflow: hidden;padding: 0;position: absolute;width: 1px;}#sk-container-id-1 div.sk-estimator {font-family: monospace;background-color: #f0f8ff;border: 1px dotted black;border-radius: 0.25em;box-sizing: border-box;margin-bottom: 0.5em;}#sk-container-id-1 div.sk-estimator:hover {background-color: #d4ebff;}#sk-container-id-1 div.sk-parallel-item::after {content: \"\";width: 100%;border-bottom: 1px solid gray;flex-grow: 1;}#sk-container-id-1 div.sk-label:hover label.sk-toggleable__label {background-color: #d4ebff;}#sk-container-id-1 div.sk-serial::before {content: \"\";position: absolute;border-left: 1px solid gray;box-sizing: border-box;top: 0;bottom: 0;left: 50%;z-index: 0;}#sk-container-id-1 div.sk-serial {display: flex;flex-direction: column;align-items: center;background-color: white;padding-right: 0.2em;padding-left: 0.2em;position: relative;}#sk-container-id-1 div.sk-item {position: relative;z-index: 1;}#sk-container-id-1 div.sk-parallel {display: flex;align-items: stretch;justify-content: center;background-color: white;position: relative;}#sk-container-id-1 div.sk-item::before, #sk-container-id-1 div.sk-parallel-item::before {content: \"\";position: absolute;border-left: 1px solid gray;box-sizing: border-box;top: 0;bottom: 0;left: 50%;z-index: -1;}#sk-container-id-1 div.sk-parallel-item {display: flex;flex-direction: column;z-index: 1;position: relative;background-color: white;}#sk-container-id-1 div.sk-parallel-item:first-child::after {align-self: flex-end;width: 50%;}#sk-container-id-1 div.sk-parallel-item:last-child::after {align-self: flex-start;width: 50%;}#sk-container-id-1 div.sk-parallel-item:only-child::after {width: 0;}#sk-container-id-1 div.sk-dashed-wrapped {border: 1px dashed gray;margin: 0 0.4em 0.5em 0.4em;box-sizing: border-box;padding-bottom: 0.4em;background-color: white;}#sk-container-id-1 div.sk-label label {font-family: monospace;font-weight: bold;display: inline-block;line-height: 1.2em;}#sk-container-id-1 div.sk-label-container {text-align: center;}#sk-container-id-1 div.sk-container {/* jupyter's `normalize.less` sets `[hidden] { display: none; }` but bootstrap.min.css set `[hidden] { display: none !important; }` so we also need the `!important` here to be able to override the default hidden behavior on the sphinx rendered scikit-learn.org. See: https://github.com/scikit-learn/scikit-learn/issues/21755 */display: inline-block !important;position: relative;}#sk-container-id-1 div.sk-text-repr-fallback {display: none;}</style><div id=\"sk-container-id-1\" class=\"sk-top-container\"><div class=\"sk-text-repr-fallback\"><pre>Pipeline(steps=[(&#x27;tokenizer&#x27;,\n",
              "                 &lt;keras.preprocessing.text.Tokenizer object at 0x7f7ec678f670&gt;),\n",
              "                (&#x27;model&#x27;,\n",
              "                 &lt;keras.engine.sequential.Sequential object at 0x7f7ec678e050&gt;)])</pre><b>In a Jupyter environment, please rerun this cell to show the HTML representation or trust the notebook. <br />On GitHub, the HTML representation is unable to render, please try loading this page with nbviewer.org.</b></div><div class=\"sk-container\" hidden><div class=\"sk-item sk-dashed-wrapped\"><div class=\"sk-label-container\"><div class=\"sk-label sk-toggleable\"><input class=\"sk-toggleable__control sk-hidden--visually\" id=\"sk-estimator-id-1\" type=\"checkbox\" ><label for=\"sk-estimator-id-1\" class=\"sk-toggleable__label sk-toggleable__label-arrow\">Pipeline</label><div class=\"sk-toggleable__content\"><pre>Pipeline(steps=[(&#x27;tokenizer&#x27;,\n",
              "                 &lt;keras.preprocessing.text.Tokenizer object at 0x7f7ec678f670&gt;),\n",
              "                (&#x27;model&#x27;,\n",
              "                 &lt;keras.engine.sequential.Sequential object at 0x7f7ec678e050&gt;)])</pre></div></div></div><div class=\"sk-serial\"><div class=\"sk-item\"><div class=\"sk-estimator sk-toggleable\"><input class=\"sk-toggleable__control sk-hidden--visually\" id=\"sk-estimator-id-2\" type=\"checkbox\" ><label for=\"sk-estimator-id-2\" class=\"sk-toggleable__label sk-toggleable__label-arrow\">Tokenizer</label><div class=\"sk-toggleable__content\"><pre>&lt;keras.preprocessing.text.Tokenizer object at 0x7f7ec678f670&gt;</pre></div></div></div><div class=\"sk-item\"><div class=\"sk-estimator sk-toggleable\"><input class=\"sk-toggleable__control sk-hidden--visually\" id=\"sk-estimator-id-3\" type=\"checkbox\" ><label for=\"sk-estimator-id-3\" class=\"sk-toggleable__label sk-toggleable__label-arrow\">Sequential</label><div class=\"sk-toggleable__content\"><pre>&lt;keras.engine.sequential.Sequential object at 0x7f7ec678e050&gt;</pre></div></div></div></div></div></div></div>"
            ]
          },
          "metadata": {},
          "execution_count": 22
        }
      ]
    },
    {
      "cell_type": "code",
      "source": [
        "from sklearn.pipeline import Pipeline\n",
        "from tensorflow.keras.preprocessing.text import Tokenizer\n",
        "from tensorflow.keras.models import Sequential\n",
        "from tensorflow.keras.layers import LSTM, Dense, Embedding\n",
        "from tensorflow.keras.preprocessing.sequence import pad_sequences\n",
        "from tensorflow.keras.utils import to_categorical\n",
        "from sklearn.metrics import classification_report\n",
        "\n",
        "# Create Pipeline\n",
        "myPipeline = Pipeline(steps=[('tokenizer', Tokenizer(num_words=10000)), ('model', Sequential())])\n",
        "\n",
        "# Preparing the data\n",
        "max_words = 10000\n",
        "max_len = 100\n",
        "\n",
        "# Tokenizer\n",
        "myPipeline.named_steps['tokenizer'].fit_on_texts(train['reviewText'])\n",
        "X_train = myPipeline.named_steps['tokenizer'].texts_to_sequences(train['reviewText'])\n",
        "X_test = myPipeline.named_steps['tokenizer'].texts_to_sequences(test['reviewText'])\n",
        "X_valid = myPipeline.named_steps['tokenizer'].texts_to_sequences(valid['reviewText'])\n",
        "\n",
        "# Padding\n",
        "X_train = pad_sequences(X_train, maxlen=max_len)\n",
        "X_test = pad_sequences(X_test, maxlen=max_len)\n",
        "X_valid = pad_sequences(X_valid, maxlen=max_len)\n",
        "\n",
        "# Categorical labels\n",
        "y_train = to_categorical(train['overall'])\n",
        "y_test = to_categorical(test['overall'])\n",
        "y_valid = to_categorical(valid['overall'])\n",
        "\n",
        "# Build the model\n",
        "model = Sequential()\n",
        "model.add(Embedding(max_words, 128, input_length=max_len))\n",
        "model.add(LSTM(64))\n",
        "model.add(Dense(2, activation='softmax'))\n",
        "\n",
        "# Set model in the pipeline\n",
        "myPipeline.named_steps['model'] = model\n",
        "\n",
        "# Compile the model\n",
        "model.compile(optimizer='adam', loss='categorical_crossentropy', metrics=['accuracy'])\n",
        "\n",
        "# Train the model\n",
        "history = model.fit(X_train, y_train, validation_data=(X_valid, y_valid), epochs=10, batch_size=128)\n",
        "\n",
        "# Evaluate the model\n",
        "loss, accuracy = model.evaluate(X_test, y_test)\n",
        "\n",
        "print(\"Test accuracy of LSTM model with raw data:\", accuracy)\n"
      ],
      "metadata": {
        "colab": {
          "base_uri": "https://localhost:8080/"
        },
        "id": "wUw1w_o_-INV",
        "outputId": "c39e323d-5789-4d69-b041-b9bbb3d82478"
      },
      "execution_count": null,
      "outputs": [
        {
          "output_type": "stream",
          "name": "stdout",
          "text": [
            "Epoch 1/10\n",
            "1861/1861 [==============================] - 466s 249ms/step - loss: 0.3108 - accuracy: 0.8697 - val_loss: 0.2454 - val_accuracy: 0.9024\n",
            "Epoch 2/10\n",
            "1861/1861 [==============================] - 449s 241ms/step - loss: 0.1969 - accuracy: 0.9255 - val_loss: 0.1999 - val_accuracy: 0.9276\n",
            "Epoch 3/10\n",
            "1861/1861 [==============================] - 469s 252ms/step - loss: 0.1392 - accuracy: 0.9512 - val_loss: 0.1671 - val_accuracy: 0.9444\n",
            "Epoch 4/10\n",
            "1861/1861 [==============================] - 466s 251ms/step - loss: 0.1050 - accuracy: 0.9646 - val_loss: 0.1625 - val_accuracy: 0.9458\n",
            "Epoch 5/10\n",
            "1861/1861 [==============================] - 474s 255ms/step - loss: 0.0807 - accuracy: 0.9736 - val_loss: 0.2023 - val_accuracy: 0.9394\n",
            "Epoch 6/10\n",
            "1861/1861 [==============================] - 473s 254ms/step - loss: 0.0613 - accuracy: 0.9805 - val_loss: 0.1955 - val_accuracy: 0.9448\n",
            "Epoch 7/10\n",
            "1861/1861 [==============================] - 495s 266ms/step - loss: 0.0480 - accuracy: 0.9849 - val_loss: 0.1525 - val_accuracy: 0.9597\n",
            "Epoch 8/10\n",
            "1861/1861 [==============================] - 476s 256ms/step - loss: 0.0364 - accuracy: 0.9889 - val_loss: 0.1474 - val_accuracy: 0.9621\n",
            "Epoch 9/10\n",
            "1861/1861 [==============================] - 468s 252ms/step - loss: 0.0314 - accuracy: 0.9905 - val_loss: 0.1768 - val_accuracy: 0.9628\n",
            "Epoch 10/10\n",
            "1861/1861 [==============================] - 457s 245ms/step - loss: 0.0247 - accuracy: 0.9925 - val_loss: 0.1865 - val_accuracy: 0.9609\n",
            "1595/1595 [==============================] - 34s 21ms/step - loss: 0.1884 - accuracy: 0.9607\n",
            "Test accuracy of LSTM model with raw data: 0.9606693983078003\n"
          ]
        }
      ]
    },
    {
      "cell_type": "code",
      "source": [
        "import numpy as np\n",
        "import tensorflow as tf\n",
        "from tensorflow.keras.models import Sequential\n",
        "from tensorflow.keras.layers import LSTM, Dense, Embedding\n",
        "from tensorflow.keras.preprocessing.text import Tokenizer\n",
        "from tensorflow.keras.preprocessing.sequence import pad_sequences\n",
        "from tensorflow.keras.utils import to_categorical\n",
        "from sklearn.metrics import classification_report\n",
        "\n",
        "# Preparing the data\n",
        "max_words = 10000\n",
        "max_len = 100\n",
        "\n",
        "tokenizer = Tokenizer(num_words=max_words)\n",
        "tokenizer.fit_on_texts(train['reviewText'])\n",
        "\n",
        "X_train = tokenizer.texts_to_sequences(train['reviewText'])\n",
        "X_test = tokenizer.texts_to_sequences(test['reviewText'])\n",
        "X_valid = tokenizer.texts_to_sequences(valid['reviewText'])\n",
        "\n",
        "X_train = pad_sequences(X_train, maxlen=max_len)\n",
        "X_test = pad_sequences(X_test, maxlen=max_len)\n",
        "X_valid = pad_sequences(X_valid, maxlen=max_len)\n",
        "\n",
        "y_train = to_categorical(train['overall'])\n",
        "y_test = to_categorical(test['overall'])    \n",
        "y_valid = to_categorical(valid['overall'])\n",
        "\n",
        "# Build the model\n",
        "model = Sequential()\n",
        "model.add(Embedding(max_words, 128, input_length=max_len))\n",
        "model.add(LSTM(64))\n",
        "model.add(Dense(2, activation='softmax'))\n",
        "\n",
        "# Compile the model\n",
        "model.compile(optimizer='adam', loss='categorical_crossentropy', metrics=['accuracy'])\n",
        "\n",
        "# Train the model\n",
        "history = model.fit(X_train, y_train, validation_data=(X_valid, y_valid), epochs=10, batch_size=128)\n",
        "\n",
        "# Evaluate the model\n",
        "loss, accuracy = model.evaluate(X_test, y_test)\n",
        "\n",
        "print(\"Test accuracy of LSTM model with raw data:\", accuracy)\n",
        "\n",
        "# Classification Report\n",
        "y_pred = model.predict(X_test)\n",
        "y_pred = np.argmax(y_pred, axis=1)\n",
        "y_true = np.argmax(y_test, axis=1)\n",
        "\n",
        "report = classification_report(y_true, y_pred)\n",
        "print(\"Classification Report:\")\n",
        "print(report)\n"
      ],
      "metadata": {
        "id": "bHjU_1vHeO_M",
        "colab": {
          "base_uri": "https://localhost:8080/"
        },
        "outputId": "db59efcc-3ca3-4e3a-a86c-d7006ea42954"
      },
      "execution_count": null,
      "outputs": [
        {
          "output_type": "stream",
          "name": "stdout",
          "text": [
            "Epoch 1/10\n",
            "1861/1861 [==============================] - 495s 264ms/step - loss: 0.3082 - accuracy: 0.8699 - val_loss: 0.2410 - val_accuracy: 0.9056\n",
            "Epoch 2/10\n",
            "1861/1861 [==============================] - 500s 269ms/step - loss: 0.1959 - accuracy: 0.9254 - val_loss: 0.1876 - val_accuracy: 0.9321\n",
            "Epoch 3/10\n",
            "1861/1861 [==============================] - 501s 269ms/step - loss: 0.1401 - accuracy: 0.9505 - val_loss: 0.1643 - val_accuracy: 0.9422\n",
            "Epoch 4/10\n",
            "1861/1861 [==============================] - 505s 271ms/step - loss: 0.1019 - accuracy: 0.9659 - val_loss: 0.1486 - val_accuracy: 0.9533\n",
            "Epoch 5/10\n",
            "1861/1861 [==============================] - 501s 269ms/step - loss: 0.0771 - accuracy: 0.9754 - val_loss: 0.1526 - val_accuracy: 0.9542\n",
            "Epoch 6/10\n",
            "1861/1861 [==============================] - 504s 271ms/step - loss: 0.0586 - accuracy: 0.9817 - val_loss: 0.1698 - val_accuracy: 0.9535\n",
            "Epoch 7/10\n",
            "1861/1861 [==============================] - 506s 272ms/step - loss: 0.0439 - accuracy: 0.9868 - val_loss: 0.1363 - val_accuracy: 0.9640\n",
            "Epoch 8/10\n",
            "1861/1861 [==============================] - 509s 273ms/step - loss: 0.0346 - accuracy: 0.9897 - val_loss: 0.1375 - val_accuracy: 0.9658\n",
            "Epoch 9/10\n",
            "1861/1861 [==============================] - 507s 273ms/step - loss: 0.0270 - accuracy: 0.9919 - val_loss: 0.1815 - val_accuracy: 0.9626\n",
            "Epoch 10/10\n",
            "1861/1861 [==============================] - 506s 272ms/step - loss: 0.0207 - accuracy: 0.9938 - val_loss: 0.1655 - val_accuracy: 0.9668\n",
            "1595/1595 [==============================] - 37s 23ms/step - loss: 0.1666 - accuracy: 0.9667\n",
            "Test accuracy of LSTM model with raw data: 0.9666855931282043\n",
            "1595/1595 [==============================] - 37s 23ms/step\n",
            "Classification Report:\n",
            "              precision    recall  f1-score   support\n",
            "\n",
            "           0       0.94      0.99      0.97     25514\n",
            "           1       0.99      0.94      0.97     25515\n",
            "\n",
            "    accuracy                           0.97     51029\n",
            "   macro avg       0.97      0.97      0.97     51029\n",
            "weighted avg       0.97      0.97      0.97     51029\n",
            "\n"
          ]
        }
      ]
    },
    {
      "cell_type": "code",
      "source": [
        "!pip install pyyaml h5py  # Required to save models in HDF5 format"
      ],
      "metadata": {
        "colab": {
          "base_uri": "https://localhost:8080/"
        },
        "id": "9_OPIJAGl6Xe",
        "outputId": "16bd33cf-c56e-49f6-b90c-e458888fb3ba"
      },
      "execution_count": null,
      "outputs": [
        {
          "output_type": "stream",
          "name": "stdout",
          "text": [
            "Looking in indexes: https://pypi.org/simple, https://us-python.pkg.dev/colab-wheels/public/simple/\n",
            "Requirement already satisfied: pyyaml in /usr/local/lib/python3.10/dist-packages (6.0)\n",
            "Requirement already satisfied: h5py in /usr/local/lib/python3.10/dist-packages (3.8.0)\n",
            "Requirement already satisfied: numpy>=1.14.5 in /usr/local/lib/python3.10/dist-packages (from h5py) (1.22.4)\n"
          ]
        }
      ]
    },
    {
      "cell_type": "code",
      "source": [
        "import os\n",
        "\n",
        "import tensorflow as tf\n",
        "from tensorflow import keras\n",
        "\n",
        "print(tf.version.VERSION)"
      ],
      "metadata": {
        "colab": {
          "base_uri": "https://localhost:8080/"
        },
        "id": "9VssMQgBrdfU",
        "outputId": "0cd4bd76-dbc8-448a-c027-e0abe4b89ce1"
      },
      "execution_count": null,
      "outputs": [
        {
          "output_type": "stream",
          "name": "stdout",
          "text": [
            "2.12.0\n"
          ]
        }
      ]
    },
    {
      "cell_type": "code",
      "source": [
        "#Save the model \n",
        "# Display the model's architecture\n",
        "model.summary()"
      ],
      "metadata": {
        "colab": {
          "base_uri": "https://localhost:8080/"
        },
        "id": "bfTWXrMTrfgh",
        "outputId": "1e60ea86-dbe3-4508-a3ae-24d97d291fdb"
      },
      "execution_count": null,
      "outputs": [
        {
          "output_type": "stream",
          "name": "stdout",
          "text": [
            "Model: \"sequential\"\n",
            "_________________________________________________________________\n",
            " Layer (type)                Output Shape              Param #   \n",
            "=================================================================\n",
            " embedding (Embedding)       (None, 100, 128)          1280000   \n",
            "                                                                 \n",
            " lstm (LSTM)                 (None, 64)                49408     \n",
            "                                                                 \n",
            " dense (Dense)               (None, 2)                 130       \n",
            "                                                                 \n",
            "=================================================================\n",
            "Total params: 1,329,538\n",
            "Trainable params: 1,329,538\n",
            "Non-trainable params: 0\n",
            "_________________________________________________________________\n"
          ]
        }
      ]
    },
    {
      "cell_type": "code",
      "source": [
        "# Save the entire model as a SavedModel.\n",
        "!mkdir -p saved_model\n",
        "model.save('/content/drive/MyDrive/saved_model/my_model')"
      ],
      "metadata": {
        "id": "SruXk8CAvTN1"
      },
      "execution_count": null,
      "outputs": []
    },
    {
      "cell_type": "code",
      "source": [
        "import tensorflow as tf\n",
        "import joblib\n",
        "new_model = tf.keras.models.load_model('/content/drive/MyDrive/saved_model/my_model')\n",
        "tokenizer = joblib.load(\"/content/drive/MyDrive/tokenizer1.0.1.pkl\")\n",
        "\n",
        "# Check its architecture\n",
        "new_model.summary()"
      ],
      "metadata": {
        "colab": {
          "base_uri": "https://localhost:8080/"
        },
        "id": "EAxs366Rv_eW",
        "outputId": "028e959e-01eb-484c-91f9-a90aa323744f"
      },
      "execution_count": 14,
      "outputs": [
        {
          "output_type": "stream",
          "name": "stdout",
          "text": [
            "Model: \"sequential\"\n",
            "_________________________________________________________________\n",
            " Layer (type)                Output Shape              Param #   \n",
            "=================================================================\n",
            " embedding (Embedding)       (None, 100, 128)          1280000   \n",
            "                                                                 \n",
            " lstm (LSTM)                 (None, 64)                49408     \n",
            "                                                                 \n",
            " dense (Dense)               (None, 2)                 130       \n",
            "                                                                 \n",
            "=================================================================\n",
            "Total params: 1,329,538\n",
            "Trainable params: 1,329,538\n",
            "Non-trainable params: 0\n",
            "_________________________________________________________________\n"
          ]
        }
      ]
    },
    {
      "cell_type": "code",
      "source": [
        "# Evaluate the restored model\n",
        "loss, acc = new_model.evaluate(X_test, y_test, verbose=2)\n",
        "print('Restored model, accuracy: {:5.2f}%'.format(100 * acc))\n"
      ],
      "metadata": {
        "id": "KDT7Wr1K2F7q"
      },
      "execution_count": null,
      "outputs": []
    },
    {
      "cell_type": "code",
      "source": [
        "from tensorflow.keras.preprocessing.sequence import pad_sequences\n",
        "\n",
        "# Input text\n",
        "\n",
        "text = [\"I don't recommand to use python guys\"]\n",
        "sequences = tokenizer.texts_to_sequences(text)\n",
        "padded_sequences = pad_sequences(sequences, maxlen=100)  # Assuming the same max_len value as in the previous code\n",
        "\n",
        "\n",
        "# Make predictions using the loaded model\n",
        "predictions = new_model.predict(padded_sequences)\n",
        "print(predictions)"
      ],
      "metadata": {
        "colab": {
          "base_uri": "https://localhost:8080/"
        },
        "id": "bTzUycqZwLp2",
        "outputId": "f1e929ed-e94d-4168-9d20-535c8f1608a6"
      },
      "execution_count": 24,
      "outputs": [
        {
          "output_type": "stream",
          "name": "stdout",
          "text": [
            "1/1 [==============================] - 0s 77ms/step\n",
            "[[0.9830497  0.01695034]]\n"
          ]
        }
      ]
    },
    {
      "cell_type": "code",
      "source": [
        "import numpy as np\n",
        "# Assuming you have loaded the predictions into the 'predictions' variable\n",
        "\n",
        "sentiment_labels = ['negative', 'positive']\n",
        "\n",
        "# Check if predictions exist\n",
        "if predictions.shape[0] > 0:\n",
        "    # Classify the sentiment based on the prediction probabilities\n",
        "    classified_sentiment = sentiment_labels[np.argmax(predictions[0])]\n",
        "else:\n",
        "    # Unable to classify se ntiment\n",
        "    classified_sentiment = \"Unknown\"\n",
        "\n",
        "# Print the input sentence and the classified sentiment\n",
        "print(\"Input Sentence:\", text[0])\n",
        "print(\"Sentiment:\", classified_sentiment)"
      ],
      "metadata": {
        "colab": {
          "base_uri": "https://localhost:8080/"
        },
        "id": "TNO9yt4yzWEL",
        "outputId": "f02db5c0-d0ae-4de1-86b4-cc6c6be441d8"
      },
      "execution_count": 25,
      "outputs": [
        {
          "output_type": "stream",
          "name": "stdout",
          "text": [
            "Input Sentence: I don't recommand to use python guys\n",
            "Sentiment: negative\n"
          ]
        }
      ]
    },
    {
      "cell_type": "markdown",
      "source": [
        "**Transformer Based Models (DistilBERT and Roberta)**\n",
        "\n",
        "\n"
      ],
      "metadata": {
        "id": "H2Cipf9-fhU3"
      }
    },
    {
      "cell_type": "code",
      "source": [
        "!pip install transformers"
      ],
      "metadata": {
        "id": "XzbwwYQyfhzs",
        "colab": {
          "base_uri": "https://localhost:8080/"
        },
        "outputId": "a9cbb139-d1f3-40c9-b1e0-a9e62c47f47b"
      },
      "execution_count": null,
      "outputs": [
        {
          "output_type": "stream",
          "name": "stdout",
          "text": [
            "Looking in indexes: https://pypi.org/simple, https://us-python.pkg.dev/colab-wheels/public/simple/\n",
            "Collecting transformers\n",
            "  Downloading transformers-4.29.2-py3-none-any.whl (7.1 MB)\n",
            "\u001b[2K     \u001b[90m━━━━━━━━━━━━━━━━━━━━━━━━━━━━━━━━━━━━━━━━\u001b[0m \u001b[32m7.1/7.1 MB\u001b[0m \u001b[31m72.3 MB/s\u001b[0m eta \u001b[36m0:00:00\u001b[0m\n",
            "\u001b[?25hRequirement already satisfied: filelock in /usr/local/lib/python3.10/dist-packages (from transformers) (3.12.0)\n",
            "Collecting huggingface-hub<1.0,>=0.14.1 (from transformers)\n",
            "  Downloading huggingface_hub-0.14.1-py3-none-any.whl (224 kB)\n",
            "\u001b[2K     \u001b[90m━━━━━━━━━━━━━━━━━━━━━━━━━━━━━━━━━━━━━━\u001b[0m \u001b[32m224.5/224.5 kB\u001b[0m \u001b[31m29.8 MB/s\u001b[0m eta \u001b[36m0:00:00\u001b[0m\n",
            "\u001b[?25hRequirement already satisfied: numpy>=1.17 in /usr/local/lib/python3.10/dist-packages (from transformers) (1.22.4)\n",
            "Requirement already satisfied: packaging>=20.0 in /usr/local/lib/python3.10/dist-packages (from transformers) (23.1)\n",
            "Requirement already satisfied: pyyaml>=5.1 in /usr/local/lib/python3.10/dist-packages (from transformers) (6.0)\n",
            "Requirement already satisfied: regex!=2019.12.17 in /usr/local/lib/python3.10/dist-packages (from transformers) (2022.10.31)\n",
            "Requirement already satisfied: requests in /usr/local/lib/python3.10/dist-packages (from transformers) (2.27.1)\n",
            "Collecting tokenizers!=0.11.3,<0.14,>=0.11.1 (from transformers)\n",
            "  Downloading tokenizers-0.13.3-cp310-cp310-manylinux_2_17_x86_64.manylinux2014_x86_64.whl (7.8 MB)\n",
            "\u001b[2K     \u001b[90m━━━━━━━━━━━━━━━━━━━━━━━━━━━━━━━━━━━━━━━━\u001b[0m \u001b[32m7.8/7.8 MB\u001b[0m \u001b[31m105.7 MB/s\u001b[0m eta \u001b[36m0:00:00\u001b[0m\n",
            "\u001b[?25hRequirement already satisfied: tqdm>=4.27 in /usr/local/lib/python3.10/dist-packages (from transformers) (4.65.0)\n",
            "Requirement already satisfied: fsspec in /usr/local/lib/python3.10/dist-packages (from huggingface-hub<1.0,>=0.14.1->transformers) (2023.4.0)\n",
            "Requirement already satisfied: typing-extensions>=3.7.4.3 in /usr/local/lib/python3.10/dist-packages (from huggingface-hub<1.0,>=0.14.1->transformers) (4.5.0)\n",
            "Requirement already satisfied: urllib3<1.27,>=1.21.1 in /usr/local/lib/python3.10/dist-packages (from requests->transformers) (1.26.15)\n",
            "Requirement already satisfied: certifi>=2017.4.17 in /usr/local/lib/python3.10/dist-packages (from requests->transformers) (2022.12.7)\n",
            "Requirement already satisfied: charset-normalizer~=2.0.0 in /usr/local/lib/python3.10/dist-packages (from requests->transformers) (2.0.12)\n",
            "Requirement already satisfied: idna<4,>=2.5 in /usr/local/lib/python3.10/dist-packages (from requests->transformers) (3.4)\n",
            "Installing collected packages: tokenizers, huggingface-hub, transformers\n",
            "Successfully installed huggingface-hub-0.14.1 tokenizers-0.13.3 transformers-4.29.2\n"
          ]
        }
      ]
    },
    {
      "cell_type": "code",
      "source": [
        "import transformers\n",
        "from transformers import DistilBertTokenizer\n",
        "from transformers import TFDistilBertForSequenceClassification\n",
        "from transformers import TextClassificationPipeline"
      ],
      "metadata": {
        "id": "hWTyZLSUNfSm"
      },
      "execution_count": null,
      "outputs": []
    },
    {
      "cell_type": "code",
      "source": [
        "data_texts = df['reviewText'].to_list()\n",
        "data_labels = df['overall'].to_list()"
      ],
      "metadata": {
        "id": "iG6KYUJROZt7"
      },
      "execution_count": null,
      "outputs": []
    },
    {
      "cell_type": "code",
      "source": [
        "train_texts, val_texts, train_labels, val_labels = train_test_split(data_texts, data_labels, test_size = 0.2, random_state = 0 )\n",
        "train_texts, test_texts, train_labels, test_labels = train_test_split(train_texts, train_labels, test_size = 0.01, random_state = 0 )"
      ],
      "metadata": {
        "id": "CJz9Y5gnO0bq"
      },
      "execution_count": null,
      "outputs": []
    },
    {
      "cell_type": "code",
      "source": [
        "#Model Definition\n",
        "tokenizer = DistilBertTokenizer.from_pretrained('distilbert-base-uncased')\n",
        "\n",
        "train_encodings = tokenizer(train_texts, truncation = True, padding = True  )\n",
        "\n",
        "val_encodings = tokenizer(val_texts, truncation = True, padding = True )"
      ],
      "metadata": {
        "colab": {
          "base_uri": "https://localhost:8080/",
          "height": 113,
          "referenced_widgets": [
            "a38ace9f0854409f97df756674c8a52e",
            "63d2981d6a944e2492ce832b0320bae2",
            "f8d78341df9b40fdbc2b64367acfc292",
            "ecca223036aa4abdaa04f9075c127946",
            "195b09d4b14c416bbaf04a31a565331a",
            "13ec2aa6f466435c896261b3d284e86a",
            "44caec9d99274c008aec21818aa67f8d",
            "303edc5818a94a918ec0ae971b67e6ae",
            "76c94ba4bcae4b5c88c05ea009ab15c8",
            "eebb2d94486e42d2b1d789c55c23adf1",
            "1d28a30ebbe24f738a83226ca5b65666",
            "b8049de5148f4db3bfd819da1035806d",
            "835e0d0441bd4679ab9044f7e64e41ae",
            "0448136c5a924bb188f81522bdf095e5",
            "907c59a01bdc48b48a05c7327f16b4c1",
            "ff1da894241b443d80ad5c37d611ca61",
            "d87efe8312834f79bf91e4ecd66ddaef",
            "0ed7482baad24752bcd4f6eb8fc9d663",
            "5f7af35c73ca423fa82c69348ea89e8e",
            "9639ad59fd424b4c9d6d37ad55accf5a",
            "21354d62245d404c8c6577ed99d1da70",
            "c11dbd3c6cee421ba1b6d9d7092c512e",
            "0e09ef181660497ba5d18cf7f4e8f8bb",
            "0041c9ee087645059882c26165953ec0",
            "c1b5d709140f46c59cd77436fc9238cf",
            "25619ec53e934261a604c1be635264b7",
            "81d45f7766ff42329797b1a659934dbf",
            "dd122093b34941188b8f5ca8aed31e6a",
            "54860950b14849d3a4f2f50f59175bfd",
            "8b60333409884201a63534b7f8c43b64",
            "5603c6026d504c10a55eebd72f1de9a1",
            "5370a32c063347ea8eaa44c562481535",
            "48b8e4cb88e74e72946a431fa54edc7a"
          ]
        },
        "id": "uZOaFbsKO-sa",
        "outputId": "39ea7507-5f4b-4341-9356-ecc52f99a943"
      },
      "execution_count": null,
      "outputs": [
        {
          "output_type": "display_data",
          "data": {
            "text/plain": [
              "Downloading (…)solve/main/vocab.txt:   0%|          | 0.00/232k [00:00<?, ?B/s]"
            ],
            "application/vnd.jupyter.widget-view+json": {
              "version_major": 2,
              "version_minor": 0,
              "model_id": "a38ace9f0854409f97df756674c8a52e"
            }
          },
          "metadata": {}
        },
        {
          "output_type": "display_data",
          "data": {
            "text/plain": [
              "Downloading (…)okenizer_config.json:   0%|          | 0.00/28.0 [00:00<?, ?B/s]"
            ],
            "application/vnd.jupyter.widget-view+json": {
              "version_major": 2,
              "version_minor": 0,
              "model_id": "b8049de5148f4db3bfd819da1035806d"
            }
          },
          "metadata": {}
        },
        {
          "output_type": "display_data",
          "data": {
            "text/plain": [
              "Downloading (…)lve/main/config.json:   0%|          | 0.00/483 [00:00<?, ?B/s]"
            ],
            "application/vnd.jupyter.widget-view+json": {
              "version_major": 2,
              "version_minor": 0,
              "model_id": "0e09ef181660497ba5d18cf7f4e8f8bb"
            }
          },
          "metadata": {}
        }
      ]
    },
    {
      "cell_type": "code",
      "source": [
        "# Create TensorFlow datasets\n",
        "import tensorflow as tf\n",
        "train_dataset = tf.data.Dataset.from_tensor_slices((\n",
        "    dict(train_encodings),\n",
        "    train_labels\n",
        "))\n",
        "\n",
        "\n",
        "val_dataset = tf.data.Dataset.from_tensor_slices((\n",
        "    dict(val_encodings),\n",
        "    val_labels\n",
        "))"
      ],
      "metadata": {
        "id": "PlOMwyQJQkKd"
      },
      "execution_count": null,
      "outputs": []
    },
    {
      "cell_type": "markdown",
      "source": [
        "**Fine-tuning with the TFTrainer class**"
      ],
      "metadata": {
        "id": "wTZO_oyQQrog"
      }
    },
    {
      "cell_type": "code",
      "source": [
        "model = TFDistilBertForSequenceClassification.from_pretrained('distilbert-base-uncased', num_labels=5)"
      ],
      "metadata": {
        "colab": {
          "base_uri": "https://localhost:8080/",
          "height": 156,
          "referenced_widgets": [
            "124321e5413c464aa596b817d3cb40c0",
            "c65a372e894b420b84d7efa040654d8a",
            "84a9ccb89fc149418b4f257d70457807",
            "09985b12573e47bfa76fb77b6405cbac",
            "a8757fbf3e9443aeb921b4e306363753",
            "7924b6ee66bc4fe9bae0ee9cdefdc546",
            "3199a0054dfa4fd884406a1fcca29859",
            "cc57fc77f6a042e1b2185e04945d9b5a",
            "dc6303c3d0a241399a8e8c2e7ba89ecc",
            "11220710e99c4fbe9c8b744a2741ec56",
            "55598e9024494329b497c6efcf1d9c39"
          ]
        },
        "id": "OxMi4BmlQuDP",
        "outputId": "48f8eefb-035c-4a77-86f2-c474196e8660"
      },
      "execution_count": null,
      "outputs": [
        {
          "output_type": "display_data",
          "data": {
            "text/plain": [
              "Downloading tf_model.h5:   0%|          | 0.00/363M [00:00<?, ?B/s]"
            ],
            "application/vnd.jupyter.widget-view+json": {
              "version_major": 2,
              "version_minor": 0,
              "model_id": "124321e5413c464aa596b817d3cb40c0"
            }
          },
          "metadata": {}
        },
        {
          "output_type": "stream",
          "name": "stderr",
          "text": [
            "Some layers from the model checkpoint at distilbert-base-uncased were not used when initializing TFDistilBertForSequenceClassification: ['vocab_transform', 'vocab_projector', 'vocab_layer_norm', 'activation_13']\n",
            "- This IS expected if you are initializing TFDistilBertForSequenceClassification from the checkpoint of a model trained on another task or with another architecture (e.g. initializing a BertForSequenceClassification model from a BertForPreTraining model).\n",
            "- This IS NOT expected if you are initializing TFDistilBertForSequenceClassification from the checkpoint of a model that you expect to be exactly identical (initializing a BertForSequenceClassification model from a BertForSequenceClassification model).\n",
            "Some layers of TFDistilBertForSequenceClassification were not initialized from the model checkpoint at distilbert-base-uncased and are newly initialized: ['classifier', 'pre_classifier', 'dropout_19']\n",
            "You should probably TRAIN this model on a down-stream task to be able to use it for predictions and inference.\n"
          ]
        }
      ]
    },
    {
      "cell_type": "code",
      "source": [
        "from transformers import TFDistilBertForSequenceClassification, TFTrainer, TFTrainingArguments\n",
        "\n",
        "\n",
        "training_args = TFTrainingArguments(\n",
        "    output_dir='./results',          \n",
        "    num_train_epochs=7,              \n",
        "    per_device_train_batch_size=16,  \n",
        "    per_device_eval_batch_size=64,   \n",
        "    warmup_steps=500,                \n",
        "    weight_decay=1e-5,               \n",
        "    logging_dir='./logs',            \n",
        "    eval_steps=100                   \n",
        ")\n",
        "\n",
        "with training_args.strategy.scope():\n",
        "    trainer_model = TFDistilBertForSequenceClassification.from_pretrained('distilbert-base-uncased', num_labels = 2 )\n",
        "\n",
        "\n",
        "trainer = TFTrainer(\n",
        "    model=trainer_model,                 \n",
        "    args=training_args,                  \n",
        "    train_dataset=train_dataset,         \n",
        "    eval_dataset=val_dataset,            \n",
        ") "
      ],
      "metadata": {
        "colab": {
          "base_uri": "https://localhost:8080/"
        },
        "id": "6Qu3q-QnSrPr",
        "outputId": "3f6aed0b-64c8-4cde-cbbb-60e40fac7fd9"
      },
      "execution_count": null,
      "outputs": [
        {
          "output_type": "stream",
          "name": "stderr",
          "text": [
            "Some layers from the model checkpoint at distilbert-base-uncased were not used when initializing TFDistilBertForSequenceClassification: ['vocab_transform', 'vocab_projector', 'vocab_layer_norm', 'activation_13']\n",
            "- This IS expected if you are initializing TFDistilBertForSequenceClassification from the checkpoint of a model trained on another task or with another architecture (e.g. initializing a BertForSequenceClassification model from a BertForPreTraining model).\n",
            "- This IS NOT expected if you are initializing TFDistilBertForSequenceClassification from the checkpoint of a model that you expect to be exactly identical (initializing a BertForSequenceClassification model from a BertForSequenceClassification model).\n",
            "Some layers of TFDistilBertForSequenceClassification were not initialized from the model checkpoint at distilbert-base-uncased and are newly initialized: ['classifier', 'dropout_39', 'pre_classifier']\n",
            "You should probably TRAIN this model on a down-stream task to be able to use it for predictions and inference.\n",
            "/usr/local/lib/python3.10/dist-packages/transformers/trainer_tf.py:118: FutureWarning: The class `TFTrainer` is deprecated and will be removed in version 5 of Transformers. We recommend using native Keras instead, by calling methods like `fit()` and `predict()` directly on the model object. Detailed examples of the Keras style can be found in our examples at https://github.com/huggingface/transformers/tree/main/examples/tensorflow\n",
            "  warnings.warn(\n"
          ]
        }
      ]
    },
    {
      "cell_type": "code",
      "source": [
        "trainer.train()"
      ],
      "metadata": {
        "id": "VSaOBKFhccDo"
      },
      "execution_count": null,
      "outputs": []
    },
    {
      "cell_type": "code",
      "source": [
        "trainer.evaluate()"
      ],
      "metadata": {
        "id": "RcAzNzUYTrSQ"
      },
      "execution_count": null,
      "outputs": []
    },
    {
      "cell_type": "code",
      "source": [
        "import os\n",
        "import tensorflow as tf\n",
        "from transformers import TFAutoModelForSequenceClassification, AutoTokenizer\n",
        "from sklearn.model_selection import train_test_split\n",
        "import numpy as np\n",
        "\n",
        "# Detect TPU and set up distribution strategy\n",
        "tpu = tf.distribute.cluster_resolver.TPUClusterResolver()\n",
        "tpu.connect()\n",
        "tpu_strategy = tf.distribute.TPUStrategy(tpu)\n",
        "\n",
        "model_name = 'distilbert-base-uncased'\n",
        "tokenizer = AutoTokenizer.from_pretrained(model_name)\n",
        "\n",
        "max_len = 512\n",
        "X_train = tokenizer(text=train['preprocessed_text'].tolist(), add_special_tokens=True, max_length=max_len, truncation=True, padding=True, return_tensors='tf')\n",
        "y_train = train['overall'].values\n",
        "\n",
        "X_train_np = X_train['input_ids'].numpy()\n",
        "X_train_np, X_val_np, y_train, y_val = train_test_split(X_train_np, y_train, test_size=0.2, random_state=42)\n",
        "\n",
        "# Create TensorFlow datasets\n",
        "train_dataset = tf.data.Dataset.from_tensor_slices((X_train_np, y_train)).batch(16)\n",
        "val_dataset = tf.data.Dataset.from_tensor_slices((X_val_np, y_val)).batch(16)\n",
        "\n",
        "with tpu_strategy.scope():\n",
        "    model = TFAutoModelForSequenceClassification.from_pretrained(model_name, num_labels=2)\n",
        "\n",
        "    optimizer = tf.keras.optimizers.Adam(learning_rate=5e-5)\n",
        "    loss = tf.keras.losses.SparseCategoricalCrossentropy(from_logits=True)\n",
        "    model.compile(optimizer=optimizer, loss=loss, metrics=['accuracy'])\n",
        "\n",
        "batch_size = 16\n",
        "epochs = 5\n",
        "history = model.fit(train_dataset, epochs=epochs, validation_data=val_dataset)\n",
        "\n",
        "X_test = tokenizer(text=test['preprocessed_text'].tolist(), add_special_tokens=True, max_length=max_len, truncation=True, padding=True, return_tensors='tf')\n",
        "y_test = test['overall'].values\n",
        "\n",
        "# Convert the test dataset into a TensorFlow dataset\n",
        "test_dataset = tf.data.Dataset.from_tensor_slices((X_test['input_ids'], X_test['attention_mask'])).batch(16)\n",
        "\n",
        "y_pred = model.predict(test_dataset)\n",
        "y_pred_labels = np.argmax(y_pred.logits, axis=1)\n",
        "accuracy = np.sum(y_pred_labels == y_test) / len(y_test)\n",
        "print(f\"Test accuracy of DistilBert Transformers with preprocessed_text: {accuracy:.2f}\")"
      ],
      "metadata": {
        "id": "hHLe2EgFiNDY",
        "colab": {
          "base_uri": "https://localhost:8080/",
          "height": 252
        },
        "outputId": "30e74b96-b7a9-4e9b-ab78-bcebec109d74"
      },
      "execution_count": null,
      "outputs": [
        {
          "output_type": "error",
          "ename": "NameError",
          "evalue": "ignored",
          "traceback": [
            "\u001b[0;31m---------------------------------------------------------------------------\u001b[0m",
            "\u001b[0;31mNameError\u001b[0m                                 Traceback (most recent call last)",
            "\u001b[0;32m<ipython-input-1-bd14897fbef8>\u001b[0m in \u001b[0;36m<cell line: 16>\u001b[0;34m()\u001b[0m\n\u001b[1;32m     14\u001b[0m \u001b[0;34m\u001b[0m\u001b[0m\n\u001b[1;32m     15\u001b[0m \u001b[0mmax_len\u001b[0m \u001b[0;34m=\u001b[0m \u001b[0;36m512\u001b[0m\u001b[0;34m\u001b[0m\u001b[0;34m\u001b[0m\u001b[0m\n\u001b[0;32m---> 16\u001b[0;31m \u001b[0mX_train\u001b[0m \u001b[0;34m=\u001b[0m \u001b[0mtokenizer\u001b[0m\u001b[0;34m(\u001b[0m\u001b[0mtext\u001b[0m\u001b[0;34m=\u001b[0m\u001b[0mtrain\u001b[0m\u001b[0;34m[\u001b[0m\u001b[0;34m'preprocessed_text'\u001b[0m\u001b[0;34m]\u001b[0m\u001b[0;34m.\u001b[0m\u001b[0mtolist\u001b[0m\u001b[0;34m(\u001b[0m\u001b[0;34m)\u001b[0m\u001b[0;34m,\u001b[0m \u001b[0madd_special_tokens\u001b[0m\u001b[0;34m=\u001b[0m\u001b[0;32mTrue\u001b[0m\u001b[0;34m,\u001b[0m \u001b[0mmax_length\u001b[0m\u001b[0;34m=\u001b[0m\u001b[0mmax_len\u001b[0m\u001b[0;34m,\u001b[0m \u001b[0mtruncation\u001b[0m\u001b[0;34m=\u001b[0m\u001b[0;32mTrue\u001b[0m\u001b[0;34m,\u001b[0m \u001b[0mpadding\u001b[0m\u001b[0;34m=\u001b[0m\u001b[0;32mTrue\u001b[0m\u001b[0;34m,\u001b[0m \u001b[0mreturn_tensors\u001b[0m\u001b[0;34m=\u001b[0m\u001b[0;34m'tf'\u001b[0m\u001b[0;34m)\u001b[0m\u001b[0;34m\u001b[0m\u001b[0;34m\u001b[0m\u001b[0m\n\u001b[0m\u001b[1;32m     17\u001b[0m \u001b[0my_train\u001b[0m \u001b[0;34m=\u001b[0m \u001b[0mtrain\u001b[0m\u001b[0;34m[\u001b[0m\u001b[0;34m'overall'\u001b[0m\u001b[0;34m]\u001b[0m\u001b[0;34m.\u001b[0m\u001b[0mvalues\u001b[0m\u001b[0;34m\u001b[0m\u001b[0;34m\u001b[0m\u001b[0m\n\u001b[1;32m     18\u001b[0m \u001b[0;34m\u001b[0m\u001b[0m\n",
            "\u001b[0;31mNameError\u001b[0m: name 'train' is not defined"
          ]
        }
      ]
    }
  ],
  "metadata": {
    "kernelspec": {
      "display_name": "Python 3",
      "language": "python",
      "name": "python3"
    },
    "language_info": {
      "codemirror_mode": {
        "name": "ipython",
        "version": 3
      },
      "file_extension": ".py",
      "mimetype": "text/x-python",
      "name": "python",
      "nbconvert_exporter": "python",
      "pygments_lexer": "ipython3",
      "version": "3.10.0"
    },
    "orig_nbformat": 4,
    "colab": {
      "provenance": [],
      "include_colab_link": true
    },
    "gpuClass": "standard",
    "widgets": {
      "application/vnd.jupyter.widget-state+json": {
        "a38ace9f0854409f97df756674c8a52e": {
          "model_module": "@jupyter-widgets/controls",
          "model_name": "HBoxModel",
          "model_module_version": "1.5.0",
          "state": {
            "_dom_classes": [],
            "_model_module": "@jupyter-widgets/controls",
            "_model_module_version": "1.5.0",
            "_model_name": "HBoxModel",
            "_view_count": null,
            "_view_module": "@jupyter-widgets/controls",
            "_view_module_version": "1.5.0",
            "_view_name": "HBoxView",
            "box_style": "",
            "children": [
              "IPY_MODEL_63d2981d6a944e2492ce832b0320bae2",
              "IPY_MODEL_f8d78341df9b40fdbc2b64367acfc292",
              "IPY_MODEL_ecca223036aa4abdaa04f9075c127946"
            ],
            "layout": "IPY_MODEL_195b09d4b14c416bbaf04a31a565331a"
          }
        },
        "63d2981d6a944e2492ce832b0320bae2": {
          "model_module": "@jupyter-widgets/controls",
          "model_name": "HTMLModel",
          "model_module_version": "1.5.0",
          "state": {
            "_dom_classes": [],
            "_model_module": "@jupyter-widgets/controls",
            "_model_module_version": "1.5.0",
            "_model_name": "HTMLModel",
            "_view_count": null,
            "_view_module": "@jupyter-widgets/controls",
            "_view_module_version": "1.5.0",
            "_view_name": "HTMLView",
            "description": "",
            "description_tooltip": null,
            "layout": "IPY_MODEL_13ec2aa6f466435c896261b3d284e86a",
            "placeholder": "​",
            "style": "IPY_MODEL_44caec9d99274c008aec21818aa67f8d",
            "value": "Downloading (…)solve/main/vocab.txt: 100%"
          }
        },
        "f8d78341df9b40fdbc2b64367acfc292": {
          "model_module": "@jupyter-widgets/controls",
          "model_name": "FloatProgressModel",
          "model_module_version": "1.5.0",
          "state": {
            "_dom_classes": [],
            "_model_module": "@jupyter-widgets/controls",
            "_model_module_version": "1.5.0",
            "_model_name": "FloatProgressModel",
            "_view_count": null,
            "_view_module": "@jupyter-widgets/controls",
            "_view_module_version": "1.5.0",
            "_view_name": "ProgressView",
            "bar_style": "success",
            "description": "",
            "description_tooltip": null,
            "layout": "IPY_MODEL_303edc5818a94a918ec0ae971b67e6ae",
            "max": 231508,
            "min": 0,
            "orientation": "horizontal",
            "style": "IPY_MODEL_76c94ba4bcae4b5c88c05ea009ab15c8",
            "value": 231508
          }
        },
        "ecca223036aa4abdaa04f9075c127946": {
          "model_module": "@jupyter-widgets/controls",
          "model_name": "HTMLModel",
          "model_module_version": "1.5.0",
          "state": {
            "_dom_classes": [],
            "_model_module": "@jupyter-widgets/controls",
            "_model_module_version": "1.5.0",
            "_model_name": "HTMLModel",
            "_view_count": null,
            "_view_module": "@jupyter-widgets/controls",
            "_view_module_version": "1.5.0",
            "_view_name": "HTMLView",
            "description": "",
            "description_tooltip": null,
            "layout": "IPY_MODEL_eebb2d94486e42d2b1d789c55c23adf1",
            "placeholder": "​",
            "style": "IPY_MODEL_1d28a30ebbe24f738a83226ca5b65666",
            "value": " 232k/232k [00:00&lt;00:00, 5.47MB/s]"
          }
        },
        "195b09d4b14c416bbaf04a31a565331a": {
          "model_module": "@jupyter-widgets/base",
          "model_name": "LayoutModel",
          "model_module_version": "1.2.0",
          "state": {
            "_model_module": "@jupyter-widgets/base",
            "_model_module_version": "1.2.0",
            "_model_name": "LayoutModel",
            "_view_count": null,
            "_view_module": "@jupyter-widgets/base",
            "_view_module_version": "1.2.0",
            "_view_name": "LayoutView",
            "align_content": null,
            "align_items": null,
            "align_self": null,
            "border": null,
            "bottom": null,
            "display": null,
            "flex": null,
            "flex_flow": null,
            "grid_area": null,
            "grid_auto_columns": null,
            "grid_auto_flow": null,
            "grid_auto_rows": null,
            "grid_column": null,
            "grid_gap": null,
            "grid_row": null,
            "grid_template_areas": null,
            "grid_template_columns": null,
            "grid_template_rows": null,
            "height": null,
            "justify_content": null,
            "justify_items": null,
            "left": null,
            "margin": null,
            "max_height": null,
            "max_width": null,
            "min_height": null,
            "min_width": null,
            "object_fit": null,
            "object_position": null,
            "order": null,
            "overflow": null,
            "overflow_x": null,
            "overflow_y": null,
            "padding": null,
            "right": null,
            "top": null,
            "visibility": null,
            "width": null
          }
        },
        "13ec2aa6f466435c896261b3d284e86a": {
          "model_module": "@jupyter-widgets/base",
          "model_name": "LayoutModel",
          "model_module_version": "1.2.0",
          "state": {
            "_model_module": "@jupyter-widgets/base",
            "_model_module_version": "1.2.0",
            "_model_name": "LayoutModel",
            "_view_count": null,
            "_view_module": "@jupyter-widgets/base",
            "_view_module_version": "1.2.0",
            "_view_name": "LayoutView",
            "align_content": null,
            "align_items": null,
            "align_self": null,
            "border": null,
            "bottom": null,
            "display": null,
            "flex": null,
            "flex_flow": null,
            "grid_area": null,
            "grid_auto_columns": null,
            "grid_auto_flow": null,
            "grid_auto_rows": null,
            "grid_column": null,
            "grid_gap": null,
            "grid_row": null,
            "grid_template_areas": null,
            "grid_template_columns": null,
            "grid_template_rows": null,
            "height": null,
            "justify_content": null,
            "justify_items": null,
            "left": null,
            "margin": null,
            "max_height": null,
            "max_width": null,
            "min_height": null,
            "min_width": null,
            "object_fit": null,
            "object_position": null,
            "order": null,
            "overflow": null,
            "overflow_x": null,
            "overflow_y": null,
            "padding": null,
            "right": null,
            "top": null,
            "visibility": null,
            "width": null
          }
        },
        "44caec9d99274c008aec21818aa67f8d": {
          "model_module": "@jupyter-widgets/controls",
          "model_name": "DescriptionStyleModel",
          "model_module_version": "1.5.0",
          "state": {
            "_model_module": "@jupyter-widgets/controls",
            "_model_module_version": "1.5.0",
            "_model_name": "DescriptionStyleModel",
            "_view_count": null,
            "_view_module": "@jupyter-widgets/base",
            "_view_module_version": "1.2.0",
            "_view_name": "StyleView",
            "description_width": ""
          }
        },
        "303edc5818a94a918ec0ae971b67e6ae": {
          "model_module": "@jupyter-widgets/base",
          "model_name": "LayoutModel",
          "model_module_version": "1.2.0",
          "state": {
            "_model_module": "@jupyter-widgets/base",
            "_model_module_version": "1.2.0",
            "_model_name": "LayoutModel",
            "_view_count": null,
            "_view_module": "@jupyter-widgets/base",
            "_view_module_version": "1.2.0",
            "_view_name": "LayoutView",
            "align_content": null,
            "align_items": null,
            "align_self": null,
            "border": null,
            "bottom": null,
            "display": null,
            "flex": null,
            "flex_flow": null,
            "grid_area": null,
            "grid_auto_columns": null,
            "grid_auto_flow": null,
            "grid_auto_rows": null,
            "grid_column": null,
            "grid_gap": null,
            "grid_row": null,
            "grid_template_areas": null,
            "grid_template_columns": null,
            "grid_template_rows": null,
            "height": null,
            "justify_content": null,
            "justify_items": null,
            "left": null,
            "margin": null,
            "max_height": null,
            "max_width": null,
            "min_height": null,
            "min_width": null,
            "object_fit": null,
            "object_position": null,
            "order": null,
            "overflow": null,
            "overflow_x": null,
            "overflow_y": null,
            "padding": null,
            "right": null,
            "top": null,
            "visibility": null,
            "width": null
          }
        },
        "76c94ba4bcae4b5c88c05ea009ab15c8": {
          "model_module": "@jupyter-widgets/controls",
          "model_name": "ProgressStyleModel",
          "model_module_version": "1.5.0",
          "state": {
            "_model_module": "@jupyter-widgets/controls",
            "_model_module_version": "1.5.0",
            "_model_name": "ProgressStyleModel",
            "_view_count": null,
            "_view_module": "@jupyter-widgets/base",
            "_view_module_version": "1.2.0",
            "_view_name": "StyleView",
            "bar_color": null,
            "description_width": ""
          }
        },
        "eebb2d94486e42d2b1d789c55c23adf1": {
          "model_module": "@jupyter-widgets/base",
          "model_name": "LayoutModel",
          "model_module_version": "1.2.0",
          "state": {
            "_model_module": "@jupyter-widgets/base",
            "_model_module_version": "1.2.0",
            "_model_name": "LayoutModel",
            "_view_count": null,
            "_view_module": "@jupyter-widgets/base",
            "_view_module_version": "1.2.0",
            "_view_name": "LayoutView",
            "align_content": null,
            "align_items": null,
            "align_self": null,
            "border": null,
            "bottom": null,
            "display": null,
            "flex": null,
            "flex_flow": null,
            "grid_area": null,
            "grid_auto_columns": null,
            "grid_auto_flow": null,
            "grid_auto_rows": null,
            "grid_column": null,
            "grid_gap": null,
            "grid_row": null,
            "grid_template_areas": null,
            "grid_template_columns": null,
            "grid_template_rows": null,
            "height": null,
            "justify_content": null,
            "justify_items": null,
            "left": null,
            "margin": null,
            "max_height": null,
            "max_width": null,
            "min_height": null,
            "min_width": null,
            "object_fit": null,
            "object_position": null,
            "order": null,
            "overflow": null,
            "overflow_x": null,
            "overflow_y": null,
            "padding": null,
            "right": null,
            "top": null,
            "visibility": null,
            "width": null
          }
        },
        "1d28a30ebbe24f738a83226ca5b65666": {
          "model_module": "@jupyter-widgets/controls",
          "model_name": "DescriptionStyleModel",
          "model_module_version": "1.5.0",
          "state": {
            "_model_module": "@jupyter-widgets/controls",
            "_model_module_version": "1.5.0",
            "_model_name": "DescriptionStyleModel",
            "_view_count": null,
            "_view_module": "@jupyter-widgets/base",
            "_view_module_version": "1.2.0",
            "_view_name": "StyleView",
            "description_width": ""
          }
        },
        "b8049de5148f4db3bfd819da1035806d": {
          "model_module": "@jupyter-widgets/controls",
          "model_name": "HBoxModel",
          "model_module_version": "1.5.0",
          "state": {
            "_dom_classes": [],
            "_model_module": "@jupyter-widgets/controls",
            "_model_module_version": "1.5.0",
            "_model_name": "HBoxModel",
            "_view_count": null,
            "_view_module": "@jupyter-widgets/controls",
            "_view_module_version": "1.5.0",
            "_view_name": "HBoxView",
            "box_style": "",
            "children": [
              "IPY_MODEL_835e0d0441bd4679ab9044f7e64e41ae",
              "IPY_MODEL_0448136c5a924bb188f81522bdf095e5",
              "IPY_MODEL_907c59a01bdc48b48a05c7327f16b4c1"
            ],
            "layout": "IPY_MODEL_ff1da894241b443d80ad5c37d611ca61"
          }
        },
        "835e0d0441bd4679ab9044f7e64e41ae": {
          "model_module": "@jupyter-widgets/controls",
          "model_name": "HTMLModel",
          "model_module_version": "1.5.0",
          "state": {
            "_dom_classes": [],
            "_model_module": "@jupyter-widgets/controls",
            "_model_module_version": "1.5.0",
            "_model_name": "HTMLModel",
            "_view_count": null,
            "_view_module": "@jupyter-widgets/controls",
            "_view_module_version": "1.5.0",
            "_view_name": "HTMLView",
            "description": "",
            "description_tooltip": null,
            "layout": "IPY_MODEL_d87efe8312834f79bf91e4ecd66ddaef",
            "placeholder": "​",
            "style": "IPY_MODEL_0ed7482baad24752bcd4f6eb8fc9d663",
            "value": "Downloading (…)okenizer_config.json: 100%"
          }
        },
        "0448136c5a924bb188f81522bdf095e5": {
          "model_module": "@jupyter-widgets/controls",
          "model_name": "FloatProgressModel",
          "model_module_version": "1.5.0",
          "state": {
            "_dom_classes": [],
            "_model_module": "@jupyter-widgets/controls",
            "_model_module_version": "1.5.0",
            "_model_name": "FloatProgressModel",
            "_view_count": null,
            "_view_module": "@jupyter-widgets/controls",
            "_view_module_version": "1.5.0",
            "_view_name": "ProgressView",
            "bar_style": "success",
            "description": "",
            "description_tooltip": null,
            "layout": "IPY_MODEL_5f7af35c73ca423fa82c69348ea89e8e",
            "max": 28,
            "min": 0,
            "orientation": "horizontal",
            "style": "IPY_MODEL_9639ad59fd424b4c9d6d37ad55accf5a",
            "value": 28
          }
        },
        "907c59a01bdc48b48a05c7327f16b4c1": {
          "model_module": "@jupyter-widgets/controls",
          "model_name": "HTMLModel",
          "model_module_version": "1.5.0",
          "state": {
            "_dom_classes": [],
            "_model_module": "@jupyter-widgets/controls",
            "_model_module_version": "1.5.0",
            "_model_name": "HTMLModel",
            "_view_count": null,
            "_view_module": "@jupyter-widgets/controls",
            "_view_module_version": "1.5.0",
            "_view_name": "HTMLView",
            "description": "",
            "description_tooltip": null,
            "layout": "IPY_MODEL_21354d62245d404c8c6577ed99d1da70",
            "placeholder": "​",
            "style": "IPY_MODEL_c11dbd3c6cee421ba1b6d9d7092c512e",
            "value": " 28.0/28.0 [00:00&lt;00:00, 655B/s]"
          }
        },
        "ff1da894241b443d80ad5c37d611ca61": {
          "model_module": "@jupyter-widgets/base",
          "model_name": "LayoutModel",
          "model_module_version": "1.2.0",
          "state": {
            "_model_module": "@jupyter-widgets/base",
            "_model_module_version": "1.2.0",
            "_model_name": "LayoutModel",
            "_view_count": null,
            "_view_module": "@jupyter-widgets/base",
            "_view_module_version": "1.2.0",
            "_view_name": "LayoutView",
            "align_content": null,
            "align_items": null,
            "align_self": null,
            "border": null,
            "bottom": null,
            "display": null,
            "flex": null,
            "flex_flow": null,
            "grid_area": null,
            "grid_auto_columns": null,
            "grid_auto_flow": null,
            "grid_auto_rows": null,
            "grid_column": null,
            "grid_gap": null,
            "grid_row": null,
            "grid_template_areas": null,
            "grid_template_columns": null,
            "grid_template_rows": null,
            "height": null,
            "justify_content": null,
            "justify_items": null,
            "left": null,
            "margin": null,
            "max_height": null,
            "max_width": null,
            "min_height": null,
            "min_width": null,
            "object_fit": null,
            "object_position": null,
            "order": null,
            "overflow": null,
            "overflow_x": null,
            "overflow_y": null,
            "padding": null,
            "right": null,
            "top": null,
            "visibility": null,
            "width": null
          }
        },
        "d87efe8312834f79bf91e4ecd66ddaef": {
          "model_module": "@jupyter-widgets/base",
          "model_name": "LayoutModel",
          "model_module_version": "1.2.0",
          "state": {
            "_model_module": "@jupyter-widgets/base",
            "_model_module_version": "1.2.0",
            "_model_name": "LayoutModel",
            "_view_count": null,
            "_view_module": "@jupyter-widgets/base",
            "_view_module_version": "1.2.0",
            "_view_name": "LayoutView",
            "align_content": null,
            "align_items": null,
            "align_self": null,
            "border": null,
            "bottom": null,
            "display": null,
            "flex": null,
            "flex_flow": null,
            "grid_area": null,
            "grid_auto_columns": null,
            "grid_auto_flow": null,
            "grid_auto_rows": null,
            "grid_column": null,
            "grid_gap": null,
            "grid_row": null,
            "grid_template_areas": null,
            "grid_template_columns": null,
            "grid_template_rows": null,
            "height": null,
            "justify_content": null,
            "justify_items": null,
            "left": null,
            "margin": null,
            "max_height": null,
            "max_width": null,
            "min_height": null,
            "min_width": null,
            "object_fit": null,
            "object_position": null,
            "order": null,
            "overflow": null,
            "overflow_x": null,
            "overflow_y": null,
            "padding": null,
            "right": null,
            "top": null,
            "visibility": null,
            "width": null
          }
        },
        "0ed7482baad24752bcd4f6eb8fc9d663": {
          "model_module": "@jupyter-widgets/controls",
          "model_name": "DescriptionStyleModel",
          "model_module_version": "1.5.0",
          "state": {
            "_model_module": "@jupyter-widgets/controls",
            "_model_module_version": "1.5.0",
            "_model_name": "DescriptionStyleModel",
            "_view_count": null,
            "_view_module": "@jupyter-widgets/base",
            "_view_module_version": "1.2.0",
            "_view_name": "StyleView",
            "description_width": ""
          }
        },
        "5f7af35c73ca423fa82c69348ea89e8e": {
          "model_module": "@jupyter-widgets/base",
          "model_name": "LayoutModel",
          "model_module_version": "1.2.0",
          "state": {
            "_model_module": "@jupyter-widgets/base",
            "_model_module_version": "1.2.0",
            "_model_name": "LayoutModel",
            "_view_count": null,
            "_view_module": "@jupyter-widgets/base",
            "_view_module_version": "1.2.0",
            "_view_name": "LayoutView",
            "align_content": null,
            "align_items": null,
            "align_self": null,
            "border": null,
            "bottom": null,
            "display": null,
            "flex": null,
            "flex_flow": null,
            "grid_area": null,
            "grid_auto_columns": null,
            "grid_auto_flow": null,
            "grid_auto_rows": null,
            "grid_column": null,
            "grid_gap": null,
            "grid_row": null,
            "grid_template_areas": null,
            "grid_template_columns": null,
            "grid_template_rows": null,
            "height": null,
            "justify_content": null,
            "justify_items": null,
            "left": null,
            "margin": null,
            "max_height": null,
            "max_width": null,
            "min_height": null,
            "min_width": null,
            "object_fit": null,
            "object_position": null,
            "order": null,
            "overflow": null,
            "overflow_x": null,
            "overflow_y": null,
            "padding": null,
            "right": null,
            "top": null,
            "visibility": null,
            "width": null
          }
        },
        "9639ad59fd424b4c9d6d37ad55accf5a": {
          "model_module": "@jupyter-widgets/controls",
          "model_name": "ProgressStyleModel",
          "model_module_version": "1.5.0",
          "state": {
            "_model_module": "@jupyter-widgets/controls",
            "_model_module_version": "1.5.0",
            "_model_name": "ProgressStyleModel",
            "_view_count": null,
            "_view_module": "@jupyter-widgets/base",
            "_view_module_version": "1.2.0",
            "_view_name": "StyleView",
            "bar_color": null,
            "description_width": ""
          }
        },
        "21354d62245d404c8c6577ed99d1da70": {
          "model_module": "@jupyter-widgets/base",
          "model_name": "LayoutModel",
          "model_module_version": "1.2.0",
          "state": {
            "_model_module": "@jupyter-widgets/base",
            "_model_module_version": "1.2.0",
            "_model_name": "LayoutModel",
            "_view_count": null,
            "_view_module": "@jupyter-widgets/base",
            "_view_module_version": "1.2.0",
            "_view_name": "LayoutView",
            "align_content": null,
            "align_items": null,
            "align_self": null,
            "border": null,
            "bottom": null,
            "display": null,
            "flex": null,
            "flex_flow": null,
            "grid_area": null,
            "grid_auto_columns": null,
            "grid_auto_flow": null,
            "grid_auto_rows": null,
            "grid_column": null,
            "grid_gap": null,
            "grid_row": null,
            "grid_template_areas": null,
            "grid_template_columns": null,
            "grid_template_rows": null,
            "height": null,
            "justify_content": null,
            "justify_items": null,
            "left": null,
            "margin": null,
            "max_height": null,
            "max_width": null,
            "min_height": null,
            "min_width": null,
            "object_fit": null,
            "object_position": null,
            "order": null,
            "overflow": null,
            "overflow_x": null,
            "overflow_y": null,
            "padding": null,
            "right": null,
            "top": null,
            "visibility": null,
            "width": null
          }
        },
        "c11dbd3c6cee421ba1b6d9d7092c512e": {
          "model_module": "@jupyter-widgets/controls",
          "model_name": "DescriptionStyleModel",
          "model_module_version": "1.5.0",
          "state": {
            "_model_module": "@jupyter-widgets/controls",
            "_model_module_version": "1.5.0",
            "_model_name": "DescriptionStyleModel",
            "_view_count": null,
            "_view_module": "@jupyter-widgets/base",
            "_view_module_version": "1.2.0",
            "_view_name": "StyleView",
            "description_width": ""
          }
        },
        "0e09ef181660497ba5d18cf7f4e8f8bb": {
          "model_module": "@jupyter-widgets/controls",
          "model_name": "HBoxModel",
          "model_module_version": "1.5.0",
          "state": {
            "_dom_classes": [],
            "_model_module": "@jupyter-widgets/controls",
            "_model_module_version": "1.5.0",
            "_model_name": "HBoxModel",
            "_view_count": null,
            "_view_module": "@jupyter-widgets/controls",
            "_view_module_version": "1.5.0",
            "_view_name": "HBoxView",
            "box_style": "",
            "children": [
              "IPY_MODEL_0041c9ee087645059882c26165953ec0",
              "IPY_MODEL_c1b5d709140f46c59cd77436fc9238cf",
              "IPY_MODEL_25619ec53e934261a604c1be635264b7"
            ],
            "layout": "IPY_MODEL_81d45f7766ff42329797b1a659934dbf"
          }
        },
        "0041c9ee087645059882c26165953ec0": {
          "model_module": "@jupyter-widgets/controls",
          "model_name": "HTMLModel",
          "model_module_version": "1.5.0",
          "state": {
            "_dom_classes": [],
            "_model_module": "@jupyter-widgets/controls",
            "_model_module_version": "1.5.0",
            "_model_name": "HTMLModel",
            "_view_count": null,
            "_view_module": "@jupyter-widgets/controls",
            "_view_module_version": "1.5.0",
            "_view_name": "HTMLView",
            "description": "",
            "description_tooltip": null,
            "layout": "IPY_MODEL_dd122093b34941188b8f5ca8aed31e6a",
            "placeholder": "​",
            "style": "IPY_MODEL_54860950b14849d3a4f2f50f59175bfd",
            "value": "Downloading (…)lve/main/config.json: 100%"
          }
        },
        "c1b5d709140f46c59cd77436fc9238cf": {
          "model_module": "@jupyter-widgets/controls",
          "model_name": "FloatProgressModel",
          "model_module_version": "1.5.0",
          "state": {
            "_dom_classes": [],
            "_model_module": "@jupyter-widgets/controls",
            "_model_module_version": "1.5.0",
            "_model_name": "FloatProgressModel",
            "_view_count": null,
            "_view_module": "@jupyter-widgets/controls",
            "_view_module_version": "1.5.0",
            "_view_name": "ProgressView",
            "bar_style": "success",
            "description": "",
            "description_tooltip": null,
            "layout": "IPY_MODEL_8b60333409884201a63534b7f8c43b64",
            "max": 483,
            "min": 0,
            "orientation": "horizontal",
            "style": "IPY_MODEL_5603c6026d504c10a55eebd72f1de9a1",
            "value": 483
          }
        },
        "25619ec53e934261a604c1be635264b7": {
          "model_module": "@jupyter-widgets/controls",
          "model_name": "HTMLModel",
          "model_module_version": "1.5.0",
          "state": {
            "_dom_classes": [],
            "_model_module": "@jupyter-widgets/controls",
            "_model_module_version": "1.5.0",
            "_model_name": "HTMLModel",
            "_view_count": null,
            "_view_module": "@jupyter-widgets/controls",
            "_view_module_version": "1.5.0",
            "_view_name": "HTMLView",
            "description": "",
            "description_tooltip": null,
            "layout": "IPY_MODEL_5370a32c063347ea8eaa44c562481535",
            "placeholder": "​",
            "style": "IPY_MODEL_48b8e4cb88e74e72946a431fa54edc7a",
            "value": " 483/483 [00:00&lt;00:00, 16.6kB/s]"
          }
        },
        "81d45f7766ff42329797b1a659934dbf": {
          "model_module": "@jupyter-widgets/base",
          "model_name": "LayoutModel",
          "model_module_version": "1.2.0",
          "state": {
            "_model_module": "@jupyter-widgets/base",
            "_model_module_version": "1.2.0",
            "_model_name": "LayoutModel",
            "_view_count": null,
            "_view_module": "@jupyter-widgets/base",
            "_view_module_version": "1.2.0",
            "_view_name": "LayoutView",
            "align_content": null,
            "align_items": null,
            "align_self": null,
            "border": null,
            "bottom": null,
            "display": null,
            "flex": null,
            "flex_flow": null,
            "grid_area": null,
            "grid_auto_columns": null,
            "grid_auto_flow": null,
            "grid_auto_rows": null,
            "grid_column": null,
            "grid_gap": null,
            "grid_row": null,
            "grid_template_areas": null,
            "grid_template_columns": null,
            "grid_template_rows": null,
            "height": null,
            "justify_content": null,
            "justify_items": null,
            "left": null,
            "margin": null,
            "max_height": null,
            "max_width": null,
            "min_height": null,
            "min_width": null,
            "object_fit": null,
            "object_position": null,
            "order": null,
            "overflow": null,
            "overflow_x": null,
            "overflow_y": null,
            "padding": null,
            "right": null,
            "top": null,
            "visibility": null,
            "width": null
          }
        },
        "dd122093b34941188b8f5ca8aed31e6a": {
          "model_module": "@jupyter-widgets/base",
          "model_name": "LayoutModel",
          "model_module_version": "1.2.0",
          "state": {
            "_model_module": "@jupyter-widgets/base",
            "_model_module_version": "1.2.0",
            "_model_name": "LayoutModel",
            "_view_count": null,
            "_view_module": "@jupyter-widgets/base",
            "_view_module_version": "1.2.0",
            "_view_name": "LayoutView",
            "align_content": null,
            "align_items": null,
            "align_self": null,
            "border": null,
            "bottom": null,
            "display": null,
            "flex": null,
            "flex_flow": null,
            "grid_area": null,
            "grid_auto_columns": null,
            "grid_auto_flow": null,
            "grid_auto_rows": null,
            "grid_column": null,
            "grid_gap": null,
            "grid_row": null,
            "grid_template_areas": null,
            "grid_template_columns": null,
            "grid_template_rows": null,
            "height": null,
            "justify_content": null,
            "justify_items": null,
            "left": null,
            "margin": null,
            "max_height": null,
            "max_width": null,
            "min_height": null,
            "min_width": null,
            "object_fit": null,
            "object_position": null,
            "order": null,
            "overflow": null,
            "overflow_x": null,
            "overflow_y": null,
            "padding": null,
            "right": null,
            "top": null,
            "visibility": null,
            "width": null
          }
        },
        "54860950b14849d3a4f2f50f59175bfd": {
          "model_module": "@jupyter-widgets/controls",
          "model_name": "DescriptionStyleModel",
          "model_module_version": "1.5.0",
          "state": {
            "_model_module": "@jupyter-widgets/controls",
            "_model_module_version": "1.5.0",
            "_model_name": "DescriptionStyleModel",
            "_view_count": null,
            "_view_module": "@jupyter-widgets/base",
            "_view_module_version": "1.2.0",
            "_view_name": "StyleView",
            "description_width": ""
          }
        },
        "8b60333409884201a63534b7f8c43b64": {
          "model_module": "@jupyter-widgets/base",
          "model_name": "LayoutModel",
          "model_module_version": "1.2.0",
          "state": {
            "_model_module": "@jupyter-widgets/base",
            "_model_module_version": "1.2.0",
            "_model_name": "LayoutModel",
            "_view_count": null,
            "_view_module": "@jupyter-widgets/base",
            "_view_module_version": "1.2.0",
            "_view_name": "LayoutView",
            "align_content": null,
            "align_items": null,
            "align_self": null,
            "border": null,
            "bottom": null,
            "display": null,
            "flex": null,
            "flex_flow": null,
            "grid_area": null,
            "grid_auto_columns": null,
            "grid_auto_flow": null,
            "grid_auto_rows": null,
            "grid_column": null,
            "grid_gap": null,
            "grid_row": null,
            "grid_template_areas": null,
            "grid_template_columns": null,
            "grid_template_rows": null,
            "height": null,
            "justify_content": null,
            "justify_items": null,
            "left": null,
            "margin": null,
            "max_height": null,
            "max_width": null,
            "min_height": null,
            "min_width": null,
            "object_fit": null,
            "object_position": null,
            "order": null,
            "overflow": null,
            "overflow_x": null,
            "overflow_y": null,
            "padding": null,
            "right": null,
            "top": null,
            "visibility": null,
            "width": null
          }
        },
        "5603c6026d504c10a55eebd72f1de9a1": {
          "model_module": "@jupyter-widgets/controls",
          "model_name": "ProgressStyleModel",
          "model_module_version": "1.5.0",
          "state": {
            "_model_module": "@jupyter-widgets/controls",
            "_model_module_version": "1.5.0",
            "_model_name": "ProgressStyleModel",
            "_view_count": null,
            "_view_module": "@jupyter-widgets/base",
            "_view_module_version": "1.2.0",
            "_view_name": "StyleView",
            "bar_color": null,
            "description_width": ""
          }
        },
        "5370a32c063347ea8eaa44c562481535": {
          "model_module": "@jupyter-widgets/base",
          "model_name": "LayoutModel",
          "model_module_version": "1.2.0",
          "state": {
            "_model_module": "@jupyter-widgets/base",
            "_model_module_version": "1.2.0",
            "_model_name": "LayoutModel",
            "_view_count": null,
            "_view_module": "@jupyter-widgets/base",
            "_view_module_version": "1.2.0",
            "_view_name": "LayoutView",
            "align_content": null,
            "align_items": null,
            "align_self": null,
            "border": null,
            "bottom": null,
            "display": null,
            "flex": null,
            "flex_flow": null,
            "grid_area": null,
            "grid_auto_columns": null,
            "grid_auto_flow": null,
            "grid_auto_rows": null,
            "grid_column": null,
            "grid_gap": null,
            "grid_row": null,
            "grid_template_areas": null,
            "grid_template_columns": null,
            "grid_template_rows": null,
            "height": null,
            "justify_content": null,
            "justify_items": null,
            "left": null,
            "margin": null,
            "max_height": null,
            "max_width": null,
            "min_height": null,
            "min_width": null,
            "object_fit": null,
            "object_position": null,
            "order": null,
            "overflow": null,
            "overflow_x": null,
            "overflow_y": null,
            "padding": null,
            "right": null,
            "top": null,
            "visibility": null,
            "width": null
          }
        },
        "48b8e4cb88e74e72946a431fa54edc7a": {
          "model_module": "@jupyter-widgets/controls",
          "model_name": "DescriptionStyleModel",
          "model_module_version": "1.5.0",
          "state": {
            "_model_module": "@jupyter-widgets/controls",
            "_model_module_version": "1.5.0",
            "_model_name": "DescriptionStyleModel",
            "_view_count": null,
            "_view_module": "@jupyter-widgets/base",
            "_view_module_version": "1.2.0",
            "_view_name": "StyleView",
            "description_width": ""
          }
        },
        "124321e5413c464aa596b817d3cb40c0": {
          "model_module": "@jupyter-widgets/controls",
          "model_name": "HBoxModel",
          "model_module_version": "1.5.0",
          "state": {
            "_dom_classes": [],
            "_model_module": "@jupyter-widgets/controls",
            "_model_module_version": "1.5.0",
            "_model_name": "HBoxModel",
            "_view_count": null,
            "_view_module": "@jupyter-widgets/controls",
            "_view_module_version": "1.5.0",
            "_view_name": "HBoxView",
            "box_style": "",
            "children": [
              "IPY_MODEL_c65a372e894b420b84d7efa040654d8a",
              "IPY_MODEL_84a9ccb89fc149418b4f257d70457807",
              "IPY_MODEL_09985b12573e47bfa76fb77b6405cbac"
            ],
            "layout": "IPY_MODEL_a8757fbf3e9443aeb921b4e306363753"
          }
        },
        "c65a372e894b420b84d7efa040654d8a": {
          "model_module": "@jupyter-widgets/controls",
          "model_name": "HTMLModel",
          "model_module_version": "1.5.0",
          "state": {
            "_dom_classes": [],
            "_model_module": "@jupyter-widgets/controls",
            "_model_module_version": "1.5.0",
            "_model_name": "HTMLModel",
            "_view_count": null,
            "_view_module": "@jupyter-widgets/controls",
            "_view_module_version": "1.5.0",
            "_view_name": "HTMLView",
            "description": "",
            "description_tooltip": null,
            "layout": "IPY_MODEL_7924b6ee66bc4fe9bae0ee9cdefdc546",
            "placeholder": "​",
            "style": "IPY_MODEL_3199a0054dfa4fd884406a1fcca29859",
            "value": "Downloading tf_model.h5: 100%"
          }
        },
        "84a9ccb89fc149418b4f257d70457807": {
          "model_module": "@jupyter-widgets/controls",
          "model_name": "FloatProgressModel",
          "model_module_version": "1.5.0",
          "state": {
            "_dom_classes": [],
            "_model_module": "@jupyter-widgets/controls",
            "_model_module_version": "1.5.0",
            "_model_name": "FloatProgressModel",
            "_view_count": null,
            "_view_module": "@jupyter-widgets/controls",
            "_view_module_version": "1.5.0",
            "_view_name": "ProgressView",
            "bar_style": "success",
            "description": "",
            "description_tooltip": null,
            "layout": "IPY_MODEL_cc57fc77f6a042e1b2185e04945d9b5a",
            "max": 363423424,
            "min": 0,
            "orientation": "horizontal",
            "style": "IPY_MODEL_dc6303c3d0a241399a8e8c2e7ba89ecc",
            "value": 363423424
          }
        },
        "09985b12573e47bfa76fb77b6405cbac": {
          "model_module": "@jupyter-widgets/controls",
          "model_name": "HTMLModel",
          "model_module_version": "1.5.0",
          "state": {
            "_dom_classes": [],
            "_model_module": "@jupyter-widgets/controls",
            "_model_module_version": "1.5.0",
            "_model_name": "HTMLModel",
            "_view_count": null,
            "_view_module": "@jupyter-widgets/controls",
            "_view_module_version": "1.5.0",
            "_view_name": "HTMLView",
            "description": "",
            "description_tooltip": null,
            "layout": "IPY_MODEL_11220710e99c4fbe9c8b744a2741ec56",
            "placeholder": "​",
            "style": "IPY_MODEL_55598e9024494329b497c6efcf1d9c39",
            "value": " 363M/363M [00:05&lt;00:00, 88.4MB/s]"
          }
        },
        "a8757fbf3e9443aeb921b4e306363753": {
          "model_module": "@jupyter-widgets/base",
          "model_name": "LayoutModel",
          "model_module_version": "1.2.0",
          "state": {
            "_model_module": "@jupyter-widgets/base",
            "_model_module_version": "1.2.0",
            "_model_name": "LayoutModel",
            "_view_count": null,
            "_view_module": "@jupyter-widgets/base",
            "_view_module_version": "1.2.0",
            "_view_name": "LayoutView",
            "align_content": null,
            "align_items": null,
            "align_self": null,
            "border": null,
            "bottom": null,
            "display": null,
            "flex": null,
            "flex_flow": null,
            "grid_area": null,
            "grid_auto_columns": null,
            "grid_auto_flow": null,
            "grid_auto_rows": null,
            "grid_column": null,
            "grid_gap": null,
            "grid_row": null,
            "grid_template_areas": null,
            "grid_template_columns": null,
            "grid_template_rows": null,
            "height": null,
            "justify_content": null,
            "justify_items": null,
            "left": null,
            "margin": null,
            "max_height": null,
            "max_width": null,
            "min_height": null,
            "min_width": null,
            "object_fit": null,
            "object_position": null,
            "order": null,
            "overflow": null,
            "overflow_x": null,
            "overflow_y": null,
            "padding": null,
            "right": null,
            "top": null,
            "visibility": null,
            "width": null
          }
        },
        "7924b6ee66bc4fe9bae0ee9cdefdc546": {
          "model_module": "@jupyter-widgets/base",
          "model_name": "LayoutModel",
          "model_module_version": "1.2.0",
          "state": {
            "_model_module": "@jupyter-widgets/base",
            "_model_module_version": "1.2.0",
            "_model_name": "LayoutModel",
            "_view_count": null,
            "_view_module": "@jupyter-widgets/base",
            "_view_module_version": "1.2.0",
            "_view_name": "LayoutView",
            "align_content": null,
            "align_items": null,
            "align_self": null,
            "border": null,
            "bottom": null,
            "display": null,
            "flex": null,
            "flex_flow": null,
            "grid_area": null,
            "grid_auto_columns": null,
            "grid_auto_flow": null,
            "grid_auto_rows": null,
            "grid_column": null,
            "grid_gap": null,
            "grid_row": null,
            "grid_template_areas": null,
            "grid_template_columns": null,
            "grid_template_rows": null,
            "height": null,
            "justify_content": null,
            "justify_items": null,
            "left": null,
            "margin": null,
            "max_height": null,
            "max_width": null,
            "min_height": null,
            "min_width": null,
            "object_fit": null,
            "object_position": null,
            "order": null,
            "overflow": null,
            "overflow_x": null,
            "overflow_y": null,
            "padding": null,
            "right": null,
            "top": null,
            "visibility": null,
            "width": null
          }
        },
        "3199a0054dfa4fd884406a1fcca29859": {
          "model_module": "@jupyter-widgets/controls",
          "model_name": "DescriptionStyleModel",
          "model_module_version": "1.5.0",
          "state": {
            "_model_module": "@jupyter-widgets/controls",
            "_model_module_version": "1.5.0",
            "_model_name": "DescriptionStyleModel",
            "_view_count": null,
            "_view_module": "@jupyter-widgets/base",
            "_view_module_version": "1.2.0",
            "_view_name": "StyleView",
            "description_width": ""
          }
        },
        "cc57fc77f6a042e1b2185e04945d9b5a": {
          "model_module": "@jupyter-widgets/base",
          "model_name": "LayoutModel",
          "model_module_version": "1.2.0",
          "state": {
            "_model_module": "@jupyter-widgets/base",
            "_model_module_version": "1.2.0",
            "_model_name": "LayoutModel",
            "_view_count": null,
            "_view_module": "@jupyter-widgets/base",
            "_view_module_version": "1.2.0",
            "_view_name": "LayoutView",
            "align_content": null,
            "align_items": null,
            "align_self": null,
            "border": null,
            "bottom": null,
            "display": null,
            "flex": null,
            "flex_flow": null,
            "grid_area": null,
            "grid_auto_columns": null,
            "grid_auto_flow": null,
            "grid_auto_rows": null,
            "grid_column": null,
            "grid_gap": null,
            "grid_row": null,
            "grid_template_areas": null,
            "grid_template_columns": null,
            "grid_template_rows": null,
            "height": null,
            "justify_content": null,
            "justify_items": null,
            "left": null,
            "margin": null,
            "max_height": null,
            "max_width": null,
            "min_height": null,
            "min_width": null,
            "object_fit": null,
            "object_position": null,
            "order": null,
            "overflow": null,
            "overflow_x": null,
            "overflow_y": null,
            "padding": null,
            "right": null,
            "top": null,
            "visibility": null,
            "width": null
          }
        },
        "dc6303c3d0a241399a8e8c2e7ba89ecc": {
          "model_module": "@jupyter-widgets/controls",
          "model_name": "ProgressStyleModel",
          "model_module_version": "1.5.0",
          "state": {
            "_model_module": "@jupyter-widgets/controls",
            "_model_module_version": "1.5.0",
            "_model_name": "ProgressStyleModel",
            "_view_count": null,
            "_view_module": "@jupyter-widgets/base",
            "_view_module_version": "1.2.0",
            "_view_name": "StyleView",
            "bar_color": null,
            "description_width": ""
          }
        },
        "11220710e99c4fbe9c8b744a2741ec56": {
          "model_module": "@jupyter-widgets/base",
          "model_name": "LayoutModel",
          "model_module_version": "1.2.0",
          "state": {
            "_model_module": "@jupyter-widgets/base",
            "_model_module_version": "1.2.0",
            "_model_name": "LayoutModel",
            "_view_count": null,
            "_view_module": "@jupyter-widgets/base",
            "_view_module_version": "1.2.0",
            "_view_name": "LayoutView",
            "align_content": null,
            "align_items": null,
            "align_self": null,
            "border": null,
            "bottom": null,
            "display": null,
            "flex": null,
            "flex_flow": null,
            "grid_area": null,
            "grid_auto_columns": null,
            "grid_auto_flow": null,
            "grid_auto_rows": null,
            "grid_column": null,
            "grid_gap": null,
            "grid_row": null,
            "grid_template_areas": null,
            "grid_template_columns": null,
            "grid_template_rows": null,
            "height": null,
            "justify_content": null,
            "justify_items": null,
            "left": null,
            "margin": null,
            "max_height": null,
            "max_width": null,
            "min_height": null,
            "min_width": null,
            "object_fit": null,
            "object_position": null,
            "order": null,
            "overflow": null,
            "overflow_x": null,
            "overflow_y": null,
            "padding": null,
            "right": null,
            "top": null,
            "visibility": null,
            "width": null
          }
        },
        "55598e9024494329b497c6efcf1d9c39": {
          "model_module": "@jupyter-widgets/controls",
          "model_name": "DescriptionStyleModel",
          "model_module_version": "1.5.0",
          "state": {
            "_model_module": "@jupyter-widgets/controls",
            "_model_module_version": "1.5.0",
            "_model_name": "DescriptionStyleModel",
            "_view_count": null,
            "_view_module": "@jupyter-widgets/base",
            "_view_module_version": "1.2.0",
            "_view_name": "StyleView",
            "description_width": ""
          }
        }
      }
    }
  },
  "nbformat": 4,
  "nbformat_minor": 0
}